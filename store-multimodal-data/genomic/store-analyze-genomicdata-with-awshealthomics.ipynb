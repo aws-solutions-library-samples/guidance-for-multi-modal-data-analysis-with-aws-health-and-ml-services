{
 "cells": [
  {
   "cell_type": "markdown",
   "id": "f9472cd9",
   "metadata": {},
   "source": []
  },
  {
   "cell_type": "markdown",
   "id": "3c8ef7a7",
   "metadata": {},
   "source": [
    "# Create AWS HealthOmics Analytic Stores to Import Genomic Data and Run Queries"
   ]
  },
  {
   "cell_type": "markdown",
   "id": "85d3918d",
   "metadata": {},
   "source": [
    "Follow steps in this notebook to:\n",
    "1. create AWS HealthOmics Reference, Variant, and Annotation Stores\n",
    "2. import reference genome, variant files, and ClinVar annotation file from S3 to the respective data stores\n",
    "3. query the variant and annotation data. "
   ]
  },
  {
   "cell_type": "markdown",
   "id": "aef34065",
   "metadata": {},
   "source": [
    "## Prerequisites and package dependencies"
   ]
  },
  {
   "cell_type": "code",
   "execution_count": null,
   "id": "fee6df5c",
   "metadata": {},
   "outputs": [],
   "source": [
    "!pip install awswrangler"
   ]
  },
  {
   "cell_type": "code",
   "execution_count": 1,
   "id": "2dee102e",
   "metadata": {
    "tags": []
   },
   "outputs": [],
   "source": [
    "from datetime import datetime\n",
    "from pprint import pprint\n",
    "import urllib\n",
    "\n",
    "import boto3\n",
    "import botocore.exceptions\n",
    "\n",
    "from utils import *"
   ]
  },
  {
   "cell_type": "markdown",
   "id": "86a19a6d",
   "metadata": {},
   "source": [
    "### Create service role"
   ]
  },
  {
   "cell_type": "code",
   "execution_count": 2,
   "id": "a036d0a8",
   "metadata": {
    "jupyter": {
     "source_hidden": true
    },
    "tags": []
   },
   "outputs": [],
   "source": [
    "# set a timestamp\n",
    "dt_fmt = '%Y%m%dT%H%M%S'\n",
    "ts = datetime.now().strftime(dt_fmt)\n",
    "\n",
    "policy = {\n",
    "  \"Version\": \"2012-10-17\",\n",
    "  \"Statement\": [\n",
    "    {\n",
    "      \"Effect\": \"Allow\",\n",
    "      \"Action\": [\n",
    "        \"omics:*\"\n",
    "      ],\n",
    "      \"Resource\": \"*\"\n",
    "    },\n",
    "    {\n",
    "      \"Effect\": \"Allow\",\n",
    "      \"Action\": [\n",
    "        \"ram:AcceptResourceShareInvitation\",\n",
    "        \"ram:GetResourceShareInvitations\"\n",
    "      ],\n",
    "      \"Resource\": \"*\"\n",
    "    },\n",
    "    {\n",
    "      \"Effect\": \"Allow\",\n",
    "      \"Action\": [\n",
    "        \"s3:GetBucketLocation\",\n",
    "        \"s3:PutObject\",\n",
    "        \"s3:GetObject\",\n",
    "        \"s3:ListBucket\",\n",
    "        \"s3:AbortMultipartUpload\",\n",
    "        \"s3:ListMultipartUploadParts\",\n",
    "        \"s3:GetObjectAcl\",\n",
    "        \"s3:PutObjectAcl\"\n",
    "      ],\n",
    "      \"Resource\": \"*\"\n",
    "    }\n",
    "  ]\n",
    "}\n",
    "\n",
    "trust_policy = {\n",
    "    \"Version\": \"2012-10-17\",\n",
    "    \"Statement\": [\n",
    "        {\n",
    "            \"Effect\": \"Allow\",\n",
    "            \"Principal\": {\n",
    "                \"Service\": \"omics.amazonaws.com\"\n",
    "            },\n",
    "            \"Action\": \"sts:AssumeRole\"\n",
    "        }\n",
    "    ]\n",
    "}"
   ]
  },
  {
   "cell_type": "code",
   "execution_count": 3,
   "id": "9eb174a7",
   "metadata": {
    "tags": []
   },
   "outputs": [],
   "source": [
    "# Base name for role and policy\n",
    "omics_iam_name = f'multimodal-omics-{ts}'\n",
    "create_omics_role(omics_iam_name, policy, trust_policy)"
   ]
  },
  {
   "cell_type": "markdown",
   "id": "d7243a7e",
   "metadata": {},
   "source": [
    "### Create Omics client"
   ]
  },
  {
   "cell_type": "code",
   "execution_count": 5,
   "id": "c02fcf1f",
   "metadata": {
    "tags": []
   },
   "outputs": [],
   "source": [
    "omics = boto3.client('omics', region_name='us-east-1')"
   ]
  },
  {
   "cell_type": "markdown",
   "id": "94b5014a",
   "metadata": {},
   "source": [
    "### Source data\n",
    "Set the source data bucket to the regional replica of the Synthea Coherent dataset. If you want to use different source data, replace the bucket name here and any S3 URIs where it is used in the rest of the notebook."
   ]
  },
  {
   "cell_type": "code",
   "execution_count": null,
   "id": "9bfd290d",
   "metadata": {},
   "outputs": [],
   "source": [
    "SOURCE_BUCKET_NAME = f\"guidance-multimodal-hcls-healthai-machinelearning-{omics.meta.region_name}\""
   ]
  },
  {
   "cell_type": "markdown",
   "id": "adda409b",
   "metadata": {},
   "source": [
    "## Create reference store and import reference genome"
   ]
  },
  {
   "cell_type": "markdown",
   "id": "ec7c48f4",
   "metadata": {},
   "source": [
    "### Create reference store "
   ]
  },
  {
   "cell_type": "code",
   "execution_count": 6,
   "id": "a3071ab4",
   "metadata": {
    "tags": []
   },
   "outputs": [
    {
     "name": "stdout",
     "output_type": "stream",
     "text": [
      "Checking for a reference store in region: us-east-1\n",
      "Congratulations, you have an existing reference store!\n"
     ]
    }
   ],
   "source": [
    "print(f\"Checking for a reference store in region: {omics.meta.region_name}\")\n",
    "if get_ref_store_id(omics) == None:\n",
    "    response = omics.create_reference_store(name='myReferenceStore')\n",
    "    print(response)\n",
    "else:\n",
    "    print(\"Congratulations, you have an existing reference store!\")"
   ]
  },
  {
   "cell_type": "markdown",
   "id": "9aee28d4",
   "metadata": {},
   "source": [
    "### Import reference genome to reference store"
   ]
  },
  {
   "cell_type": "code",
   "execution_count": 4,
   "id": "161d02b0",
   "metadata": {
    "tags": []
   },
   "outputs": [],
   "source": [
    "SOURCE_S3_URIS = {\n",
    "    \"reference\": f\"s3://{SOURCE_BUCKET_NAME}/genomic/reference/hg19.fa\"\n",
    "}"
   ]
  },
  {
   "cell_type": "code",
   "execution_count": 7,
   "id": "6bf75b4f",
   "metadata": {
    "tags": []
   },
   "outputs": [],
   "source": [
    "# If using a different reference genomem, replace \"hg19\" with a different prefix\n",
    "\n",
    "ref_name = f'hg19-{ts}'\n",
    "\n",
    "ref_import_job = omics.start_reference_import_job(\n",
    "    referenceStoreId=get_ref_store_id(omics), \n",
    "    roleArn=get_role_arn(omics_iam_name),\n",
    "    sources=[{\n",
    "        'sourceFile': SOURCE_S3_URIS[\"reference\"],\n",
    "        'name': ref_name,\n",
    "        'tags': {'SourceLocation': '1kg'}\n",
    "    }])"
   ]
  },
  {
   "cell_type": "code",
   "execution_count": null,
   "id": "219c738a",
   "metadata": {
    "tags": []
   },
   "outputs": [],
   "source": [
    "ref_import_job = omics.get_reference_import_job(\n",
    "    referenceStoreId=get_ref_store_id(omics), \n",
    "    id=ref_import_job['id'])\n",
    "ref_import_job"
   ]
  },
  {
   "cell_type": "code",
   "execution_count": null,
   "id": "5e1b56ff-92db-4db7-8e5f-f51f5733b557",
   "metadata": {
    "tags": []
   },
   "outputs": [],
   "source": [
    "try:\n",
    "    waiter = omics.get_waiter('reference_import_job_completed')\n",
    "    waiter.wait(id=ref_import_job['id'], referenceStoreId=ref_import_job['referenceStoreId'])\n",
    "    \n",
    "    print(f\"reference import job {ref_import_job['id']} complete\")\n",
    "except botocore.exceptions.WaiterError as e:\n",
    "    print(f\"reference import job {ref_import_job['id']} FAILED\")\n",
    "    print(e)"
   ]
  },
  {
   "cell_type": "markdown",
   "id": "b0f91c51",
   "metadata": {},
   "source": [
    "### !!! Wait until the above import job has finished !!!"
   ]
  },
  {
   "cell_type": "code",
   "execution_count": null,
   "id": "055d8c70",
   "metadata": {
    "tags": []
   },
   "outputs": [],
   "source": [
    "resp = omics.list_references(referenceStoreId=get_ref_store_id(omics), filter={\"name\": ref_name})\n",
    "\n",
    "ref_list = resp\n",
    "pprint(resp)"
   ]
  },
  {
   "cell_type": "code",
   "execution_count": null,
   "id": "41525f3c",
   "metadata": {
    "tags": []
   },
   "outputs": [],
   "source": [
    "# Store this reference\n",
    "ref = omics.get_reference_metadata(\n",
    "    referenceStoreId=get_ref_store_id(omics), \n",
    "    id=ref_list['references'][0]['id'])\n",
    "ref"
   ]
  },
  {
   "cell_type": "markdown",
   "id": "c9ed9b75",
   "metadata": {},
   "source": [
    "## Create Variant Store and import VCF files"
   ]
  },
  {
   "cell_type": "code",
   "execution_count": 12,
   "id": "01ec4e3d",
   "metadata": {
    "tags": []
   },
   "outputs": [],
   "source": [
    "SOURCE_VARIANT_URI = f\"s3://{SOURCE_BUCKET_NAME}\""
   ]
  },
  {
   "cell_type": "code",
   "execution_count": 13,
   "id": "801a2d03",
   "metadata": {
    "tags": []
   },
   "outputs": [],
   "source": [
    "# generate a list of VCF files to import\n",
    "\n",
    "source = urllib.parse.urlparse(SOURCE_VARIANT_URI)\n",
    "bucket = source.netloc\n",
    "prefix = source.path[1:]\n",
    "\n",
    "s3r = boto3.resource('s3')\n",
    "\n",
    "bucket = s3r.Bucket(bucket)\n",
    "objects = bucket.objects.filter(Prefix=prefix, MaxKeys=10_000)\n",
    "ext = '_dna.vcf'\n",
    "\n",
    "vcf_list = [f\"s3://{o.bucket_name}/{o.key}\" for o in objects if o.key.endswith(ext)]"
   ]
  },
  {
   "cell_type": "markdown",
   "id": "ff428d41",
   "metadata": {},
   "source": [
    "### Create Variant Store"
   ]
  },
  {
   "cell_type": "code",
   "execution_count": null,
   "id": "9c1fa8fd",
   "metadata": {
    "tags": []
   },
   "outputs": [],
   "source": [
    "var_store_name = f'synthea_newvariants_{ts.lower()}'\n",
    "\n",
    "response = omics.create_variant_store(\n",
    "    name=var_store_name, \n",
    "    reference={\"referenceArn\": get_reference_arn(ref_name, omics)}\n",
    ")\n",
    "\n",
    "var_store = response\n",
    "response"
   ]
  },
  {
   "cell_type": "markdown",
   "id": "82351bce",
   "metadata": {},
   "source": [
    "### !!! Wait until the Variant Store is created !!!"
   ]
  },
  {
   "cell_type": "code",
   "execution_count": null,
   "id": "3aed46b5",
   "metadata": {
    "tags": []
   },
   "outputs": [],
   "source": [
    "try:\n",
    "    waiter = omics.get_waiter('variant_store_created')\n",
    "    waiter.wait(name=var_store['name'])\n",
    "\n",
    "    print(f\"variant store {var_store['name']} ready for use\")\n",
    "except botocore.exceptions.WaiterError as e:\n",
    "    print(f\"variant store {var_store['name']} FAILED:\")\n",
    "    print(e)\n",
    "\n",
    "var_store = omics.get_variant_store(name=var_store['name'])"
   ]
  },
  {
   "cell_type": "markdown",
   "id": "c6bb0979",
   "metadata": {},
   "source": [
    "### Import VCF files"
   ]
  },
  {
   "cell_type": "code",
   "execution_count": 17,
   "id": "73a348de",
   "metadata": {
    "tags": []
   },
   "outputs": [],
   "source": [
    "l_vcf = [dict(zip([\"source\"],[uri])) for i, uri in enumerate(vcf_list)]\n",
    "\n",
    "response = omics.start_variant_import_job(destinationName=var_store['name'], \n",
    "                                          roleArn=get_role_arn(omics_iam_name),\n",
    "                                          items=l_vcf)"
   ]
  },
  {
   "cell_type": "markdown",
   "id": "cc6a56d1",
   "metadata": {},
   "source": [
    "## Query Variant Store with Amazon Athena"
   ]
  },
  {
   "cell_type": "code",
   "execution_count": null,
   "id": "b2db8f94-c240-45da-8671-8370f0067407",
   "metadata": {
    "tags": []
   },
   "outputs": [],
   "source": [
    "# To run Athena queries on the data, use AWS LakeFormation to create resource links to the database\n",
    "# For the following function to work, you need to ensure the IAM user running this notebook is a Data Lake Administrator.\n",
    "\n",
    "create_resource_link('omicsdb', var_store, store_type='variant')"
   ]
  },
  {
   "cell_type": "code",
   "execution_count": 19,
   "id": "e570e5d2",
   "metadata": {
    "tags": []
   },
   "outputs": [
    {
     "name": "stdout",
     "output_type": "stream",
     "text": [
      "Athena engine version 3\n",
      "Workgroup 'omics' found using Athena engine version 3\n"
     ]
    },
    {
     "data": {
      "text/plain": [
       "{'Name': 'omics',\n",
       " 'State': 'ENABLED',\n",
       " 'Description': '',\n",
       " 'CreationTime': datetime.datetime(2023, 3, 21, 20, 36, 59, 255000, tzinfo=tzlocal()),\n",
       " 'EngineVersion': {'SelectedEngineVersion': 'Athena engine version 3',\n",
       "  'EffectiveEngineVersion': 'Athena engine version 3'}}"
      ]
     },
     "execution_count": 19,
     "metadata": {},
     "output_type": "execute_result"
    }
   ],
   "source": [
    "# Omics Analytic Stores requires Athena engine version 3 for querying\n",
    "# https://docs.aws.amazon.com/athena/latest/ug/versions.html\n",
    "\n",
    "# Locate or create a suitable workgroup for Athena queries\n",
    "\n",
    "athena = boto3.client('athena')\n",
    "\n",
    "athena_workgroups = athena.list_work_groups()['WorkGroups']\n",
    "\n",
    "athena_workgroup = None\n",
    "for wg in athena_workgroups:\n",
    "    print(wg['EngineVersion']['EffectiveEngineVersion'])\n",
    "    if wg['EngineVersion']['EffectiveEngineVersion'] == 'Athena engine version 3':\n",
    "        print(f\"Workgroup '{wg['Name']}' found using Athena engine version 3\")\n",
    "        athena_workgroup = wg\n",
    "        break\n",
    "else:\n",
    "    print(\"No workgroups with Athena engine version 3 found. creating one\")\n",
    "    athena_workgroup = athena.create_work_group(\n",
    "        Name='omics',\n",
    "        Configuration={\n",
    "            \"EngineVersion\": {\n",
    "                \"SelectedEngineVersion\": \"Athena engine version 3\"\n",
    "            }\n",
    "        }\n",
    "    )\n",
    "\n",
    "athena_workgroup"
   ]
  },
  {
   "cell_type": "code",
   "execution_count": 26,
   "id": "8dbf203d",
   "metadata": {
    "tags": []
   },
   "outputs": [
    {
     "data": {
      "text/html": [
       "<div>\n",
       "<style scoped>\n",
       "    .dataframe tbody tr th:only-of-type {\n",
       "        vertical-align: middle;\n",
       "    }\n",
       "\n",
       "    .dataframe tbody tr th {\n",
       "        vertical-align: top;\n",
       "    }\n",
       "\n",
       "    .dataframe thead th {\n",
       "        text-align: right;\n",
       "    }\n",
       "</style>\n",
       "<table border=\"1\" class=\"dataframe\">\n",
       "  <thead>\n",
       "    <tr style=\"text-align: right;\">\n",
       "      <th></th>\n",
       "      <th>sampleid</th>\n",
       "      <th>contigname</th>\n",
       "      <th>start</th>\n",
       "      <th>referenceallele</th>\n",
       "      <th>alternatealleles</th>\n",
       "      <th>calls</th>\n",
       "    </tr>\n",
       "  </thead>\n",
       "  <tbody>\n",
       "    <tr>\n",
       "      <th>0</th>\n",
       "      <td>69eab197-6c14-7fcf-16d8-a18a222b82a4</td>\n",
       "      <td>1</td>\n",
       "      <td>46932823</td>\n",
       "      <td>A</td>\n",
       "      <td>[G]</td>\n",
       "      <td>[0, 1]</td>\n",
       "    </tr>\n",
       "    <tr>\n",
       "      <th>1</th>\n",
       "      <td>c7fff683-fd1b-f937-71ae-a490a80c9197</td>\n",
       "      <td>1</td>\n",
       "      <td>46932823</td>\n",
       "      <td>A</td>\n",
       "      <td>[G]</td>\n",
       "      <td>[0, 1]</td>\n",
       "    </tr>\n",
       "    <tr>\n",
       "      <th>2</th>\n",
       "      <td>c7fff683-fd1b-f937-71ae-a490a80c9197</td>\n",
       "      <td>1</td>\n",
       "      <td>55039973</td>\n",
       "      <td>G</td>\n",
       "      <td>[A, T]</td>\n",
       "      <td>[0, 1]</td>\n",
       "    </tr>\n",
       "    <tr>\n",
       "      <th>3</th>\n",
       "      <td>c7fff683-fd1b-f937-71ae-a490a80c9197</td>\n",
       "      <td>1</td>\n",
       "      <td>46932823</td>\n",
       "      <td>A</td>\n",
       "      <td>[G]</td>\n",
       "      <td>[0, 1]</td>\n",
       "    </tr>\n",
       "    <tr>\n",
       "      <th>4</th>\n",
       "      <td>1c906349-d5f7-3b79-9385-291d6ca12ddc</td>\n",
       "      <td>1</td>\n",
       "      <td>46932823</td>\n",
       "      <td>A</td>\n",
       "      <td>[G]</td>\n",
       "      <td>[0, 1]</td>\n",
       "    </tr>\n",
       "    <tr>\n",
       "      <th>5</th>\n",
       "      <td>69eab197-6c14-7fcf-16d8-a18a222b82a4</td>\n",
       "      <td>1</td>\n",
       "      <td>46932823</td>\n",
       "      <td>A</td>\n",
       "      <td>[G]</td>\n",
       "      <td>[0, 1]</td>\n",
       "    </tr>\n",
       "    <tr>\n",
       "      <th>6</th>\n",
       "      <td>69eab197-6c14-7fcf-16d8-a18a222b82a4</td>\n",
       "      <td>1</td>\n",
       "      <td>55039973</td>\n",
       "      <td>G</td>\n",
       "      <td>[A, T]</td>\n",
       "      <td>[0, 1]</td>\n",
       "    </tr>\n",
       "    <tr>\n",
       "      <th>7</th>\n",
       "      <td>1c906349-d5f7-3b79-9385-291d6ca12ddc</td>\n",
       "      <td>1</td>\n",
       "      <td>46932823</td>\n",
       "      <td>A</td>\n",
       "      <td>[G]</td>\n",
       "      <td>[0, 1]</td>\n",
       "    </tr>\n",
       "    <tr>\n",
       "      <th>8</th>\n",
       "      <td>1c906349-d5f7-3b79-9385-291d6ca12ddc</td>\n",
       "      <td>1</td>\n",
       "      <td>55039973</td>\n",
       "      <td>G</td>\n",
       "      <td>[A, T]</td>\n",
       "      <td>[0, 1]</td>\n",
       "    </tr>\n",
       "    <tr>\n",
       "      <th>9</th>\n",
       "      <td>dccfd9ed-8080-2743-5c17-7888e93617d5</td>\n",
       "      <td>1</td>\n",
       "      <td>46932823</td>\n",
       "      <td>A</td>\n",
       "      <td>[G]</td>\n",
       "      <td>[0, 1]</td>\n",
       "    </tr>\n",
       "  </tbody>\n",
       "</table>\n",
       "</div>"
      ],
      "text/plain": [
       "                               sampleid contigname     start referenceallele  \\\n",
       "0  69eab197-6c14-7fcf-16d8-a18a222b82a4          1  46932823               A   \n",
       "1  c7fff683-fd1b-f937-71ae-a490a80c9197          1  46932823               A   \n",
       "2  c7fff683-fd1b-f937-71ae-a490a80c9197          1  55039973               G   \n",
       "3  c7fff683-fd1b-f937-71ae-a490a80c9197          1  46932823               A   \n",
       "4  1c906349-d5f7-3b79-9385-291d6ca12ddc          1  46932823               A   \n",
       "5  69eab197-6c14-7fcf-16d8-a18a222b82a4          1  46932823               A   \n",
       "6  69eab197-6c14-7fcf-16d8-a18a222b82a4          1  55039973               G   \n",
       "7  1c906349-d5f7-3b79-9385-291d6ca12ddc          1  46932823               A   \n",
       "8  1c906349-d5f7-3b79-9385-291d6ca12ddc          1  55039973               G   \n",
       "9  dccfd9ed-8080-2743-5c17-7888e93617d5          1  46932823               A   \n",
       "\n",
       "  alternatealleles   calls  \n",
       "0              [G]  [0, 1]  \n",
       "1              [G]  [0, 1]  \n",
       "2           [A, T]  [0, 1]  \n",
       "3              [G]  [0, 1]  \n",
       "4              [G]  [0, 1]  \n",
       "5              [G]  [0, 1]  \n",
       "6           [A, T]  [0, 1]  \n",
       "7              [G]  [0, 1]  \n",
       "8           [A, T]  [0, 1]  \n",
       "9              [G]  [0, 1]  "
      ]
     },
     "execution_count": 26,
     "metadata": {},
     "output_type": "execute_result"
    }
   ],
   "source": [
    "# Use AWS Wrangler to submit query and get results as a Pandas Dataframe\n",
    "\n",
    "import awswrangler as wr\n",
    "\n",
    "df_var = wr.athena.read_sql_query(\n",
    "    f\"select sampleid, contigname, start, referenceallele, alternatealleles, calls from {var_store['name']} limit 10;\", \n",
    "    database=\"omicsdb\", workgroup = \"omics\")\n",
    "df_var"
   ]
  },
  {
   "cell_type": "markdown",
   "id": "ef5d4866",
   "metadata": {},
   "source": [
    "## Create Annotation Store and import ClinVar annotation file"
   ]
  },
  {
   "cell_type": "code",
   "execution_count": null,
   "id": "4b747f19",
   "metadata": {
    "tags": []
   },
   "outputs": [],
   "source": [
    "SOURCE_ANNOTATION_URI = f\"s3://{SOURCE_BUCKET_NAME}/genomic/annotation/clinvar.vcf.gz\"\n",
    "\n",
    "ann_store_name = f'synthea_annotations_{ts.lower()}'\n",
    "\n",
    "response = omics.create_annotation_store(\n",
    "    name=ann_store_name, \n",
    "    reference={\"referenceArn\": get_reference_arn(ref_name, omics)},\n",
    "    storeFormat='VCF'\n",
    ")\n",
    "\n",
    "ann_store = response\n",
    "response\n",
    "\n",
    "try:\n",
    "    waiter = omics.get_waiter('annotation_store_created')\n",
    "    waiter.wait(name=ann_store['name'])\n",
    "\n",
    "    print(f\"annotation store {ann_store['name']} ready for use\")\n",
    "except botocore.exceptions.WaiterError as e:\n",
    "    print(f\"annotation store {ann_store['name']} FAILED:\")\n",
    "    print(e)\n",
    "\n",
    "ann_store = omics.get_annotation_store(name=ann_store['name'])\n"
   ]
  },
  {
   "cell_type": "markdown",
   "id": "29db5e49",
   "metadata": {},
   "source": [
    "### !!! Wait until the Annotation Store is created !!!"
   ]
  },
  {
   "cell_type": "markdown",
   "id": "167610f7",
   "metadata": {},
   "source": [
    "### Import annotation file"
   ]
  },
  {
   "cell_type": "code",
   "execution_count": null,
   "id": "330bff87",
   "metadata": {
    "tags": []
   },
   "outputs": [],
   "source": [
    "response = omics.start_annotation_import_job(\n",
    "    destinationName=ann_store['name'],\n",
    "    roleArn=get_role_arn(omics_iam_name),\n",
    "    items=[{\"source\": SOURCE_ANNOTATION_URI}]\n",
    ")\n",
    "response"
   ]
  },
  {
   "cell_type": "markdown",
   "id": "8b1199c0",
   "metadata": {},
   "source": [
    "## Query Annotation Store with Amazon Athena"
   ]
  },
  {
   "cell_type": "code",
   "execution_count": null,
   "id": "8345b58b-bfbd-45b0-93a7-882891f4f53a",
   "metadata": {
    "tags": []
   },
   "outputs": [],
   "source": [
    "create_resource_link('omicsdb', ann_store, store_type='annotation')"
   ]
  },
  {
   "cell_type": "code",
   "execution_count": 27,
   "id": "b0f4bf17",
   "metadata": {
    "tags": []
   },
   "outputs": [
    {
     "data": {
      "text/html": [
       "<div>\n",
       "<style scoped>\n",
       "    .dataframe tbody tr th:only-of-type {\n",
       "        vertical-align: middle;\n",
       "    }\n",
       "\n",
       "    .dataframe tbody tr th {\n",
       "        vertical-align: top;\n",
       "    }\n",
       "\n",
       "    .dataframe thead th {\n",
       "        text-align: right;\n",
       "    }\n",
       "</style>\n",
       "<table border=\"1\" class=\"dataframe\">\n",
       "  <thead>\n",
       "    <tr style=\"text-align: right;\">\n",
       "      <th></th>\n",
       "      <th>contigname</th>\n",
       "      <th>start</th>\n",
       "      <th>referenceallele</th>\n",
       "      <th>alternatealleles</th>\n",
       "      <th>attributes</th>\n",
       "    </tr>\n",
       "  </thead>\n",
       "  <tbody>\n",
       "    <tr>\n",
       "      <th>0</th>\n",
       "      <td>1</td>\n",
       "      <td>926009</td>\n",
       "      <td>G</td>\n",
       "      <td>[T]</td>\n",
       "      <td>[(CLNSIG, Likely_benign), (GENEINFO, SAMD11:14...</td>\n",
       "    </tr>\n",
       "    <tr>\n",
       "      <th>1</th>\n",
       "      <td>1</td>\n",
       "      <td>926026</td>\n",
       "      <td>C</td>\n",
       "      <td>[T]</td>\n",
       "      <td>[(CLNSIG, Likely_benign), (GENEINFO, SAMD11:14...</td>\n",
       "    </tr>\n",
       "    <tr>\n",
       "      <th>2</th>\n",
       "      <td>1</td>\n",
       "      <td>925975</td>\n",
       "      <td>T</td>\n",
       "      <td>[C]</td>\n",
       "      <td>[(CLNSIG, Uncertain_significance), (GENEINFO, ...</td>\n",
       "    </tr>\n",
       "    <tr>\n",
       "      <th>3</th>\n",
       "      <td>1</td>\n",
       "      <td>926002</td>\n",
       "      <td>C</td>\n",
       "      <td>[T]</td>\n",
       "      <td>[(CLNSIG, Uncertain_significance), (GENEINFO, ...</td>\n",
       "    </tr>\n",
       "    <tr>\n",
       "      <th>4</th>\n",
       "      <td>1</td>\n",
       "      <td>926013</td>\n",
       "      <td>G</td>\n",
       "      <td>[A]</td>\n",
       "      <td>[(CLNSIG, Uncertain_significance), (GENEINFO, ...</td>\n",
       "    </tr>\n",
       "    <tr>\n",
       "      <th>5</th>\n",
       "      <td>1</td>\n",
       "      <td>926024</td>\n",
       "      <td>G</td>\n",
       "      <td>[A]</td>\n",
       "      <td>[(CLNSIG, Likely_benign), (GENEINFO, SAMD11:14...</td>\n",
       "    </tr>\n",
       "    <tr>\n",
       "      <th>6</th>\n",
       "      <td>1</td>\n",
       "      <td>925955</td>\n",
       "      <td>C</td>\n",
       "      <td>[T]</td>\n",
       "      <td>[(CLNSIG, Likely_benign), (GENEINFO, SAMD11:14...</td>\n",
       "    </tr>\n",
       "    <tr>\n",
       "      <th>7</th>\n",
       "      <td>1</td>\n",
       "      <td>925968</td>\n",
       "      <td>C</td>\n",
       "      <td>[T]</td>\n",
       "      <td>[(CLNSIG, Likely_benign), (GENEINFO, SAMD11:14...</td>\n",
       "    </tr>\n",
       "    <tr>\n",
       "      <th>8</th>\n",
       "      <td>1</td>\n",
       "      <td>925985</td>\n",
       "      <td>C</td>\n",
       "      <td>[T]</td>\n",
       "      <td>[(CLNSIG, Likely_benign), (GENEINFO, SAMD11:14...</td>\n",
       "    </tr>\n",
       "    <tr>\n",
       "      <th>9</th>\n",
       "      <td>1</td>\n",
       "      <td>925951</td>\n",
       "      <td>G</td>\n",
       "      <td>[A]</td>\n",
       "      <td>[(RS, 1640863258), (CLNSIG, Uncertain_signific...</td>\n",
       "    </tr>\n",
       "  </tbody>\n",
       "</table>\n",
       "</div>"
      ],
      "text/plain": [
       "  contigname   start referenceallele alternatealleles  \\\n",
       "0          1  926009               G              [T]   \n",
       "1          1  926026               C              [T]   \n",
       "2          1  925975               T              [C]   \n",
       "3          1  926002               C              [T]   \n",
       "4          1  926013               G              [A]   \n",
       "5          1  926024               G              [A]   \n",
       "6          1  925955               C              [T]   \n",
       "7          1  925968               C              [T]   \n",
       "8          1  925985               C              [T]   \n",
       "9          1  925951               G              [A]   \n",
       "\n",
       "                                          attributes  \n",
       "0  [(CLNSIG, Likely_benign), (GENEINFO, SAMD11:14...  \n",
       "1  [(CLNSIG, Likely_benign), (GENEINFO, SAMD11:14...  \n",
       "2  [(CLNSIG, Uncertain_significance), (GENEINFO, ...  \n",
       "3  [(CLNSIG, Uncertain_significance), (GENEINFO, ...  \n",
       "4  [(CLNSIG, Uncertain_significance), (GENEINFO, ...  \n",
       "5  [(CLNSIG, Likely_benign), (GENEINFO, SAMD11:14...  \n",
       "6  [(CLNSIG, Likely_benign), (GENEINFO, SAMD11:14...  \n",
       "7  [(CLNSIG, Likely_benign), (GENEINFO, SAMD11:14...  \n",
       "8  [(CLNSIG, Likely_benign), (GENEINFO, SAMD11:14...  \n",
       "9  [(RS, 1640863258), (CLNSIG, Uncertain_signific...  "
      ]
     },
     "execution_count": 27,
     "metadata": {},
     "output_type": "execute_result"
    }
   ],
   "source": [
    "df_ann = wr.athena.read_sql_query(\n",
    "    f\"select contigname, start, referenceallele, alternatealleles, attributes from {ann_store['name']} order by contigname limit 10;\", \n",
    "    database=\"omicsdb\", workgroup = \"omics\")\n",
    "df_ann"
   ]
  },
  {
   "cell_type": "code",
   "execution_count": null,
   "id": "77f9922d",
   "metadata": {},
   "outputs": [],
   "source": []
  },
  {
   "cell_type": "code",
   "execution_count": null,
   "id": "065dc264",
   "metadata": {},
   "outputs": [],
   "source": []
  }
 ],
 "metadata": {
  "kernelspec": {
   "display_name": "conda_python3",
   "language": "python",
   "name": "conda_python3"
  },
  "language_info": {
   "codemirror_mode": {
    "name": "ipython",
    "version": 3
   },
   "file_extension": ".py",
   "mimetype": "text/x-python",
   "name": "python",
   "nbconvert_exporter": "python",
   "pygments_lexer": "ipython3",
   "version": "3.10.12"
  }
 },
 "nbformat": 4,
 "nbformat_minor": 5
}
