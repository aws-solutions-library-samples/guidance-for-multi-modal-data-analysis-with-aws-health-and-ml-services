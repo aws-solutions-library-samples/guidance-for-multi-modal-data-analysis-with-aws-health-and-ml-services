{
 "cells": [
  {
   "cell_type": "code",
   "execution_count": 2,
   "id": "3c073628-e7a4-4598-98cc-b6134c104446",
   "metadata": {
    "tags": []
   },
   "outputs": [
    {
     "name": "stderr",
     "output_type": "stream",
     "text": [
      "DEPRECATION: pyodbc 4.0.0-unsupported has a non-standard version number. pip 23.3 will enforce this behaviour change. A possible replacement is to upgrade to a newer version of pyodbc or contact the author to suggest that they release a version with a conforming version number. Discussion can be found at https://github.com/pypa/pip/issues/12063\n",
      "WARNING: Running pip as the 'root' user can result in broken permissions and conflicting behaviour with the system package manager. It is recommended to use a virtual environment instead: https://pip.pypa.io/warnings/venv\n",
      "DEPRECATION: pyodbc 4.0.0-unsupported has a non-standard version number. pip 23.3 will enforce this behaviour change. A possible replacement is to upgrade to a newer version of pyodbc or contact the author to suggest that they release a version with a conforming version number. Discussion can be found at https://github.com/pypa/pip/issues/12063\n",
      "ERROR: pip's dependency resolver does not currently take into account all the packages that are installed. This behaviour is the source of the following dependency conflicts.\n",
      "aiobotocore 2.4.2 requires botocore<1.27.60,>=1.27.59, but you have botocore 1.31.25 which is incompatible.\n",
      "awscli 1.29.14 requires botocore==1.31.14, but you have botocore 1.31.25 which is incompatible.\n",
      "awscli 1.29.14 requires rsa<4.8,>=3.1.2, but you have rsa 4.9 which is incompatible.\n",
      "sparkmagic 0.20.4 requires nest-asyncio==1.5.5, but you have nest-asyncio 1.5.7 which is incompatible.\n",
      "WARNING: Running pip as the 'root' user can result in broken permissions and conflicting behaviour with the system package manager. It is recommended to use a virtual environment instead: https://pip.pypa.io/warnings/venv\n",
      "DEPRECATION: pyodbc 4.0.0-unsupported has a non-standard version number. pip 23.3 will enforce this behaviour change. A possible replacement is to upgrade to a newer version of pyodbc or contact the author to suggest that they release a version with a conforming version number. Discussion can be found at https://github.com/pypa/pip/issues/12063\n",
      "WARNING: Running pip as the 'root' user can result in broken permissions and conflicting behaviour with the system package manager. It is recommended to use a virtual environment instead: https://pip.pypa.io/warnings/venv\n"
     ]
    }
   ],
   "source": [
    " %%sh\n",
    "pip install -q --upgrade pip\n",
    "pip install -q --upgrade boto3 botocore\n",
    "pip install -q tqdm nibabel pydicom numpy pylibjpeg-openjpeg #pathlib2 monai "
   ]
  },
  {
   "cell_type": "code",
   "execution_count": 4,
   "id": "a1971f92-2784-46f7-8528-47cdd530ae19",
   "metadata": {
    "tags": []
   },
   "outputs": [
    {
     "name": "stderr",
     "output_type": "stream",
     "text": [
      "/opt/conda/lib/python3.7/site-packages/boto3/compat.py:82: PythonDeprecationWarning: Boto3 will no longer support Python 3.7 starting December 13, 2023. To continue receiving service updates, bug fixes, and security updates please upgrade to Python 3.8 or later. More information can be found here: https://aws.amazon.com/blogs/developer/python-support-policy-updates-for-aws-sdks-and-tools/\n",
      "  warnings.warn(warning, PythonDeprecationWarning)\n"
     ]
    },
    {
     "name": "stdout",
     "output_type": "stream",
     "text": [
      "S3 Bucket is sagemaker-us-east-1-659535263284\n",
      "IAM role is arn:aws:iam::659535263284:role/service-role/AmazonSageMaker-ExecutionRole-20230313T165490\n"
     ]
    }
   ],
   "source": [
    "import pydicom\n",
    "from pydicom.sequence import Sequence\n",
    "from pydicom import Dataset , DataElement \n",
    "from pydicom.dataset import FileDataset, FileMetaDataset\n",
    "from pydicom.uid import UID\n",
    "from pydicom.pixel_data_handlers.util import convert_color_space , apply_color_lut\n",
    "from openjpeg import decode\n",
    "import array\n",
    "import json\n",
    "import logging\n",
    "import importlib  \n",
    "import boto3\n",
    "import sagemaker\n",
    "from sagemaker import get_execution_role\n",
    "import io\n",
    "import sys\n",
    "import time\n",
    "import os\n",
    "import pandas as pd\n",
    "from botocore.exceptions import ClientError\n",
    "logging.basicConfig( level=\"INFO\" )\n",
    "# logging.basicConfig( level=\"DEBUG\" )\n",
    "from src.Api import MedicalImaging \n",
    "medicalimaging = MedicalImaging()\n",
    "\n",
    "account_id = boto3.client(\"sts\").get_caller_identity()[\"Account\"]\n",
    "region = boto3.Session().region_name\n",
    "bucket = sagemaker.Session().default_bucket()\n",
    "role = get_execution_role()\n",
    "print(f\"S3 Bucket is {bucket}\")\n",
    "print(f\"IAM role is {role}\")"
   ]
  },
  {
   "cell_type": "code",
   "execution_count": 5,
   "id": "d9ba1ab3-d006-4c36-973e-6a5181b114d5",
   "metadata": {
    "tags": []
   },
   "outputs": [],
   "source": [
    "InputBucketName = \"\" ## store your coherent dicom images here"
   ]
  },
  {
   "cell_type": "code",
   "execution_count": 6,
   "id": "fd781e6e-606e-4bad-aa36-c2a48fe7bd91",
   "metadata": {
    "tags": []
   },
   "outputs": [
    {
     "name": "stderr",
     "output_type": "stream",
     "text": [
      "INFO:root:List Datastores  : 139.53733444213867 ms\n",
      "INFO:root:Get Datastore  : 90.18421173095703 ms\n"
     ]
    },
    {
     "name": "stdout",
     "output_type": "stream",
     "text": [
      "datastoreId: 538dd671d2b44906a90edc23edd94757; status: ACTIVE\n"
     ]
    }
   ],
   "source": [
    "DatastoreName = \"CoherentDataStoreWorkshop\"\n",
    "datastoreList = medicalimaging.listDatastores()\n",
    "\n",
    "res_createstore = None\n",
    "for datastore in datastoreList[\"datastoreSummaries\"]:\n",
    "    if datastore[\"datastoreName\"] == DatastoreName:\n",
    "        res_createstore = datastore\n",
    "        break\n",
    "if res_createstore is None:        \n",
    "    res_createstore = medicalimaging.createDatastore(DatastoreName)\n",
    "\n",
    "datastoreId = res_createstore['datastoreId']\n",
    "res_getstore = medicalimaging.getDatastore(res_createstore['datastoreId'])    \n",
    "status = res_getstore['datastoreProperties']['datastoreStatus']\n",
    "while status!='ACTIVE':\n",
    "    time.sleep(30)\n",
    "    res_getstore = medicalimaging.getDatastore(res_createstore['datastoreId'])    \n",
    "    status = res_getstore['datastoreProperties']['datastoreStatus']\n",
    "    print(status)\n",
    "print(f\"datastoreId: {datastoreId}; status: {status}\")"
   ]
  },
  {
   "cell_type": "code",
   "execution_count": null,
   "id": "ede3adfd-4f26-4ada-a75a-3cbff1ed9cc4",
   "metadata": {
    "tags": []
   },
   "outputs": [
    {
     "name": "stderr",
     "output_type": "stream",
     "text": [
      "INFO:root:Start Import Job  : 428.2948970794678 ms\n",
      "INFO:root:Get Import Job  : 107.45453834533691 ms\n"
     ]
    }
   ],
   "source": [
    "res_startimportjob = medicalimaging.startImportJob(\n",
    "    res_createstore['datastoreId'],\n",
    "    role,\n",
    "    's3://'+InputBucketName+'/unzipped/dicom/', \n",
    "    's3://'+bucket+'/ahi_importjob_output/'\n",
    ")\n",
    "\n",
    "jobId = res_startimportjob['jobId']\n",
    "jobstatus = medicalimaging.getImportJob(datastoreId, jobId)['jobProperties']['jobStatus']\n",
    "while jobstatus!='COMPLETED':\n",
    "    time.sleep(30)\n",
    "    jobstatus = medicalimaging.getImportJob(datastoreId, jobId)['jobProperties']['jobStatus']\n",
    "print(f\"jobstatus is {jobstatus}\")"
   ]
  },
  {
   "cell_type": "code",
   "execution_count": 12,
   "id": "525b2359-60ec-4395-830a-639709af8614",
   "metadata": {
    "tags": []
   },
   "outputs": [
    {
     "name": "stdout",
     "output_type": "stream",
     "text": [
      "number of image sets: 298\n"
     ]
    }
   ],
   "source": [
    "imageSetIds = {}\n",
    "s3=boto3.client('s3')\n",
    "try:\n",
    "    response = s3.head_object(Bucket=bucket, Key=f\"ahi_importjob_output/{datastoreId}-DicomImport-{jobId}/job-output-manifest.json\")\n",
    "    if response['ResponseMetadata']['HTTPStatusCode'] == 200:\n",
    "        data = s3.get_object(Bucket=bucket, Key=f\"ahi_importjob_output/{datastoreId}-DicomImport-{jobId}/SUCCESS/success.ndjson\")\n",
    "        contents = data['Body'].read().decode(\"utf-8\")\n",
    "        for l in contents.splitlines():\n",
    "            isid = json.loads(l)['importResponse']['imageSetId']\n",
    "            if isid in imageSetIds:\n",
    "                imageSetIds[isid]+=1\n",
    "            else:\n",
    "                imageSetIds[isid]=1\n",
    "except ClientError:\n",
    "    pass\n",
    "\n",
    "\n",
    "print(\"number of image sets: {}\".format(len(imageSetIds)))"
   ]
  },
  {
   "cell_type": "code",
   "execution_count": 13,
   "id": "378fee7b-2b32-4985-a6b0-de722495c966",
   "metadata": {
    "tags": []
   },
   "outputs": [
    {
     "name": "stdout",
     "output_type": "stream",
     "text": [
      "Stored 'datastoreId' (str)\n",
      "Stored 'imageSetIds' (dict)\n",
      "Stored 'jobId' (str)\n"
     ]
    }
   ],
   "source": [
    "%store datastoreId\n",
    "%store imageSetIds\n",
    "%store jobId"
   ]
  },
  {
   "cell_type": "markdown",
   "id": "1f5a7471-e9ad-45ea-a96c-572a774a7529",
   "metadata": {},
   "source": [
    "## (Optional) Save JSON to S3"
   ]
  },
  {
   "cell_type": "code",
   "execution_count": 9,
   "id": "58885cdc-a662-4e43-9f3c-d215719a7931",
   "metadata": {
    "tags": []
   },
   "outputs": [
    {
     "name": "stderr",
     "output_type": "stream",
     "text": [
      "INFO:root:Metadata fetch  : 248.78931045532227 ms\n",
      "INFO:root:Metadata fetch  : 217.93746948242188 ms\n",
      "INFO:root:Metadata fetch  : 263.5033130645752 ms\n",
      "INFO:root:Metadata fetch  : 228.8510799407959 ms\n",
      "INFO:root:Metadata fetch  : 224.68209266662598 ms\n",
      "INFO:root:Metadata fetch  : 216.078519821167 ms\n",
      "INFO:root:Metadata fetch  : 206.32648468017578 ms\n",
      "INFO:root:Metadata fetch  : 214.79153633117676 ms\n",
      "INFO:root:Metadata fetch  : 186.0511302947998 ms\n",
      "INFO:root:Metadata fetch  : 243.12877655029297 ms\n",
      "INFO:root:Metadata fetch  : 282.14311599731445 ms\n",
      "INFO:root:Metadata fetch  : 227.65445709228516 ms\n",
      "INFO:root:Metadata fetch  : 245.194673538208 ms\n",
      "INFO:root:Metadata fetch  : 211.95077896118164 ms\n",
      "INFO:root:Metadata fetch  : 225.4354953765869 ms\n",
      "INFO:root:Metadata fetch  : 195.9846019744873 ms\n",
      "INFO:root:Metadata fetch  : 213.026762008667 ms\n",
      "INFO:root:Metadata fetch  : 226.2578010559082 ms\n",
      "INFO:root:Metadata fetch  : 230.38601875305176 ms\n",
      "INFO:root:Metadata fetch  : 178.40170860290527 ms\n",
      "INFO:root:Metadata fetch  : 398.21743965148926 ms\n",
      "INFO:root:Metadata fetch  : 213.3347988128662 ms\n",
      "INFO:root:Metadata fetch  : 207.66496658325195 ms\n",
      "INFO:root:Metadata fetch  : 199.98741149902344 ms\n",
      "INFO:root:Metadata fetch  : 214.37382698059082 ms\n",
      "INFO:root:Metadata fetch  : 212.34393119812012 ms\n",
      "INFO:root:Metadata fetch  : 229.3076515197754 ms\n",
      "INFO:root:Metadata fetch  : 237.1819019317627 ms\n",
      "INFO:root:Metadata fetch  : 186.57922744750977 ms\n",
      "INFO:root:Metadata fetch  : 204.15043830871582 ms\n",
      "INFO:root:Metadata fetch  : 288.7897491455078 ms\n",
      "INFO:root:Metadata fetch  : 220.23582458496094 ms\n",
      "INFO:root:Metadata fetch  : 279.36720848083496 ms\n",
      "INFO:root:Metadata fetch  : 245.19634246826172 ms\n",
      "INFO:root:Metadata fetch  : 221.84062004089355 ms\n",
      "INFO:root:Metadata fetch  : 181.96940422058105 ms\n",
      "INFO:root:Metadata fetch  : 135.573148727417 ms\n",
      "INFO:root:Metadata fetch  : 172.94979095458984 ms\n",
      "INFO:root:Metadata fetch  : 138.4267807006836 ms\n",
      "INFO:root:Metadata fetch  : 158.6291790008545 ms\n",
      "INFO:root:Metadata fetch  : 218.25361251831055 ms\n",
      "INFO:root:Metadata fetch  : 203.87578010559082 ms\n",
      "INFO:root:Metadata fetch  : 205.54208755493164 ms\n",
      "INFO:root:Metadata fetch  : 200.49476623535156 ms\n",
      "INFO:root:Metadata fetch  : 136.90638542175293 ms\n",
      "INFO:root:Metadata fetch  : 191.04671478271484 ms\n",
      "INFO:root:Metadata fetch  : 193.51768493652344 ms\n",
      "INFO:root:Metadata fetch  : 172.38759994506836 ms\n",
      "INFO:root:Metadata fetch  : 143.74136924743652 ms\n",
      "INFO:root:Metadata fetch  : 259.6402168273926 ms\n",
      "INFO:root:Metadata fetch  : 163.27619552612305 ms\n",
      "INFO:root:Metadata fetch  : 186.80429458618164 ms\n",
      "INFO:root:Metadata fetch  : 161.53526306152344 ms\n",
      "INFO:root:Metadata fetch  : 186.15245819091797 ms\n",
      "INFO:root:Metadata fetch  : 182.844877243042 ms\n",
      "INFO:root:Metadata fetch  : 200.3934383392334 ms\n",
      "INFO:root:Metadata fetch  : 160.41851043701172 ms\n",
      "INFO:root:Metadata fetch  : 189.26095962524414 ms\n",
      "INFO:root:Metadata fetch  : 199.0511417388916 ms\n",
      "INFO:root:Metadata fetch  : 167.46902465820312 ms\n",
      "INFO:root:Metadata fetch  : 93.7948226928711 ms\n",
      "INFO:root:Metadata fetch  : 202.71015167236328 ms\n",
      "INFO:root:Metadata fetch  : 152.67491340637207 ms\n",
      "INFO:root:Metadata fetch  : 126.07884407043457 ms\n",
      "INFO:root:Metadata fetch  : 189.0411376953125 ms\n",
      "INFO:root:Metadata fetch  : 167.91105270385742 ms\n",
      "INFO:root:Metadata fetch  : 223.44493865966797 ms\n",
      "INFO:root:Metadata fetch  : 154.25992012023926 ms\n",
      "INFO:root:Metadata fetch  : 195.47200202941895 ms\n",
      "INFO:root:Metadata fetch  : 170.14002799987793 ms\n",
      "INFO:root:Metadata fetch  : 197.39985466003418 ms\n",
      "INFO:root:Metadata fetch  : 162.71233558654785 ms\n",
      "INFO:root:Metadata fetch  : 197.07131385803223 ms\n",
      "INFO:root:Metadata fetch  : 176.90467834472656 ms\n",
      "INFO:root:Metadata fetch  : 190.10496139526367 ms\n",
      "INFO:root:Metadata fetch  : 172.1935272216797 ms\n",
      "INFO:root:Metadata fetch  : 122.49040603637695 ms\n",
      "INFO:root:Metadata fetch  : 176.713228225708 ms\n",
      "INFO:root:Metadata fetch  : 104.49481010437012 ms\n",
      "INFO:root:Metadata fetch  : 104.20918464660645 ms\n",
      "INFO:root:Metadata fetch  : 263.95201683044434 ms\n",
      "INFO:root:Metadata fetch  : 209.6881866455078 ms\n",
      "INFO:root:Metadata fetch  : 176.06639862060547 ms\n",
      "INFO:root:Metadata fetch  : 189.64147567749023 ms\n",
      "INFO:root:Metadata fetch  : 160.59184074401855 ms\n",
      "INFO:root:Metadata fetch  : 163.72966766357422 ms\n",
      "INFO:root:Metadata fetch  : 131.04939460754395 ms\n",
      "INFO:root:Metadata fetch  : 253.2806396484375 ms\n",
      "INFO:root:Metadata fetch  : 158.92434120178223 ms\n",
      "INFO:root:Metadata fetch  : 190.09685516357422 ms\n",
      "INFO:root:Metadata fetch  : 185.13727188110352 ms\n",
      "INFO:root:Metadata fetch  : 196.09808921813965 ms\n",
      "INFO:root:Metadata fetch  : 195.71971893310547 ms\n",
      "INFO:root:Metadata fetch  : 234.91191864013672 ms\n",
      "INFO:root:Metadata fetch  : 144.01698112487793 ms\n",
      "INFO:root:Metadata fetch  : 265.5961513519287 ms\n",
      "INFO:root:Metadata fetch  : 187.77084350585938 ms\n",
      "INFO:root:Metadata fetch  : 105.38887977600098 ms\n",
      "INFO:root:Metadata fetch  : 158.8456630706787 ms\n",
      "INFO:root:Metadata fetch  : 178.64036560058594 ms\n",
      "INFO:root:Metadata fetch  : 228.3163070678711 ms\n",
      "INFO:root:Metadata fetch  : 214.03241157531738 ms\n",
      "INFO:root:Metadata fetch  : 250.91147422790527 ms\n",
      "INFO:root:Metadata fetch  : 230.66139221191406 ms\n",
      "INFO:root:Metadata fetch  : 147.3405361175537 ms\n",
      "INFO:root:Metadata fetch  : 159.77072715759277 ms\n",
      "INFO:root:Metadata fetch  : 144.26755905151367 ms\n",
      "INFO:root:Metadata fetch  : 223.54388236999512 ms\n",
      "INFO:root:Metadata fetch  : 178.7872314453125 ms\n",
      "INFO:root:Metadata fetch  : 168.00308227539062 ms\n",
      "INFO:root:Metadata fetch  : 117.43974685668945 ms\n",
      "INFO:root:Metadata fetch  : 205.46293258666992 ms\n",
      "INFO:root:Metadata fetch  : 177.74081230163574 ms\n",
      "INFO:root:Metadata fetch  : 157.13214874267578 ms\n",
      "INFO:root:Metadata fetch  : 171.02885246276855 ms\n",
      "INFO:root:Metadata fetch  : 141.04223251342773 ms\n",
      "INFO:root:Metadata fetch  : 188.39454650878906 ms\n",
      "INFO:root:Metadata fetch  : 266.0408020019531 ms\n",
      "INFO:root:Metadata fetch  : 154.24418449401855 ms\n",
      "INFO:root:Metadata fetch  : 119.92335319519043 ms\n",
      "INFO:root:Metadata fetch  : 182.12318420410156 ms\n",
      "INFO:root:Metadata fetch  : 155.6074619293213 ms\n",
      "INFO:root:Metadata fetch  : 167.07396507263184 ms\n",
      "INFO:root:Metadata fetch  : 183.71009826660156 ms\n",
      "INFO:root:Metadata fetch  : 164.86787796020508 ms\n",
      "INFO:root:Metadata fetch  : 156.9540500640869 ms\n",
      "INFO:root:Metadata fetch  : 140.83170890808105 ms\n",
      "INFO:root:Metadata fetch  : 148.9701271057129 ms\n",
      "INFO:root:Metadata fetch  : 149.94502067565918 ms\n",
      "INFO:root:Metadata fetch  : 142.3633098602295 ms\n",
      "INFO:root:Metadata fetch  : 139.2362117767334 ms\n",
      "INFO:root:Metadata fetch  : 195.74260711669922 ms\n",
      "INFO:root:Metadata fetch  : 206.75253868103027 ms\n",
      "INFO:root:Metadata fetch  : 194.0457820892334 ms\n",
      "INFO:root:Metadata fetch  : 150.4683494567871 ms\n",
      "INFO:root:Metadata fetch  : 143.00918579101562 ms\n",
      "INFO:root:Metadata fetch  : 165.16494750976562 ms\n",
      "INFO:root:Metadata fetch  : 215.05355834960938 ms\n",
      "INFO:root:Metadata fetch  : 192.28553771972656 ms\n",
      "INFO:root:Metadata fetch  : 178.5569190979004 ms\n",
      "INFO:root:Metadata fetch  : 126.94811820983887 ms\n",
      "INFO:root:Metadata fetch  : 159.11149978637695 ms\n",
      "INFO:root:Metadata fetch  : 155.27057647705078 ms\n",
      "INFO:root:Metadata fetch  : 107.86867141723633 ms\n",
      "INFO:root:Metadata fetch  : 115.22030830383301 ms\n",
      "INFO:root:Metadata fetch  : 180.36174774169922 ms\n",
      "INFO:root:Metadata fetch  : 115.2031421661377 ms\n",
      "INFO:root:Metadata fetch  : 143.46766471862793 ms\n",
      "INFO:root:Metadata fetch  : 150.28858184814453 ms\n",
      "INFO:root:Metadata fetch  : 165.74883460998535 ms\n",
      "INFO:root:Metadata fetch  : 140.43045043945312 ms\n",
      "INFO:root:Metadata fetch  : 253.98588180541992 ms\n",
      "INFO:root:Metadata fetch  : 126.53017044067383 ms\n",
      "INFO:root:Metadata fetch  : 159.21974182128906 ms\n",
      "INFO:root:Metadata fetch  : 192.55423545837402 ms\n",
      "INFO:root:Metadata fetch  : 219.40350532531738 ms\n",
      "INFO:root:Metadata fetch  : 126.52277946472168 ms\n",
      "INFO:root:Metadata fetch  : 166.69797897338867 ms\n",
      "INFO:root:Metadata fetch  : 166.88251495361328 ms\n",
      "INFO:root:Metadata fetch  : 267.6713466644287 ms\n",
      "INFO:root:Metadata fetch  : 166.81480407714844 ms\n",
      "INFO:root:Metadata fetch  : 247.97654151916504 ms\n",
      "INFO:root:Metadata fetch  : 192.67797470092773 ms\n",
      "INFO:root:Metadata fetch  : 155.5039882659912 ms\n",
      "INFO:root:Metadata fetch  : 164.88337516784668 ms\n",
      "INFO:root:Metadata fetch  : 151.17454528808594 ms\n",
      "INFO:root:Metadata fetch  : 184.87977981567383 ms\n",
      "INFO:root:Metadata fetch  : 94.3150520324707 ms\n",
      "INFO:root:Metadata fetch  : 180.77754974365234 ms\n",
      "INFO:root:Metadata fetch  : 160.57658195495605 ms\n",
      "INFO:root:Metadata fetch  : 161.83972358703613 ms\n",
      "INFO:root:Metadata fetch  : 97.98264503479004 ms\n",
      "INFO:root:Metadata fetch  : 158.5378646850586 ms\n",
      "INFO:root:Metadata fetch  : 150.96735954284668 ms\n",
      "INFO:root:Metadata fetch  : 214.95962142944336 ms\n",
      "INFO:root:Metadata fetch  : 179.8231601715088 ms\n",
      "INFO:root:Metadata fetch  : 175.03762245178223 ms\n",
      "INFO:root:Metadata fetch  : 174.96466636657715 ms\n",
      "INFO:root:Metadata fetch  : 208.75120162963867 ms\n",
      "INFO:root:Metadata fetch  : 217.0121669769287 ms\n",
      "INFO:root:Metadata fetch  : 295.1643466949463 ms\n",
      "INFO:root:Metadata fetch  : 197.45755195617676 ms\n",
      "INFO:root:Metadata fetch  : 176.6793727874756 ms\n",
      "INFO:root:Metadata fetch  : 159.66057777404785 ms\n",
      "INFO:root:Metadata fetch  : 205.50847053527832 ms\n",
      "INFO:root:Metadata fetch  : 149.8727798461914 ms\n",
      "INFO:root:Metadata fetch  : 208.09054374694824 ms\n",
      "INFO:root:Metadata fetch  : 188.460111618042 ms\n",
      "INFO:root:Metadata fetch  : 146.4686393737793 ms\n",
      "INFO:root:Metadata fetch  : 206.55488967895508 ms\n",
      "INFO:root:Metadata fetch  : 137.7239227294922 ms\n",
      "INFO:root:Metadata fetch  : 269.70362663269043 ms\n",
      "INFO:root:Metadata fetch  : 177.96874046325684 ms\n",
      "INFO:root:Metadata fetch  : 204.70833778381348 ms\n",
      "INFO:root:Metadata fetch  : 206.2697410583496 ms\n",
      "INFO:root:Metadata fetch  : 279.59656715393066 ms\n",
      "INFO:root:Metadata fetch  : 201.5249729156494 ms\n",
      "INFO:root:Metadata fetch  : 185.4560375213623 ms\n",
      "INFO:root:Metadata fetch  : 215.14105796813965 ms\n",
      "INFO:root:Metadata fetch  : 162.71138191223145 ms\n",
      "INFO:root:Metadata fetch  : 166.40186309814453 ms\n",
      "INFO:root:Metadata fetch  : 188.12012672424316 ms\n",
      "INFO:root:Metadata fetch  : 268.7246799468994 ms\n",
      "INFO:root:Metadata fetch  : 221.60053253173828 ms\n",
      "INFO:root:Metadata fetch  : 229.92300987243652 ms\n",
      "INFO:root:Metadata fetch  : 291.2435531616211 ms\n",
      "INFO:root:Metadata fetch  : 179.84700202941895 ms\n",
      "INFO:root:Metadata fetch  : 168.87664794921875 ms\n",
      "INFO:root:Metadata fetch  : 276.8516540527344 ms\n",
      "INFO:root:Metadata fetch  : 210.14785766601562 ms\n",
      "INFO:root:Metadata fetch  : 194.78583335876465 ms\n",
      "INFO:root:Metadata fetch  : 192.27123260498047 ms\n",
      "INFO:root:Metadata fetch  : 198.61674308776855 ms\n",
      "INFO:root:Metadata fetch  : 184.68165397644043 ms\n",
      "INFO:root:Metadata fetch  : 184.42392349243164 ms\n",
      "INFO:root:Metadata fetch  : 178.56287956237793 ms\n",
      "INFO:root:Metadata fetch  : 146.50511741638184 ms\n",
      "INFO:root:Metadata fetch  : 161.65518760681152 ms\n",
      "INFO:root:Metadata fetch  : 139.34063911437988 ms\n",
      "INFO:root:Metadata fetch  : 161.0550880432129 ms\n",
      "INFO:root:Metadata fetch  : 209.74445343017578 ms\n",
      "INFO:root:Metadata fetch  : 246.95730209350586 ms\n",
      "INFO:root:Metadata fetch  : 218.7812328338623 ms\n",
      "INFO:root:Metadata fetch  : 132.6613426208496 ms\n",
      "INFO:root:Metadata fetch  : 165.79508781433105 ms\n",
      "INFO:root:Metadata fetch  : 129.32300567626953 ms\n",
      "INFO:root:Metadata fetch  : 147.97401428222656 ms\n",
      "INFO:root:Metadata fetch  : 281.60715103149414 ms\n",
      "INFO:root:Metadata fetch  : 160.90106964111328 ms\n",
      "INFO:root:Metadata fetch  : 257.2522163391113 ms\n",
      "INFO:root:Metadata fetch  : 165.2076244354248 ms\n",
      "INFO:root:Metadata fetch  : 301.196813583374 ms\n",
      "INFO:root:Metadata fetch  : 204.6511173248291 ms\n",
      "INFO:root:Metadata fetch  : 183.3641529083252 ms\n",
      "INFO:root:Metadata fetch  : 162.50038146972656 ms\n",
      "INFO:root:Metadata fetch  : 198.96173477172852 ms\n",
      "INFO:root:Metadata fetch  : 163.78045082092285 ms\n",
      "INFO:root:Metadata fetch  : 161.65733337402344 ms\n",
      "INFO:root:Metadata fetch  : 175.19593238830566 ms\n",
      "INFO:root:Metadata fetch  : 138.02146911621094 ms\n",
      "INFO:root:Metadata fetch  : 175.9326457977295 ms\n",
      "INFO:root:Metadata fetch  : 154.98590469360352 ms\n",
      "INFO:root:Metadata fetch  : 168.32923889160156 ms\n",
      "INFO:root:Metadata fetch  : 157.24968910217285 ms\n",
      "INFO:root:Metadata fetch  : 161.78178787231445 ms\n",
      "INFO:root:Metadata fetch  : 167.30189323425293 ms\n",
      "INFO:root:Metadata fetch  : 207.08179473876953 ms\n",
      "INFO:root:Metadata fetch  : 168.01214218139648 ms\n",
      "INFO:root:Metadata fetch  : 193.05944442749023 ms\n",
      "INFO:root:Metadata fetch  : 188.37475776672363 ms\n",
      "INFO:root:Metadata fetch  : 155.27987480163574 ms\n",
      "INFO:root:Metadata fetch  : 211.9314670562744 ms\n",
      "INFO:root:Metadata fetch  : 130.32960891723633 ms\n",
      "INFO:root:Metadata fetch  : 174.3025779724121 ms\n",
      "INFO:root:Metadata fetch  : 149.97553825378418 ms\n",
      "INFO:root:Metadata fetch  : 291.13054275512695 ms\n",
      "INFO:root:Metadata fetch  : 163.19561004638672 ms\n",
      "INFO:root:Metadata fetch  : 105.55791854858398 ms\n",
      "INFO:root:Metadata fetch  : 204.76055145263672 ms\n",
      "INFO:root:Metadata fetch  : 189.37134742736816 ms\n",
      "INFO:root:Metadata fetch  : 175.13680458068848 ms\n",
      "INFO:root:Metadata fetch  : 162.42718696594238 ms\n",
      "INFO:root:Metadata fetch  : 180.01604080200195 ms\n",
      "INFO:root:Metadata fetch  : 122.21527099609375 ms\n",
      "INFO:root:Metadata fetch  : 227.67019271850586 ms\n",
      "INFO:root:Metadata fetch  : 170.81356048583984 ms\n",
      "INFO:root:Metadata fetch  : 124.40252304077148 ms\n",
      "INFO:root:Metadata fetch  : 173.51865768432617 ms\n",
      "INFO:root:Metadata fetch  : 197.63946533203125 ms\n",
      "INFO:root:Metadata fetch  : 146.12054824829102 ms\n",
      "INFO:root:Metadata fetch  : 177.3357391357422 ms\n",
      "INFO:root:Metadata fetch  : 133.3174705505371 ms\n",
      "INFO:root:Metadata fetch  : 159.42859649658203 ms\n",
      "INFO:root:Metadata fetch  : 187.30521202087402 ms\n",
      "INFO:root:Metadata fetch  : 116.2424087524414 ms\n",
      "INFO:root:Metadata fetch  : 146.9111442565918 ms\n",
      "INFO:root:Metadata fetch  : 158.36262702941895 ms\n",
      "INFO:root:Metadata fetch  : 173.65169525146484 ms\n",
      "INFO:root:Metadata fetch  : 165.41528701782227 ms\n",
      "INFO:root:Metadata fetch  : 164.1547679901123 ms\n",
      "INFO:root:Metadata fetch  : 163.4225845336914 ms\n",
      "INFO:root:Metadata fetch  : 122.25174903869629 ms\n",
      "INFO:root:Metadata fetch  : 201.7233371734619 ms\n",
      "INFO:root:Metadata fetch  : 180.30548095703125 ms\n",
      "INFO:root:Metadata fetch  : 219.6042537689209 ms\n",
      "INFO:root:Metadata fetch  : 197.91579246520996 ms\n",
      "INFO:root:Metadata fetch  : 147.23777770996094 ms\n",
      "INFO:root:Metadata fetch  : 165.91858863830566 ms\n",
      "INFO:root:Metadata fetch  : 133.26048851013184 ms\n",
      "INFO:root:Metadata fetch  : 158.69903564453125 ms\n",
      "INFO:root:Metadata fetch  : 190.15026092529297 ms\n",
      "INFO:root:Metadata fetch  : 163.98334503173828 ms\n",
      "INFO:root:Metadata fetch  : 190.57416915893555 ms\n",
      "INFO:root:Metadata fetch  : 137.63046264648438 ms\n",
      "INFO:root:Metadata fetch  : 124.17721748352051 ms\n",
      "INFO:root:Metadata fetch  : 160.38084030151367 ms\n",
      "INFO:root:Metadata fetch  : 148.84662628173828 ms\n",
      "INFO:root:Metadata fetch  : 171.7970371246338 ms\n"
     ]
    }
   ],
   "source": [
    "for s in imageSetIds.keys():\n",
    "    json_dicom_header = medicalimaging.getMetadata(datastoreId, s)\n",
    "    patient = json_dicom_header['Patient']['DICOM']\n",
    "    patient['imagesetid'] = s\n",
    "    s3.put_object(\n",
    "        Body=json.dumps(patient),\n",
    "        Bucket=OutputBucketName,\n",
    "        Key='dicom_header/json/patient/{}'.format(s)\n",
    "    )\n",
    "    study=json_dicom_header['Study']['DICOM']\n",
    "    study['imagesetid'] = s\n",
    "    s3.put_object(\n",
    "        Body=json.dumps(study),\n",
    "        Bucket=OutputBucketName,\n",
    "        Key='dicom_header/json/study/{}'.format(s)\n",
    "    )\n",
    "    for se in list(json_dicom_header['Study']['Series'].keys()):\n",
    "        s3.put_object(\n",
    "            Body=json.dumps(json_dicom_header['Study']['Series'][se]['DICOM']),\n",
    "            Bucket=OutputBucketName,\n",
    "            Key='dicom_header/json/series/{}'.format(s)\n",
    "        )\n",
    "        for i in list(json_dicom_header['Study']['Series'][se]['Instances']):\n",
    "            s3.put_object(\n",
    "                Body=json.dumps(json_dicom_header['Study']['Series'][se]['Instances'][i]),\n",
    "                Bucket=OutputBucketName,\n",
    "                Key='dicom_header/json/series/{}'.format(s)\n",
    "            )"
   ]
  },
  {
   "cell_type": "code",
   "execution_count": 5,
   "id": "ec6636ae-ef00-4a23-99b0-398a0f1a1c26",
   "metadata": {
    "tags": []
   },
   "outputs": [
    {
     "name": "stdout",
     "output_type": "stream",
     "text": [
      "Variable                              Type        Data/Info\n",
      "-----------------------------------------------------------\n",
      "DiscoveryWidget                       type        <class '__main__.DiscoveryWidget'>\n",
      "Loader                                ABCMeta     <class 'importlib.abc.Loader'>\n",
      "MetaPathFinder                        ABCMeta     <class 'importlib.abc.MetaPathFinder'>\n",
      "ModuleSpec                            type        <class '_frozen_importlib.ModuleSpec'>\n",
      "PACKAGE_DIRS                          type        <class '__main__.PACKAGE_DIRS'>\n",
      "SageMakerDataWranglerPandasFinder     ABCMeta     <class '__main__.SageMake<...>ataWranglerPandasFinder'>\n",
      "display                               function    <function display at 0x7f89fd75daf0>\n",
      "has_pandas_finder                     function    <function has_pandas_finder at 0x7f89f85eeb80>\n",
      "is_sagemaker_datawrangler_installed   function    <function is_sagemaker_da<...>talled at 0x7f89f85eeaf0>\n",
      "os                                    module      <module 'os' from '/opt/c<...>nda/lib/python3.8/os.py'>\n",
      "sys                                   module      <module 'sys' (built-in)>\n"
     ]
    }
   ],
   "source": [
    "whos"
   ]
  },
  {
   "cell_type": "markdown",
   "id": "1b99d75c-f3a5-42f1-b4f8-b46f756dffbe",
   "metadata": {},
   "source": [
    "## Clean Up"
   ]
  },
  {
   "cell_type": "code",
   "execution_count": null,
   "id": "ec1c8cbb-8d90-4806-a873-655ccb9b20fa",
   "metadata": {},
   "outputs": [],
   "source": [
    "try:\n",
    "    s3res = boto3.resource('s3')\n",
    "    bucket = s3res.Bucket(InputBucketName)\n",
    "    bucket.object_versions.delete()\n",
    "    s3.delete_bucket(Bucket=InputBucketName)\n",
    "    bucket = s3res.Bucket(OutputBucketName)\n",
    "    bucket.object_versions.delete()\n",
    "    s3.delete_bucket(Bucket=OutputBucketName)\n",
    "except ClientError  as e:\n",
    "    if e.response['Error']['Code'] == 'NoSuchBucket':\n",
    "        print(\"Bucket already deleted\")\n",
    "    \n",
    "try: \n",
    "    resp = iam.detach_role_policy(PolicyArn=respons_createpolicy['Policy']['Arn'],RoleName=response_createrole['Role']['RoleName'])\n",
    "    resp = iam.delete_policy(PolicyArn=respons_createpolicy['Policy']['Arn'])\n",
    "    resp = iam.delete_role(RoleName=response_createrole['Role']['RoleName'])\n",
    "except ClientError as ee:\n",
    "    if ee.response['Error']['Code'] == 'NoSuchEntity':\n",
    "        print(\"Policy not attached, ignore\")\n",
    "    else: \n",
    "        print(ee)"
   ]
  }
 ],
 "metadata": {
  "availableInstances": [
   {
    "_defaultOrder": 0,
    "_isFastLaunch": true,
    "category": "General purpose",
    "gpuNum": 0,
    "hideHardwareSpecs": false,
    "memoryGiB": 4,
    "name": "ml.t3.medium",
    "vcpuNum": 2
   },
   {
    "_defaultOrder": 1,
    "_isFastLaunch": false,
    "category": "General purpose",
    "gpuNum": 0,
    "hideHardwareSpecs": false,
    "memoryGiB": 8,
    "name": "ml.t3.large",
    "vcpuNum": 2
   },
   {
    "_defaultOrder": 2,
    "_isFastLaunch": false,
    "category": "General purpose",
    "gpuNum": 0,
    "hideHardwareSpecs": false,
    "memoryGiB": 16,
    "name": "ml.t3.xlarge",
    "vcpuNum": 4
   },
   {
    "_defaultOrder": 3,
    "_isFastLaunch": false,
    "category": "General purpose",
    "gpuNum": 0,
    "hideHardwareSpecs": false,
    "memoryGiB": 32,
    "name": "ml.t3.2xlarge",
    "vcpuNum": 8
   },
   {
    "_defaultOrder": 4,
    "_isFastLaunch": true,
    "category": "General purpose",
    "gpuNum": 0,
    "hideHardwareSpecs": false,
    "memoryGiB": 8,
    "name": "ml.m5.large",
    "vcpuNum": 2
   },
   {
    "_defaultOrder": 5,
    "_isFastLaunch": false,
    "category": "General purpose",
    "gpuNum": 0,
    "hideHardwareSpecs": false,
    "memoryGiB": 16,
    "name": "ml.m5.xlarge",
    "vcpuNum": 4
   },
   {
    "_defaultOrder": 6,
    "_isFastLaunch": false,
    "category": "General purpose",
    "gpuNum": 0,
    "hideHardwareSpecs": false,
    "memoryGiB": 32,
    "name": "ml.m5.2xlarge",
    "vcpuNum": 8
   },
   {
    "_defaultOrder": 7,
    "_isFastLaunch": false,
    "category": "General purpose",
    "gpuNum": 0,
    "hideHardwareSpecs": false,
    "memoryGiB": 64,
    "name": "ml.m5.4xlarge",
    "vcpuNum": 16
   },
   {
    "_defaultOrder": 8,
    "_isFastLaunch": false,
    "category": "General purpose",
    "gpuNum": 0,
    "hideHardwareSpecs": false,
    "memoryGiB": 128,
    "name": "ml.m5.8xlarge",
    "vcpuNum": 32
   },
   {
    "_defaultOrder": 9,
    "_isFastLaunch": false,
    "category": "General purpose",
    "gpuNum": 0,
    "hideHardwareSpecs": false,
    "memoryGiB": 192,
    "name": "ml.m5.12xlarge",
    "vcpuNum": 48
   },
   {
    "_defaultOrder": 10,
    "_isFastLaunch": false,
    "category": "General purpose",
    "gpuNum": 0,
    "hideHardwareSpecs": false,
    "memoryGiB": 256,
    "name": "ml.m5.16xlarge",
    "vcpuNum": 64
   },
   {
    "_defaultOrder": 11,
    "_isFastLaunch": false,
    "category": "General purpose",
    "gpuNum": 0,
    "hideHardwareSpecs": false,
    "memoryGiB": 384,
    "name": "ml.m5.24xlarge",
    "vcpuNum": 96
   },
   {
    "_defaultOrder": 12,
    "_isFastLaunch": false,
    "category": "General purpose",
    "gpuNum": 0,
    "hideHardwareSpecs": false,
    "memoryGiB": 8,
    "name": "ml.m5d.large",
    "vcpuNum": 2
   },
   {
    "_defaultOrder": 13,
    "_isFastLaunch": false,
    "category": "General purpose",
    "gpuNum": 0,
    "hideHardwareSpecs": false,
    "memoryGiB": 16,
    "name": "ml.m5d.xlarge",
    "vcpuNum": 4
   },
   {
    "_defaultOrder": 14,
    "_isFastLaunch": false,
    "category": "General purpose",
    "gpuNum": 0,
    "hideHardwareSpecs": false,
    "memoryGiB": 32,
    "name": "ml.m5d.2xlarge",
    "vcpuNum": 8
   },
   {
    "_defaultOrder": 15,
    "_isFastLaunch": false,
    "category": "General purpose",
    "gpuNum": 0,
    "hideHardwareSpecs": false,
    "memoryGiB": 64,
    "name": "ml.m5d.4xlarge",
    "vcpuNum": 16
   },
   {
    "_defaultOrder": 16,
    "_isFastLaunch": false,
    "category": "General purpose",
    "gpuNum": 0,
    "hideHardwareSpecs": false,
    "memoryGiB": 128,
    "name": "ml.m5d.8xlarge",
    "vcpuNum": 32
   },
   {
    "_defaultOrder": 17,
    "_isFastLaunch": false,
    "category": "General purpose",
    "gpuNum": 0,
    "hideHardwareSpecs": false,
    "memoryGiB": 192,
    "name": "ml.m5d.12xlarge",
    "vcpuNum": 48
   },
   {
    "_defaultOrder": 18,
    "_isFastLaunch": false,
    "category": "General purpose",
    "gpuNum": 0,
    "hideHardwareSpecs": false,
    "memoryGiB": 256,
    "name": "ml.m5d.16xlarge",
    "vcpuNum": 64
   },
   {
    "_defaultOrder": 19,
    "_isFastLaunch": false,
    "category": "General purpose",
    "gpuNum": 0,
    "hideHardwareSpecs": false,
    "memoryGiB": 384,
    "name": "ml.m5d.24xlarge",
    "vcpuNum": 96
   },
   {
    "_defaultOrder": 20,
    "_isFastLaunch": false,
    "category": "General purpose",
    "gpuNum": 0,
    "hideHardwareSpecs": true,
    "memoryGiB": 0,
    "name": "ml.geospatial.interactive",
    "supportedImageNames": [
     "sagemaker-geospatial-v1-0"
    ],
    "vcpuNum": 0
   },
   {
    "_defaultOrder": 21,
    "_isFastLaunch": true,
    "category": "Compute optimized",
    "gpuNum": 0,
    "hideHardwareSpecs": false,
    "memoryGiB": 4,
    "name": "ml.c5.large",
    "vcpuNum": 2
   },
   {
    "_defaultOrder": 22,
    "_isFastLaunch": false,
    "category": "Compute optimized",
    "gpuNum": 0,
    "hideHardwareSpecs": false,
    "memoryGiB": 8,
    "name": "ml.c5.xlarge",
    "vcpuNum": 4
   },
   {
    "_defaultOrder": 23,
    "_isFastLaunch": false,
    "category": "Compute optimized",
    "gpuNum": 0,
    "hideHardwareSpecs": false,
    "memoryGiB": 16,
    "name": "ml.c5.2xlarge",
    "vcpuNum": 8
   },
   {
    "_defaultOrder": 24,
    "_isFastLaunch": false,
    "category": "Compute optimized",
    "gpuNum": 0,
    "hideHardwareSpecs": false,
    "memoryGiB": 32,
    "name": "ml.c5.4xlarge",
    "vcpuNum": 16
   },
   {
    "_defaultOrder": 25,
    "_isFastLaunch": false,
    "category": "Compute optimized",
    "gpuNum": 0,
    "hideHardwareSpecs": false,
    "memoryGiB": 72,
    "name": "ml.c5.9xlarge",
    "vcpuNum": 36
   },
   {
    "_defaultOrder": 26,
    "_isFastLaunch": false,
    "category": "Compute optimized",
    "gpuNum": 0,
    "hideHardwareSpecs": false,
    "memoryGiB": 96,
    "name": "ml.c5.12xlarge",
    "vcpuNum": 48
   },
   {
    "_defaultOrder": 27,
    "_isFastLaunch": false,
    "category": "Compute optimized",
    "gpuNum": 0,
    "hideHardwareSpecs": false,
    "memoryGiB": 144,
    "name": "ml.c5.18xlarge",
    "vcpuNum": 72
   },
   {
    "_defaultOrder": 28,
    "_isFastLaunch": false,
    "category": "Compute optimized",
    "gpuNum": 0,
    "hideHardwareSpecs": false,
    "memoryGiB": 192,
    "name": "ml.c5.24xlarge",
    "vcpuNum": 96
   },
   {
    "_defaultOrder": 29,
    "_isFastLaunch": true,
    "category": "Accelerated computing",
    "gpuNum": 1,
    "hideHardwareSpecs": false,
    "memoryGiB": 16,
    "name": "ml.g4dn.xlarge",
    "vcpuNum": 4
   },
   {
    "_defaultOrder": 30,
    "_isFastLaunch": false,
    "category": "Accelerated computing",
    "gpuNum": 1,
    "hideHardwareSpecs": false,
    "memoryGiB": 32,
    "name": "ml.g4dn.2xlarge",
    "vcpuNum": 8
   },
   {
    "_defaultOrder": 31,
    "_isFastLaunch": false,
    "category": "Accelerated computing",
    "gpuNum": 1,
    "hideHardwareSpecs": false,
    "memoryGiB": 64,
    "name": "ml.g4dn.4xlarge",
    "vcpuNum": 16
   },
   {
    "_defaultOrder": 32,
    "_isFastLaunch": false,
    "category": "Accelerated computing",
    "gpuNum": 1,
    "hideHardwareSpecs": false,
    "memoryGiB": 128,
    "name": "ml.g4dn.8xlarge",
    "vcpuNum": 32
   },
   {
    "_defaultOrder": 33,
    "_isFastLaunch": false,
    "category": "Accelerated computing",
    "gpuNum": 4,
    "hideHardwareSpecs": false,
    "memoryGiB": 192,
    "name": "ml.g4dn.12xlarge",
    "vcpuNum": 48
   },
   {
    "_defaultOrder": 34,
    "_isFastLaunch": false,
    "category": "Accelerated computing",
    "gpuNum": 1,
    "hideHardwareSpecs": false,
    "memoryGiB": 256,
    "name": "ml.g4dn.16xlarge",
    "vcpuNum": 64
   },
   {
    "_defaultOrder": 35,
    "_isFastLaunch": false,
    "category": "Accelerated computing",
    "gpuNum": 1,
    "hideHardwareSpecs": false,
    "memoryGiB": 61,
    "name": "ml.p3.2xlarge",
    "vcpuNum": 8
   },
   {
    "_defaultOrder": 36,
    "_isFastLaunch": false,
    "category": "Accelerated computing",
    "gpuNum": 4,
    "hideHardwareSpecs": false,
    "memoryGiB": 244,
    "name": "ml.p3.8xlarge",
    "vcpuNum": 32
   },
   {
    "_defaultOrder": 37,
    "_isFastLaunch": false,
    "category": "Accelerated computing",
    "gpuNum": 8,
    "hideHardwareSpecs": false,
    "memoryGiB": 488,
    "name": "ml.p3.16xlarge",
    "vcpuNum": 64
   },
   {
    "_defaultOrder": 38,
    "_isFastLaunch": false,
    "category": "Accelerated computing",
    "gpuNum": 8,
    "hideHardwareSpecs": false,
    "memoryGiB": 768,
    "name": "ml.p3dn.24xlarge",
    "vcpuNum": 96
   },
   {
    "_defaultOrder": 39,
    "_isFastLaunch": false,
    "category": "Memory Optimized",
    "gpuNum": 0,
    "hideHardwareSpecs": false,
    "memoryGiB": 16,
    "name": "ml.r5.large",
    "vcpuNum": 2
   },
   {
    "_defaultOrder": 40,
    "_isFastLaunch": false,
    "category": "Memory Optimized",
    "gpuNum": 0,
    "hideHardwareSpecs": false,
    "memoryGiB": 32,
    "name": "ml.r5.xlarge",
    "vcpuNum": 4
   },
   {
    "_defaultOrder": 41,
    "_isFastLaunch": false,
    "category": "Memory Optimized",
    "gpuNum": 0,
    "hideHardwareSpecs": false,
    "memoryGiB": 64,
    "name": "ml.r5.2xlarge",
    "vcpuNum": 8
   },
   {
    "_defaultOrder": 42,
    "_isFastLaunch": false,
    "category": "Memory Optimized",
    "gpuNum": 0,
    "hideHardwareSpecs": false,
    "memoryGiB": 128,
    "name": "ml.r5.4xlarge",
    "vcpuNum": 16
   },
   {
    "_defaultOrder": 43,
    "_isFastLaunch": false,
    "category": "Memory Optimized",
    "gpuNum": 0,
    "hideHardwareSpecs": false,
    "memoryGiB": 256,
    "name": "ml.r5.8xlarge",
    "vcpuNum": 32
   },
   {
    "_defaultOrder": 44,
    "_isFastLaunch": false,
    "category": "Memory Optimized",
    "gpuNum": 0,
    "hideHardwareSpecs": false,
    "memoryGiB": 384,
    "name": "ml.r5.12xlarge",
    "vcpuNum": 48
   },
   {
    "_defaultOrder": 45,
    "_isFastLaunch": false,
    "category": "Memory Optimized",
    "gpuNum": 0,
    "hideHardwareSpecs": false,
    "memoryGiB": 512,
    "name": "ml.r5.16xlarge",
    "vcpuNum": 64
   },
   {
    "_defaultOrder": 46,
    "_isFastLaunch": false,
    "category": "Memory Optimized",
    "gpuNum": 0,
    "hideHardwareSpecs": false,
    "memoryGiB": 768,
    "name": "ml.r5.24xlarge",
    "vcpuNum": 96
   },
   {
    "_defaultOrder": 47,
    "_isFastLaunch": false,
    "category": "Accelerated computing",
    "gpuNum": 1,
    "hideHardwareSpecs": false,
    "memoryGiB": 16,
    "name": "ml.g5.xlarge",
    "vcpuNum": 4
   },
   {
    "_defaultOrder": 48,
    "_isFastLaunch": false,
    "category": "Accelerated computing",
    "gpuNum": 1,
    "hideHardwareSpecs": false,
    "memoryGiB": 32,
    "name": "ml.g5.2xlarge",
    "vcpuNum": 8
   },
   {
    "_defaultOrder": 49,
    "_isFastLaunch": false,
    "category": "Accelerated computing",
    "gpuNum": 1,
    "hideHardwareSpecs": false,
    "memoryGiB": 64,
    "name": "ml.g5.4xlarge",
    "vcpuNum": 16
   },
   {
    "_defaultOrder": 50,
    "_isFastLaunch": false,
    "category": "Accelerated computing",
    "gpuNum": 1,
    "hideHardwareSpecs": false,
    "memoryGiB": 128,
    "name": "ml.g5.8xlarge",
    "vcpuNum": 32
   },
   {
    "_defaultOrder": 51,
    "_isFastLaunch": false,
    "category": "Accelerated computing",
    "gpuNum": 1,
    "hideHardwareSpecs": false,
    "memoryGiB": 256,
    "name": "ml.g5.16xlarge",
    "vcpuNum": 64
   },
   {
    "_defaultOrder": 52,
    "_isFastLaunch": false,
    "category": "Accelerated computing",
    "gpuNum": 4,
    "hideHardwareSpecs": false,
    "memoryGiB": 192,
    "name": "ml.g5.12xlarge",
    "vcpuNum": 48
   },
   {
    "_defaultOrder": 53,
    "_isFastLaunch": false,
    "category": "Accelerated computing",
    "gpuNum": 4,
    "hideHardwareSpecs": false,
    "memoryGiB": 384,
    "name": "ml.g5.24xlarge",
    "vcpuNum": 96
   },
   {
    "_defaultOrder": 54,
    "_isFastLaunch": false,
    "category": "Accelerated computing",
    "gpuNum": 8,
    "hideHardwareSpecs": false,
    "memoryGiB": 768,
    "name": "ml.g5.48xlarge",
    "vcpuNum": 192
   },
   {
    "_defaultOrder": 55,
    "_isFastLaunch": false,
    "category": "Accelerated computing",
    "gpuNum": 8,
    "hideHardwareSpecs": false,
    "memoryGiB": 1152,
    "name": "ml.p4d.24xlarge",
    "vcpuNum": 96
   },
   {
    "_defaultOrder": 56,
    "_isFastLaunch": false,
    "category": "Accelerated computing",
    "gpuNum": 8,
    "hideHardwareSpecs": false,
    "memoryGiB": 1152,
    "name": "ml.p4de.24xlarge",
    "vcpuNum": 96
   }
  ],
  "instance_type": "ml.t3.medium",
  "kernelspec": {
   "display_name": "Python 3 (Data Science)",
   "language": "python",
   "name": "python3__SAGEMAKER_INTERNAL__arn:aws:sagemaker:us-east-1:081325390199:image/datascience-1.0"
  },
  "language_info": {
   "codemirror_mode": {
    "name": "ipython",
    "version": 3
   },
   "file_extension": ".py",
   "mimetype": "text/x-python",
   "name": "python",
   "nbconvert_exporter": "python",
   "pygments_lexer": "ipython3",
   "version": "3.7.10"
  }
 },
 "nbformat": 4,
 "nbformat_minor": 5
}
