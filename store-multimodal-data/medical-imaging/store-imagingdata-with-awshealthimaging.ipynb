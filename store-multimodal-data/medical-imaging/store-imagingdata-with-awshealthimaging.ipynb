{
 "cells": [
  {
   "cell_type": "code",
   "execution_count": null,
   "id": "3c073628-e7a4-4598-98cc-b6134c104446",
   "metadata": {
    "tags": []
   },
   "outputs": [],
   "source": [
    " %%sh\n",
    "pip install -q --upgrade pip\n",
    "pip install -q --upgrade boto3 botocore\n",
    "pip install -q tqdm nibabel pydicom numpy pylibjpeg-openjpeg "
   ]
  },
  {
   "cell_type": "code",
   "execution_count": null,
   "id": "a1971f92-2784-46f7-8528-47cdd530ae19",
   "metadata": {
    "tags": []
   },
   "outputs": [],
   "source": [
    "import pydicom\n",
    "from pydicom.sequence import Sequence\n",
    "from pydicom import Dataset , DataElement \n",
    "from pydicom.dataset import FileDataset, FileMetaDataset\n",
    "from pydicom.uid import UID\n",
    "from pydicom.pixel_data_handlers.util import convert_color_space , apply_color_lut\n",
    "from openjpeg import decode\n",
    "import array\n",
    "import json\n",
    "import logging\n",
    "import importlib  \n",
    "import boto3\n",
    "import sagemaker\n",
    "from sagemaker import get_execution_role\n",
    "import io\n",
    "import sys\n",
    "import time\n",
    "import os\n",
    "import pandas as pd\n",
    "from botocore.exceptions import ClientError\n",
    "logging.basicConfig( level=\"INFO\" )\n",
    "# logging.basicConfig( level=\"DEBUG\" )\n",
    "from src.Api import MedicalImaging \n",
    "medicalimaging = MedicalImaging()\n",
    "\n",
    "account_id = boto3.client(\"sts\").get_caller_identity()[\"Account\"]\n",
    "region = boto3.Session().region_name\n",
    "bucket = sagemaker.Session().default_bucket()\n",
    "role = get_execution_role()\n",
    "print(f\"S3 Bucket is {bucket}\")\n",
    "print(f\"IAM role is {role}\")"
   ]
  },
  {
   "cell_type": "markdown",
   "id": "af33e224-5a2e-42f4-b35e-70c04a93106c",
   "metadata": {},
   "source": [
    "Copy over Coherent DICOM images to Default SageMaker S3 bucket"
   ]
  },
  {
   "cell_type": "code",
   "execution_count": null,
   "id": "6994f21d-f0d8-461a-9353-f288125ed474",
   "metadata": {
    "tags": []
   },
   "outputs": [],
   "source": [
    "!aws s3 sync s3://guidance-multimodal-hcls-healthai-machinelearning-{region}/imaging s3://{bucket}/imaging/ 2>&1 > /dev/null"
   ]
  },
  {
   "cell_type": "code",
   "execution_count": null,
   "id": "fd781e6e-606e-4bad-aa36-c2a48fe7bd91",
   "metadata": {
    "tags": []
   },
   "outputs": [],
   "source": [
    "DatastoreName = \"WorkshopDataStore\"\n",
    "datastoreList = medicalimaging.listDatastores()\n",
    "\n",
    "res_createstore = None\n",
    "for datastore in datastoreList[\"datastoreSummaries\"]:\n",
    "    if datastore[\"datastoreName\"] == DatastoreName:\n",
    "        res_createstore = datastore\n",
    "        break\n",
    "if res_createstore is None:        \n",
    "    res_createstore = medicalimaging.createDatastore(DatastoreName)\n",
    "\n",
    "datastoreId = res_createstore['datastoreId']\n",
    "res_getstore = medicalimaging.getDatastore(res_createstore['datastoreId'])    \n",
    "status = res_getstore['datastoreProperties']['datastoreStatus']\n",
    "while status!='ACTIVE':\n",
    "    time.sleep(30)\n",
    "    res_getstore = medicalimaging.getDatastore(res_createstore['datastoreId'])    \n",
    "    status = res_getstore['datastoreProperties']['datastoreStatus']\n",
    "    print(status)\n",
    "print(f\"datastoreId: {datastoreId}; status: {status}\")"
   ]
  },
  {
   "cell_type": "code",
   "execution_count": null,
   "id": "ede3adfd-4f26-4ada-a75a-3cbff1ed9cc4",
   "metadata": {
    "tags": []
   },
   "outputs": [],
   "source": [
    "res_startimportjob = medicalimaging.startImportJob(\n",
    "    res_createstore['datastoreId'],\n",
    "    f\"arn:aws:iam::{account_id}:role/HealthImagingImportJobRole\",\n",
    "    's3://'+bucket+'/imaging/', \n",
    "    's3://'+bucket+'/ahi_importjob_output/'\n",
    ")\n",
    "\n",
    "jobId = res_startimportjob['jobId']\n",
    "jobstatus = medicalimaging.getImportJob(datastoreId, jobId)['jobProperties']['jobStatus']\n",
    "while jobstatus!='COMPLETED':\n",
    "    time.sleep(30)\n",
    "    jobstatus = medicalimaging.getImportJob(datastoreId, jobId)['jobProperties']['jobStatus']\n",
    "print(f\"jobstatus is {jobstatus}\")"
   ]
  },
  {
   "cell_type": "code",
   "execution_count": null,
   "id": "525b2359-60ec-4395-830a-639709af8614",
   "metadata": {
    "tags": []
   },
   "outputs": [],
   "source": [
    "imageSetIds = {}\n",
    "s3=boto3.client('s3')\n",
    "try:\n",
    "    response = s3.head_object(Bucket=bucket, Key=f\"ahi_importjob_output/{datastoreId}-DicomImport-{jobId}/job-output-manifest.json\")\n",
    "    if response['ResponseMetadata']['HTTPStatusCode'] == 200:\n",
    "        data = s3.get_object(Bucket=bucket, Key=f\"ahi_importjob_output/{datastoreId}-DicomImport-{jobId}/SUCCESS/success.ndjson\")\n",
    "        contents = data['Body'].read().decode(\"utf-8\")\n",
    "        for l in contents.splitlines():\n",
    "            isid = json.loads(l)['importResponse']['imageSetId']\n",
    "            if isid in imageSetIds:\n",
    "                imageSetIds[isid]+=1\n",
    "            else:\n",
    "                imageSetIds[isid]=1\n",
    "except ClientError:\n",
    "    pass\n",
    "\n",
    "\n",
    "print(\"number of image sets: {}\".format(len(imageSetIds)))"
   ]
  },
  {
   "cell_type": "code",
   "execution_count": null,
   "id": "378fee7b-2b32-4985-a6b0-de722495c966",
   "metadata": {
    "tags": []
   },
   "outputs": [],
   "source": [
    "%store datastoreId\n",
    "%store imageSetIds\n",
    "%store jobId"
   ]
  },
  {
   "cell_type": "markdown",
   "id": "1f5a7471-e9ad-45ea-a96c-572a774a7529",
   "metadata": {},
   "source": [
    "## (Optional) Save JSON to S3"
   ]
  },
  {
   "cell_type": "code",
   "execution_count": null,
   "id": "58885cdc-a662-4e43-9f3c-d215719a7931",
   "metadata": {
    "tags": []
   },
   "outputs": [],
   "source": [
    "for s in imageSetIds.keys():\n",
    "    json_dicom_header = medicalimaging.getMetadata(datastoreId, s)\n",
    "    patient = json_dicom_header['Patient']['DICOM']\n",
    "    patient['imagesetid'] = s\n",
    "    s3.put_object(\n",
    "        Body=json.dumps(patient),\n",
    "        Bucket=OutputBucketName,\n",
    "        Key='dicom_header/json/patient/{}'.format(s)\n",
    "    )\n",
    "    study=json_dicom_header['Study']['DICOM']\n",
    "    study['imagesetid'] = s\n",
    "    s3.put_object(\n",
    "        Body=json.dumps(study),\n",
    "        Bucket=OutputBucketName,\n",
    "        Key='dicom_header/json/study/{}'.format(s)\n",
    "    )\n",
    "    for se in list(json_dicom_header['Study']['Series'].keys()):\n",
    "        s3.put_object(\n",
    "            Body=json.dumps(json_dicom_header['Study']['Series'][se]['DICOM']),\n",
    "            Bucket=OutputBucketName,\n",
    "            Key='dicom_header/json/series/{}'.format(s)\n",
    "        )\n",
    "        for i in list(json_dicom_header['Study']['Series'][se]['Instances']):\n",
    "            s3.put_object(\n",
    "                Body=json.dumps(json_dicom_header['Study']['Series'][se]['Instances'][i]),\n",
    "                Bucket=OutputBucketName,\n",
    "                Key='dicom_header/json/series/{}'.format(s)\n",
    "            )"
   ]
  },
  {
   "cell_type": "markdown",
   "id": "1b99d75c-f3a5-42f1-b4f8-b46f756dffbe",
   "metadata": {},
   "source": [
    "## Clean Up"
   ]
  },
  {
   "cell_type": "code",
   "execution_count": null,
   "id": "ec1c8cbb-8d90-4806-a873-655ccb9b20fa",
   "metadata": {},
   "outputs": [],
   "source": [
    "try:\n",
    "    s3res = boto3.resource('s3')\n",
    "    bucket = s3res.Bucket(InputBucketName)\n",
    "    bucket.object_versions.delete()\n",
    "    s3.delete_bucket(Bucket=InputBucketName)\n",
    "    bucket = s3res.Bucket(OutputBucketName)\n",
    "    bucket.object_versions.delete()\n",
    "    s3.delete_bucket(Bucket=OutputBucketName)\n",
    "except ClientError  as e:\n",
    "    if e.response['Error']['Code'] == 'NoSuchBucket':\n",
    "        print(\"Bucket already deleted\")\n",
    "    \n",
    "try: \n",
    "    resp = iam.detach_role_policy(PolicyArn=respons_createpolicy['Policy']['Arn'],RoleName=response_createrole['Role']['RoleName'])\n",
    "    resp = iam.delete_policy(PolicyArn=respons_createpolicy['Policy']['Arn'])\n",
    "    resp = iam.delete_role(RoleName=response_createrole['Role']['RoleName'])\n",
    "except ClientError as ee:\n",
    "    if ee.response['Error']['Code'] == 'NoSuchEntity':\n",
    "        print(\"Policy not attached, ignore\")\n",
    "    else: \n",
    "        print(ee)"
   ]
  }
 ],
 "metadata": {
  "availableInstances": [
   {
    "_defaultOrder": 0,
    "_isFastLaunch": true,
    "category": "General purpose",
    "gpuNum": 0,
    "hideHardwareSpecs": false,
    "memoryGiB": 4,
    "name": "ml.t3.medium",
    "vcpuNum": 2
   },
   {
    "_defaultOrder": 1,
    "_isFastLaunch": false,
    "category": "General purpose",
    "gpuNum": 0,
    "hideHardwareSpecs": false,
    "memoryGiB": 8,
    "name": "ml.t3.large",
    "vcpuNum": 2
   },
   {
    "_defaultOrder": 2,
    "_isFastLaunch": false,
    "category": "General purpose",
    "gpuNum": 0,
    "hideHardwareSpecs": false,
    "memoryGiB": 16,
    "name": "ml.t3.xlarge",
    "vcpuNum": 4
   },
   {
    "_defaultOrder": 3,
    "_isFastLaunch": false,
    "category": "General purpose",
    "gpuNum": 0,
    "hideHardwareSpecs": false,
    "memoryGiB": 32,
    "name": "ml.t3.2xlarge",
    "vcpuNum": 8
   },
   {
    "_defaultOrder": 4,
    "_isFastLaunch": true,
    "category": "General purpose",
    "gpuNum": 0,
    "hideHardwareSpecs": false,
    "memoryGiB": 8,
    "name": "ml.m5.large",
    "vcpuNum": 2
   },
   {
    "_defaultOrder": 5,
    "_isFastLaunch": false,
    "category": "General purpose",
    "gpuNum": 0,
    "hideHardwareSpecs": false,
    "memoryGiB": 16,
    "name": "ml.m5.xlarge",
    "vcpuNum": 4
   },
   {
    "_defaultOrder": 6,
    "_isFastLaunch": false,
    "category": "General purpose",
    "gpuNum": 0,
    "hideHardwareSpecs": false,
    "memoryGiB": 32,
    "name": "ml.m5.2xlarge",
    "vcpuNum": 8
   },
   {
    "_defaultOrder": 7,
    "_isFastLaunch": false,
    "category": "General purpose",
    "gpuNum": 0,
    "hideHardwareSpecs": false,
    "memoryGiB": 64,
    "name": "ml.m5.4xlarge",
    "vcpuNum": 16
   },
   {
    "_defaultOrder": 8,
    "_isFastLaunch": false,
    "category": "General purpose",
    "gpuNum": 0,
    "hideHardwareSpecs": false,
    "memoryGiB": 128,
    "name": "ml.m5.8xlarge",
    "vcpuNum": 32
   },
   {
    "_defaultOrder": 9,
    "_isFastLaunch": false,
    "category": "General purpose",
    "gpuNum": 0,
    "hideHardwareSpecs": false,
    "memoryGiB": 192,
    "name": "ml.m5.12xlarge",
    "vcpuNum": 48
   },
   {
    "_defaultOrder": 10,
    "_isFastLaunch": false,
    "category": "General purpose",
    "gpuNum": 0,
    "hideHardwareSpecs": false,
    "memoryGiB": 256,
    "name": "ml.m5.16xlarge",
    "vcpuNum": 64
   },
   {
    "_defaultOrder": 11,
    "_isFastLaunch": false,
    "category": "General purpose",
    "gpuNum": 0,
    "hideHardwareSpecs": false,
    "memoryGiB": 384,
    "name": "ml.m5.24xlarge",
    "vcpuNum": 96
   },
   {
    "_defaultOrder": 12,
    "_isFastLaunch": false,
    "category": "General purpose",
    "gpuNum": 0,
    "hideHardwareSpecs": false,
    "memoryGiB": 8,
    "name": "ml.m5d.large",
    "vcpuNum": 2
   },
   {
    "_defaultOrder": 13,
    "_isFastLaunch": false,
    "category": "General purpose",
    "gpuNum": 0,
    "hideHardwareSpecs": false,
    "memoryGiB": 16,
    "name": "ml.m5d.xlarge",
    "vcpuNum": 4
   },
   {
    "_defaultOrder": 14,
    "_isFastLaunch": false,
    "category": "General purpose",
    "gpuNum": 0,
    "hideHardwareSpecs": false,
    "memoryGiB": 32,
    "name": "ml.m5d.2xlarge",
    "vcpuNum": 8
   },
   {
    "_defaultOrder": 15,
    "_isFastLaunch": false,
    "category": "General purpose",
    "gpuNum": 0,
    "hideHardwareSpecs": false,
    "memoryGiB": 64,
    "name": "ml.m5d.4xlarge",
    "vcpuNum": 16
   },
   {
    "_defaultOrder": 16,
    "_isFastLaunch": false,
    "category": "General purpose",
    "gpuNum": 0,
    "hideHardwareSpecs": false,
    "memoryGiB": 128,
    "name": "ml.m5d.8xlarge",
    "vcpuNum": 32
   },
   {
    "_defaultOrder": 17,
    "_isFastLaunch": false,
    "category": "General purpose",
    "gpuNum": 0,
    "hideHardwareSpecs": false,
    "memoryGiB": 192,
    "name": "ml.m5d.12xlarge",
    "vcpuNum": 48
   },
   {
    "_defaultOrder": 18,
    "_isFastLaunch": false,
    "category": "General purpose",
    "gpuNum": 0,
    "hideHardwareSpecs": false,
    "memoryGiB": 256,
    "name": "ml.m5d.16xlarge",
    "vcpuNum": 64
   },
   {
    "_defaultOrder": 19,
    "_isFastLaunch": false,
    "category": "General purpose",
    "gpuNum": 0,
    "hideHardwareSpecs": false,
    "memoryGiB": 384,
    "name": "ml.m5d.24xlarge",
    "vcpuNum": 96
   },
   {
    "_defaultOrder": 20,
    "_isFastLaunch": false,
    "category": "General purpose",
    "gpuNum": 0,
    "hideHardwareSpecs": true,
    "memoryGiB": 0,
    "name": "ml.geospatial.interactive",
    "supportedImageNames": [
     "sagemaker-geospatial-v1-0"
    ],
    "vcpuNum": 0
   },
   {
    "_defaultOrder": 21,
    "_isFastLaunch": true,
    "category": "Compute optimized",
    "gpuNum": 0,
    "hideHardwareSpecs": false,
    "memoryGiB": 4,
    "name": "ml.c5.large",
    "vcpuNum": 2
   },
   {
    "_defaultOrder": 22,
    "_isFastLaunch": false,
    "category": "Compute optimized",
    "gpuNum": 0,
    "hideHardwareSpecs": false,
    "memoryGiB": 8,
    "name": "ml.c5.xlarge",
    "vcpuNum": 4
   },
   {
    "_defaultOrder": 23,
    "_isFastLaunch": false,
    "category": "Compute optimized",
    "gpuNum": 0,
    "hideHardwareSpecs": false,
    "memoryGiB": 16,
    "name": "ml.c5.2xlarge",
    "vcpuNum": 8
   },
   {
    "_defaultOrder": 24,
    "_isFastLaunch": false,
    "category": "Compute optimized",
    "gpuNum": 0,
    "hideHardwareSpecs": false,
    "memoryGiB": 32,
    "name": "ml.c5.4xlarge",
    "vcpuNum": 16
   },
   {
    "_defaultOrder": 25,
    "_isFastLaunch": false,
    "category": "Compute optimized",
    "gpuNum": 0,
    "hideHardwareSpecs": false,
    "memoryGiB": 72,
    "name": "ml.c5.9xlarge",
    "vcpuNum": 36
   },
   {
    "_defaultOrder": 26,
    "_isFastLaunch": false,
    "category": "Compute optimized",
    "gpuNum": 0,
    "hideHardwareSpecs": false,
    "memoryGiB": 96,
    "name": "ml.c5.12xlarge",
    "vcpuNum": 48
   },
   {
    "_defaultOrder": 27,
    "_isFastLaunch": false,
    "category": "Compute optimized",
    "gpuNum": 0,
    "hideHardwareSpecs": false,
    "memoryGiB": 144,
    "name": "ml.c5.18xlarge",
    "vcpuNum": 72
   },
   {
    "_defaultOrder": 28,
    "_isFastLaunch": false,
    "category": "Compute optimized",
    "gpuNum": 0,
    "hideHardwareSpecs": false,
    "memoryGiB": 192,
    "name": "ml.c5.24xlarge",
    "vcpuNum": 96
   },
   {
    "_defaultOrder": 29,
    "_isFastLaunch": true,
    "category": "Accelerated computing",
    "gpuNum": 1,
    "hideHardwareSpecs": false,
    "memoryGiB": 16,
    "name": "ml.g4dn.xlarge",
    "vcpuNum": 4
   },
   {
    "_defaultOrder": 30,
    "_isFastLaunch": false,
    "category": "Accelerated computing",
    "gpuNum": 1,
    "hideHardwareSpecs": false,
    "memoryGiB": 32,
    "name": "ml.g4dn.2xlarge",
    "vcpuNum": 8
   },
   {
    "_defaultOrder": 31,
    "_isFastLaunch": false,
    "category": "Accelerated computing",
    "gpuNum": 1,
    "hideHardwareSpecs": false,
    "memoryGiB": 64,
    "name": "ml.g4dn.4xlarge",
    "vcpuNum": 16
   },
   {
    "_defaultOrder": 32,
    "_isFastLaunch": false,
    "category": "Accelerated computing",
    "gpuNum": 1,
    "hideHardwareSpecs": false,
    "memoryGiB": 128,
    "name": "ml.g4dn.8xlarge",
    "vcpuNum": 32
   },
   {
    "_defaultOrder": 33,
    "_isFastLaunch": false,
    "category": "Accelerated computing",
    "gpuNum": 4,
    "hideHardwareSpecs": false,
    "memoryGiB": 192,
    "name": "ml.g4dn.12xlarge",
    "vcpuNum": 48
   },
   {
    "_defaultOrder": 34,
    "_isFastLaunch": false,
    "category": "Accelerated computing",
    "gpuNum": 1,
    "hideHardwareSpecs": false,
    "memoryGiB": 256,
    "name": "ml.g4dn.16xlarge",
    "vcpuNum": 64
   },
   {
    "_defaultOrder": 35,
    "_isFastLaunch": false,
    "category": "Accelerated computing",
    "gpuNum": 1,
    "hideHardwareSpecs": false,
    "memoryGiB": 61,
    "name": "ml.p3.2xlarge",
    "vcpuNum": 8
   },
   {
    "_defaultOrder": 36,
    "_isFastLaunch": false,
    "category": "Accelerated computing",
    "gpuNum": 4,
    "hideHardwareSpecs": false,
    "memoryGiB": 244,
    "name": "ml.p3.8xlarge",
    "vcpuNum": 32
   },
   {
    "_defaultOrder": 37,
    "_isFastLaunch": false,
    "category": "Accelerated computing",
    "gpuNum": 8,
    "hideHardwareSpecs": false,
    "memoryGiB": 488,
    "name": "ml.p3.16xlarge",
    "vcpuNum": 64
   },
   {
    "_defaultOrder": 38,
    "_isFastLaunch": false,
    "category": "Accelerated computing",
    "gpuNum": 8,
    "hideHardwareSpecs": false,
    "memoryGiB": 768,
    "name": "ml.p3dn.24xlarge",
    "vcpuNum": 96
   },
   {
    "_defaultOrder": 39,
    "_isFastLaunch": false,
    "category": "Memory Optimized",
    "gpuNum": 0,
    "hideHardwareSpecs": false,
    "memoryGiB": 16,
    "name": "ml.r5.large",
    "vcpuNum": 2
   },
   {
    "_defaultOrder": 40,
    "_isFastLaunch": false,
    "category": "Memory Optimized",
    "gpuNum": 0,
    "hideHardwareSpecs": false,
    "memoryGiB": 32,
    "name": "ml.r5.xlarge",
    "vcpuNum": 4
   },
   {
    "_defaultOrder": 41,
    "_isFastLaunch": false,
    "category": "Memory Optimized",
    "gpuNum": 0,
    "hideHardwareSpecs": false,
    "memoryGiB": 64,
    "name": "ml.r5.2xlarge",
    "vcpuNum": 8
   },
   {
    "_defaultOrder": 42,
    "_isFastLaunch": false,
    "category": "Memory Optimized",
    "gpuNum": 0,
    "hideHardwareSpecs": false,
    "memoryGiB": 128,
    "name": "ml.r5.4xlarge",
    "vcpuNum": 16
   },
   {
    "_defaultOrder": 43,
    "_isFastLaunch": false,
    "category": "Memory Optimized",
    "gpuNum": 0,
    "hideHardwareSpecs": false,
    "memoryGiB": 256,
    "name": "ml.r5.8xlarge",
    "vcpuNum": 32
   },
   {
    "_defaultOrder": 44,
    "_isFastLaunch": false,
    "category": "Memory Optimized",
    "gpuNum": 0,
    "hideHardwareSpecs": false,
    "memoryGiB": 384,
    "name": "ml.r5.12xlarge",
    "vcpuNum": 48
   },
   {
    "_defaultOrder": 45,
    "_isFastLaunch": false,
    "category": "Memory Optimized",
    "gpuNum": 0,
    "hideHardwareSpecs": false,
    "memoryGiB": 512,
    "name": "ml.r5.16xlarge",
    "vcpuNum": 64
   },
   {
    "_defaultOrder": 46,
    "_isFastLaunch": false,
    "category": "Memory Optimized",
    "gpuNum": 0,
    "hideHardwareSpecs": false,
    "memoryGiB": 768,
    "name": "ml.r5.24xlarge",
    "vcpuNum": 96
   },
   {
    "_defaultOrder": 47,
    "_isFastLaunch": false,
    "category": "Accelerated computing",
    "gpuNum": 1,
    "hideHardwareSpecs": false,
    "memoryGiB": 16,
    "name": "ml.g5.xlarge",
    "vcpuNum": 4
   },
   {
    "_defaultOrder": 48,
    "_isFastLaunch": false,
    "category": "Accelerated computing",
    "gpuNum": 1,
    "hideHardwareSpecs": false,
    "memoryGiB": 32,
    "name": "ml.g5.2xlarge",
    "vcpuNum": 8
   },
   {
    "_defaultOrder": 49,
    "_isFastLaunch": false,
    "category": "Accelerated computing",
    "gpuNum": 1,
    "hideHardwareSpecs": false,
    "memoryGiB": 64,
    "name": "ml.g5.4xlarge",
    "vcpuNum": 16
   },
   {
    "_defaultOrder": 50,
    "_isFastLaunch": false,
    "category": "Accelerated computing",
    "gpuNum": 1,
    "hideHardwareSpecs": false,
    "memoryGiB": 128,
    "name": "ml.g5.8xlarge",
    "vcpuNum": 32
   },
   {
    "_defaultOrder": 51,
    "_isFastLaunch": false,
    "category": "Accelerated computing",
    "gpuNum": 1,
    "hideHardwareSpecs": false,
    "memoryGiB": 256,
    "name": "ml.g5.16xlarge",
    "vcpuNum": 64
   },
   {
    "_defaultOrder": 52,
    "_isFastLaunch": false,
    "category": "Accelerated computing",
    "gpuNum": 4,
    "hideHardwareSpecs": false,
    "memoryGiB": 192,
    "name": "ml.g5.12xlarge",
    "vcpuNum": 48
   },
   {
    "_defaultOrder": 53,
    "_isFastLaunch": false,
    "category": "Accelerated computing",
    "gpuNum": 4,
    "hideHardwareSpecs": false,
    "memoryGiB": 384,
    "name": "ml.g5.24xlarge",
    "vcpuNum": 96
   },
   {
    "_defaultOrder": 54,
    "_isFastLaunch": false,
    "category": "Accelerated computing",
    "gpuNum": 8,
    "hideHardwareSpecs": false,
    "memoryGiB": 768,
    "name": "ml.g5.48xlarge",
    "vcpuNum": 192
   },
   {
    "_defaultOrder": 55,
    "_isFastLaunch": false,
    "category": "Accelerated computing",
    "gpuNum": 8,
    "hideHardwareSpecs": false,
    "memoryGiB": 1152,
    "name": "ml.p4d.24xlarge",
    "vcpuNum": 96
   },
   {
    "_defaultOrder": 56,
    "_isFastLaunch": false,
    "category": "Accelerated computing",
    "gpuNum": 8,
    "hideHardwareSpecs": false,
    "memoryGiB": 1152,
    "name": "ml.p4de.24xlarge",
    "vcpuNum": 96
   }
  ],
  "instance_type": "ml.t3.medium",
  "kernelspec": {
   "display_name": "Python 3 (Data Science 3.0)",
   "language": "python",
   "name": "python3__SAGEMAKER_INTERNAL__arn:aws:sagemaker:us-east-1:081325390199:image/sagemaker-data-science-310-v1"
  },
  "language_info": {
   "codemirror_mode": {
    "name": "ipython",
    "version": 3
   },
   "file_extension": ".py",
   "mimetype": "text/x-python",
   "name": "python",
   "nbconvert_exporter": "python",
   "pygments_lexer": "ipython3",
   "version": "3.10.6"
  }
 },
 "nbformat": 4,
 "nbformat_minor": 5
}
