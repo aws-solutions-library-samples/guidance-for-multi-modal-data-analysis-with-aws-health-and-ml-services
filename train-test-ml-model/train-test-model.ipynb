{
 "cells": [
  {
   "cell_type": "markdown",
   "id": "825b615a-d04a-4c3e-8a14-a80257e2ed18",
   "metadata": {},
   "source": [
    "# Clinical, Genomic, and Imaging data - Training and Testing "
   ]
  },
  {
   "cell_type": "markdown",
   "id": "c062ea3f-bdbf-4496-9cf6-d0893261c440",
   "metadata": {
    "tags": []
   },
   "source": [
    "---\n",
    "This notebook demonstrates the use of Amazon SageMaker [AutoGluon-Tabular](https://auto.gluon.ai/stable/tutorials/tabular_prediction/index.html) algorithm to train and test a tabular binary classification model. Tabular classification is the task of assigning a class to an example of structured or relational data. The Amazon SageMaker API for tabular classification can be used for classification of an example in two classes (binary classification) or more than two classes (multi-class classification).\n",
    "\n",
    "In this notebook, we demonstrate two use cases of tabular classification models using the [Synthea Coherent Data Set](https://registry.opendata.aws/synthea-coherent-data/):\n",
    "\n",
    "* How to get features from Amazon SageMaker FeatureStore. The preprocess-multimodal-data notebooks for clinical, genomic, and imaging notebooks need to be run before running this notebook.\n",
    "* How to train a tabular model on a multimodal dataset to do binary classification. This notebook shows example for four different outcomes:  Alzheimers Disease, Coronary Heart Disease, Stroke, and Hypertension\n",
    "* How to use evaluate predictions from the out of sample test data.\n",
    "\n",
    "Note: This notebook was tested in Amazon SageMaker Studio on ml.t3.xlarge instance with Python 3 (Data Science 3.0) kernel.\n",
    "\n",
    "---"
   ]
  },
  {
   "cell_type": "code",
   "execution_count": null,
   "id": "9515c767-f825-4691-a8dc-ebe2016e6ae2",
   "metadata": {
    "tags": []
   },
   "outputs": [],
   "source": [
    "import boto3\n",
    "import sagemaker\n",
    "from sagemaker.session import Session\n",
    "from sagemaker import get_execution_role\n",
    "import pandas as pd\n",
    "import io, os\n",
    "import sys\n",
    "from sklearn.model_selection import train_test_split"
   ]
  },
  {
   "cell_type": "code",
   "execution_count": null,
   "outputs": [],
   "source": [
    "!pip install autogluon"
   ],
   "metadata": {
    "collapsed": false
   },
   "id": "339915720e97ea08"
  },
  {
   "cell_type": "code",
   "execution_count": null,
   "id": "55f9a0b7-fc8f-4c71-8732-9ac79f0faee6",
   "metadata": {
    "tags": []
   },
   "outputs": [],
   "source": [
    "from autogluon.tabular import TabularPredictor\n",
    "import autogluon as ag"
   ]
  },
  {
   "cell_type": "markdown",
   "id": "aaa341b3-3db4-42ca-b40d-ed3f904af38e",
   "metadata": {},
   "source": [
    "## Get data type to train model"
   ]
  },
  {
   "cell_type": "code",
   "execution_count": null,
   "id": "9588fcd1-5671-4266-bc97-8607c4d6b6ca",
   "metadata": {
    "tags": []
   },
   "outputs": [],
   "source": [
    "data_type = 'genomic-clinical-imaging'\n",
    "PatientID = 'patientid'"
   ]
  },
  {
   "cell_type": "markdown",
   "id": "f648bda3-d7c7-4c0e-984a-d96e925e25fd",
   "metadata": {},
   "source": [
    "## Set up S3 buckets and session"
   ]
  },
  {
   "cell_type": "code",
   "execution_count": null,
   "id": "191ef27d-efbe-4229-a2c8-2f4fcd02b581",
   "metadata": {
    "tags": []
   },
   "outputs": [],
   "source": [
    "sm_session = sagemaker.Session()\n",
    "bucket = sm_session.default_bucket()\n",
    "region = boto3.Session().region_name\n",
    "role = get_execution_role()\n",
    "\n",
    "boto_session = boto3.Session(region_name=region)\n",
    "sagemaker_client = boto_session.client(service_name='sagemaker', region_name=region)\n",
    "featurestore_runtime = boto_session.client(service_name='sagemaker-featurestore-runtime', region_name=region)\n",
    "\n",
    "feature_store_session = Session(\n",
    "    boto_session=boto_session,\n",
    "    sagemaker_client=sagemaker_client,\n",
    "    sagemaker_featurestore_runtime_client=featurestore_runtime\n",
    ")\n",
    "\n",
    "s3_client = boto3.client('s3', region_name=region)\n",
    "\n",
    "default_s3_bucket_name = sm_session.default_bucket()\n",
    "prefix = 'multi-model-health-ml'\n"
   ]
  },
  {
   "cell_type": "markdown",
   "id": "043669dd-325a-46ac-a5ee-21cca32a9470",
   "metadata": {},
   "source": [
    "## Get features from SageMaker FeatureStore based on data type"
   ]
  },
  {
   "cell_type": "code",
   "execution_count": null,
   "id": "0e6a0bbe-aae3-4fdd-bca0-7507c935012e",
   "metadata": {
    "tags": []
   },
   "outputs": [],
   "source": [
    "from sagemaker.feature_store.feature_group import FeatureGroup\n",
    "\n",
    "genomic_feature_group_name = 'genomic-feature-group'\n",
    "clinical_feature_group_name = 'clinical-feature-group'\n",
    "imaging_feature_group_name = 'imaging-feature-group'\n",
    "\n",
    "genomic_feature_group = FeatureGroup(name=genomic_feature_group_name, sagemaker_session=feature_store_session)\n",
    "clinical_feature_group = FeatureGroup(name=clinical_feature_group_name, sagemaker_session=feature_store_session)\n",
    "imaging_feature_group = FeatureGroup(name=imaging_feature_group_name, sagemaker_session=feature_store_session)"
   ]
  },
  {
   "cell_type": "code",
   "execution_count": null,
   "id": "eef950fe-e6cd-46f7-ab9a-ba2416af69be",
   "metadata": {
    "tags": []
   },
   "outputs": [],
   "source": [
    "genomic_query = genomic_feature_group.athena_query()\n",
    "clinical_query = clinical_feature_group.athena_query()\n",
    "imaging_query = imaging_feature_group.athena_query()\n",
    "\n",
    "genomic_table = genomic_query.table_name\n",
    "clinical_table = clinical_query.table_name\n",
    "imaging_table = imaging_query.table_name\n",
    "\n",
    "print('Table names')\n",
    "print(genomic_table)\n",
    "print(clinical_table)\n",
    "print(imaging_table)\n"
   ]
  },
  {
   "cell_type": "code",
   "execution_count": null,
   "id": "c25be564-ebb7-429e-936e-6e00e4fd89d2",
   "metadata": {
    "tags": []
   },
   "outputs": [],
   "source": [
    "def get_features(data_type, output_location):   \n",
    "    if (data_type == 'genomic-clinical-imaging'):\n",
    "        query_string = f'''SELECT * FROM \"{genomic_table}\", \"{clinical_table}\", \"{imaging_table}\"\n",
    "                           WHERE \"{genomic_table}\".{PatientID} = \"{clinical_table}\".{PatientID}\n",
    "                           AND \"{genomic_table}\".{PatientID} = \"{imaging_table}\".{PatientID}\n",
    "                           ORDER BY \"{clinical_table}\".{PatientID} ASC'''                   \n",
    "        print(query_string)\n",
    "        \n",
    "        genomic_query.run(query_string=query_string, output_location=output_location)\n",
    "        genomic_query.wait()\n",
    "        dataset = genomic_query.as_dataframe()\n",
    "        \n",
    "    elif data_type not in supported_data_type:\n",
    "        raise KeyError(f'data_type {data_type} is not supported for this analysis.')\n",
    "        \n",
    "    return dataset"
   ]
  },
  {
   "cell_type": "code",
   "execution_count": null,
   "id": "7e6f4687-3bd3-4c1d-8db7-9d164a8841a3",
   "metadata": {
    "tags": []
   },
   "outputs": [],
   "source": [
    "fs_output_location = f's3://{default_s3_bucket_name}/{prefix}/feature-store-queries'\n",
    "dataset = get_features(data_type, fs_output_location)\n",
    "dataset = dataset.astype(str).replace({\"{\":\"\", \"}\":\"\"}, regex=True)\n",
    "\n",
    "# Write to csv in S3 without headers and index column.\n",
    "filename=f'{data_type}-dataset.csv'\n",
    "dataset_uri_prefix = f's3://{default_s3_bucket_name}/{prefix}/training_input/';\n",
    "\n",
    "dataset.to_csv(filename)\n",
    "s3_client.upload_file(filename, default_s3_bucket_name, f'{prefix}/training_input/{filename}')\n",
    "print(\"Observing the different features in the dataset\")\n",
    "dataset.head(3)"
   ]
  },
  {
   "cell_type": "code",
   "execution_count": null,
   "id": "79588825-d49c-4309-b27e-7c79bc3f866c",
   "metadata": {
    "tags": []
   },
   "outputs": [],
   "source": [
    "ag.core.utils.random.seed(25)"
   ]
  },
  {
   "cell_type": "markdown",
   "id": "1d2deae2-386a-49a0-9662-e81a1c17d550",
   "metadata": {},
   "source": [
    "## Alzheimers Prediction\n",
    "Splitting data for training and testing"
   ]
  },
  {
   "cell_type": "code",
   "execution_count": null,
   "id": "544d6b79-7ea9-4082-bc95-cacd57015a13",
   "metadata": {
    "tags": []
   },
   "outputs": [],
   "source": [
    "#Alzheimers Prediction\n",
    "#Splitting data into training and testing 80:20\n",
    "dataset = dataset.loc[:, ~dataset.columns.str.startswith('diagnostics')]\n",
    "dataset = dataset.drop(columns = ['eventtime', 'write_time', 'api_invocation_time', 'is_deleted', 'eventtime.1', 'write_time.1', 'api_invocation_time.1', 'is_deleted.1', 'alzheimers_prediction.1',\n",
    "                                    'coronary_heart_disease_prediction.1', 'stroke_prediction.1', 'hypertension_prediction.1', 'patientid.1', 'eventtime.2', 'write_time.2', 'api_invocation_time.2', 'is_deleted.2', \n",
    "                                   'alzheimers_prediction.2', 'coronary_heart_disease_prediction.2', 'stroke_prediction.2', 'hypertension_prediction.2', 'patientid.2'])\n",
    "training= dataset.sample(frac=0.8, random_state=23)\n",
    "training = training.drop(columns = ['patientid', 'coronary_heart_disease_prediction', 'stroke_prediction', 'hypertension_prediction'])\n",
    "testing = dataset.drop(training.index)\n",
    "testing = testing.drop(columns = ['patientid', 'coronary_heart_disease_prediction', 'stroke_prediction', 'hypertension_prediction'])\n",
    "X_test = testing.drop(columns = ['alzheimers_prediction'])\n",
    "print(\"Training size = \", len(training))\n",
    "print(\"Out of sample testing size = \", len(testing))"
   ]
  },
  {
   "cell_type": "markdown",
   "id": "0deacd5b-1dd8-4ee3-9b67-395e2298b52c",
   "metadata": {},
   "source": [
    "### Alzheimers prediction on clinical, genomic, and imaging data using Autogluon"
   ]
  },
  {
   "cell_type": "code",
   "execution_count": null,
   "id": "e29cd4ea-2d3b-4e94-bdbb-19b8b64e9b92",
   "metadata": {
    "tags": []
   },
   "outputs": [],
   "source": [
    "import time\n",
    "start_time = time.time()\n",
    "buckt = sm_session.default_bucket()\n",
    "prefix= \"genomic-clinical-imaging-alzheimers-prediction\"\n",
    "save_file = 's3://{}/{}'.format(buckt, prefix)\n",
    "predictor = TabularPredictor(label= 'alzheimers_prediction', problem_type= 'binary', path=save_file).fit(train_data=training, holdout_frac=0.1, excluded_model_types=['CAT', 'XGB'])\n",
    "print(\"--- Training time= %s seconds ---\" % (time.time() - start_time))"
   ]
  },
  {
   "cell_type": "code",
   "execution_count": null,
   "id": "3a8cc026-7387-4b82-9a9c-1bc2b7818a94",
   "metadata": {
    "tags": []
   },
   "outputs": [],
   "source": [
    "predictor.evaluate_predictions(y_true=testing['alzheimers_prediction'], y_pred=predictor.predict(X_test), auxiliary_metrics=True, detailed_report=True)"
   ]
  },
  {
   "cell_type": "markdown",
   "id": "c1630bd6-ff2f-4b36-be9b-c8b30b6bbf70",
   "metadata": {},
   "source": [
    "## Coronary heart disease Prediction\n",
    "Splitting data for training and testing"
   ]
  },
  {
   "cell_type": "code",
   "execution_count": null,
   "id": "accbdc2f-b152-46fb-ab09-f6ce919a8c95",
   "metadata": {
    "tags": []
   },
   "outputs": [],
   "source": [
    "#coronary_heart_disease_prediction\n",
    "#Splitting data into training and testing 80:20\n",
    "training = dataset.sample(frac=0.8, random_state=25)\n",
    "training =  training.drop(columns = ['patientid', 'alzheimers_prediction', 'stroke_prediction', 'hypertension_prediction'])\n",
    "testing = dataset.drop(training.index)\n",
    "testing = testing.drop(columns = ['patientid', 'alzheimers_prediction', 'stroke_prediction', 'hypertension_prediction'])\n",
    "X_test = testing.drop(columns = ['coronary_heart_disease_prediction'])\n",
    "print(\"Training size = \", len(training))\n",
    "print(\"Out of sample testing size = \", len(testing))"
   ]
  },
  {
   "cell_type": "markdown",
   "id": "6e242581-457b-43e3-a279-9fe488391fab",
   "metadata": {},
   "source": [
    "### Coronary heart disease prediction on clinical,  genomic, and imaging data using Autogluon"
   ]
  },
  {
   "cell_type": "code",
   "execution_count": null,
   "id": "645bf140-25de-443f-b852-34066b33d203",
   "metadata": {
    "tags": []
   },
   "outputs": [],
   "source": [
    "import time\n",
    "start_time = time.time()\n",
    "buckt = sm_session.default_bucket()\n",
    "prefix= \"genomic-clinical-imaging-coronary-heart-disease-prediction\"\n",
    "save_file = 's3://{}/{}'.format(buckt, prefix)\n",
    "predictor = TabularPredictor(label= 'coronary_heart_disease_prediction', problem_type= 'binary', path=save_file).fit(train_data=training, holdout_frac=0.1, excluded_model_types=['CAT', 'XGB'])\n",
    "print(\"--- Training time= %s seconds ---\" % (time.time() - start_time))"
   ]
  },
  {
   "cell_type": "code",
   "execution_count": null,
   "id": "9eacb091-7a47-4efc-a360-4a265efbfe0c",
   "metadata": {
    "tags": []
   },
   "outputs": [],
   "source": [
    "predictor.evaluate_predictions(y_true=testing['coronary_heart_disease_prediction'], y_pred=predictor.predict(X_test), auxiliary_metrics=True, detailed_report=True)"
   ]
  },
  {
   "cell_type": "markdown",
   "id": "7deb337c-9b26-4d70-b700-c8eda40fa115",
   "metadata": {},
   "source": [
    "## Stroke Prediction\n",
    "Splitting data for training and testing"
   ]
  },
  {
   "cell_type": "code",
   "execution_count": null,
   "id": "b0ef9c2d-eafc-4f05-a155-eb5237eb5052",
   "metadata": {
    "tags": []
   },
   "outputs": [],
   "source": [
    "#stroke_prediction\n",
    "#Splitting data into training and testing 80:20\n",
    "training = dataset.sample(frac=0.8, random_state=30)\n",
    "training =  training.drop(columns = ['patientid', 'alzheimers_prediction', 'coronary_heart_disease_prediction', 'hypertension_prediction'])\n",
    "testing = dataset.drop(training.index)\n",
    "testing = testing.drop(columns = ['patientid', 'alzheimers_prediction', 'coronary_heart_disease_prediction', 'hypertension_prediction'])\n",
    "X_test = testing.drop(columns = ['stroke_prediction'])\n",
    "print(\"Training size = \", len(training))\n",
    "print(\"Out of sample testing size = \", len(testing))"
   ]
  },
  {
   "cell_type": "markdown",
   "id": "0a753dc2-452f-44d0-92af-2c335a2478a9",
   "metadata": {},
   "source": [
    "### Stroke prediction on clinical, genomic, and imaging data using Autogluon"
   ]
  },
  {
   "cell_type": "code",
   "execution_count": null,
   "id": "3e828813-1792-434b-9f84-c1c7efb4c236",
   "metadata": {},
   "outputs": [],
   "source": [
    "import time\n",
    "start_time = time.time()\n",
    "buckt = sm_session.default_bucket()\n",
    "prefix= \"genomic-clinical-imaging-stroke_prediction\"\n",
    "save_file = 's3://{}/{}'.format(buckt, prefix)\n",
    "predictor = TabularPredictor(label= 'stroke_prediction', problem_type= 'binary', path=save_file).fit(train_data=training, holdout_frac=0.1, excluded_model_types=['CAT', 'XGB'])\n",
    "print(\"--- Training time= %s seconds ---\" % (time.time() - start_time))"
   ]
  },
  {
   "cell_type": "code",
   "execution_count": null,
   "id": "fe947544-7daa-4836-b74a-7291cb83d421",
   "metadata": {
    "tags": []
   },
   "outputs": [],
   "source": [
    "predictor.evaluate_predictions(y_true=testing['stroke_prediction'], y_pred=predictor.predict(X_test), auxiliary_metrics=True, detailed_report=True)"
   ]
  },
  {
   "cell_type": "markdown",
   "id": "8cda76e3-db6c-44d3-a6e5-339a8344f55a",
   "metadata": {},
   "source": [
    "## Hypertension Prediction\n",
    "Splitting data for training and testing"
   ]
  },
  {
   "cell_type": "code",
   "execution_count": null,
   "id": "926e139c-ec74-4c58-84c1-dca1c46f6022",
   "metadata": {
    "tags": []
   },
   "outputs": [],
   "source": [
    "#hypertension_prediction\n",
    "#Splitting data into training and testing 80:20\n",
    "training = dataset.sample(frac=0.8, random_state=25)\n",
    "training = training.drop(columns = ['patientid', 'alzheimers_prediction', 'coronary_heart_disease_prediction', 'stroke_prediction'])\n",
    "testing = dataset.drop(training.index)\n",
    "testing = testing.drop(columns = ['patientid', 'alzheimers_prediction', 'coronary_heart_disease_prediction', 'stroke_prediction'])\n",
    "X_test = testing.drop(columns = ['hypertension_prediction'])\n",
    "print(\"Training size = \", len(training))\n",
    "print(\"Out of sample testing size = \", len(testing))"
   ]
  },
  {
   "cell_type": "markdown",
   "id": "a6bf0905-5b45-4943-82a5-9211e40e010e",
   "metadata": {},
   "source": [
    "### Hypertension prediction on clinical, genomic, and imaging data using Autogluon"
   ]
  },
  {
   "cell_type": "code",
   "execution_count": null,
   "id": "dcdc67d7-d74c-4810-bccb-943ab9cedee6",
   "metadata": {},
   "outputs": [],
   "source": [
    "import time\n",
    "start_time = time.time()\n",
    "buckt = sm_session.default_bucket()\n",
    "prefix= \"genomic-clinical-imaging-hypertension-prediction\"\n",
    "save_file = 's3://{}/{}'.format(buckt, prefix)\n",
    "predictor = TabularPredictor(label= 'hypertension_prediction', problem_type= 'binary', path=save_file).fit(train_data=training, holdout_frac=0.1, excluded_model_types=['CAT', 'XGB'])\n",
    "print(\"--- Training time= %s seconds ---\" % (time.time() - start_time))"
   ]
  },
  {
   "cell_type": "code",
   "execution_count": null,
   "id": "1611732f-6432-4713-b8da-90cbf404d3ec",
   "metadata": {
    "tags": []
   },
   "outputs": [],
   "source": [
    "predictor.evaluate_predictions(y_true=testing['hypertension_prediction'], y_pred=predictor.predict(X_test), auxiliary_metrics=True, detailed_report=True)"
   ]
  },
  {
   "cell_type": "code",
   "execution_count": null,
   "id": "b6669950-15c3-4231-b10d-69971fdd656a",
   "metadata": {},
   "outputs": [],
   "source": []
  }
 ],
 "metadata": {
  "availableInstances": [
   {
    "_defaultOrder": 0,
    "_isFastLaunch": true,
    "category": "General purpose",
    "gpuNum": 0,
    "hideHardwareSpecs": false,
    "memoryGiB": 4,
    "name": "ml.t3.medium",
    "vcpuNum": 2
   },
   {
    "_defaultOrder": 1,
    "_isFastLaunch": false,
    "category": "General purpose",
    "gpuNum": 0,
    "hideHardwareSpecs": false,
    "memoryGiB": 8,
    "name": "ml.t3.large",
    "vcpuNum": 2
   },
   {
    "_defaultOrder": 2,
    "_isFastLaunch": false,
    "category": "General purpose",
    "gpuNum": 0,
    "hideHardwareSpecs": false,
    "memoryGiB": 16,
    "name": "ml.t3.xlarge",
    "vcpuNum": 4
   },
   {
    "_defaultOrder": 3,
    "_isFastLaunch": false,
    "category": "General purpose",
    "gpuNum": 0,
    "hideHardwareSpecs": false,
    "memoryGiB": 32,
    "name": "ml.t3.2xlarge",
    "vcpuNum": 8
   },
   {
    "_defaultOrder": 4,
    "_isFastLaunch": true,
    "category": "General purpose",
    "gpuNum": 0,
    "hideHardwareSpecs": false,
    "memoryGiB": 8,
    "name": "ml.m5.large",
    "vcpuNum": 2
   },
   {
    "_defaultOrder": 5,
    "_isFastLaunch": false,
    "category": "General purpose",
    "gpuNum": 0,
    "hideHardwareSpecs": false,
    "memoryGiB": 16,
    "name": "ml.m5.xlarge",
    "vcpuNum": 4
   },
   {
    "_defaultOrder": 6,
    "_isFastLaunch": false,
    "category": "General purpose",
    "gpuNum": 0,
    "hideHardwareSpecs": false,
    "memoryGiB": 32,
    "name": "ml.m5.2xlarge",
    "vcpuNum": 8
   },
   {
    "_defaultOrder": 7,
    "_isFastLaunch": false,
    "category": "General purpose",
    "gpuNum": 0,
    "hideHardwareSpecs": false,
    "memoryGiB": 64,
    "name": "ml.m5.4xlarge",
    "vcpuNum": 16
   },
   {
    "_defaultOrder": 8,
    "_isFastLaunch": false,
    "category": "General purpose",
    "gpuNum": 0,
    "hideHardwareSpecs": false,
    "memoryGiB": 128,
    "name": "ml.m5.8xlarge",
    "vcpuNum": 32
   },
   {
    "_defaultOrder": 9,
    "_isFastLaunch": false,
    "category": "General purpose",
    "gpuNum": 0,
    "hideHardwareSpecs": false,
    "memoryGiB": 192,
    "name": "ml.m5.12xlarge",
    "vcpuNum": 48
   },
   {
    "_defaultOrder": 10,
    "_isFastLaunch": false,
    "category": "General purpose",
    "gpuNum": 0,
    "hideHardwareSpecs": false,
    "memoryGiB": 256,
    "name": "ml.m5.16xlarge",
    "vcpuNum": 64
   },
   {
    "_defaultOrder": 11,
    "_isFastLaunch": false,
    "category": "General purpose",
    "gpuNum": 0,
    "hideHardwareSpecs": false,
    "memoryGiB": 384,
    "name": "ml.m5.24xlarge",
    "vcpuNum": 96
   },
   {
    "_defaultOrder": 12,
    "_isFastLaunch": false,
    "category": "General purpose",
    "gpuNum": 0,
    "hideHardwareSpecs": false,
    "memoryGiB": 8,
    "name": "ml.m5d.large",
    "vcpuNum": 2
   },
   {
    "_defaultOrder": 13,
    "_isFastLaunch": false,
    "category": "General purpose",
    "gpuNum": 0,
    "hideHardwareSpecs": false,
    "memoryGiB": 16,
    "name": "ml.m5d.xlarge",
    "vcpuNum": 4
   },
   {
    "_defaultOrder": 14,
    "_isFastLaunch": false,
    "category": "General purpose",
    "gpuNum": 0,
    "hideHardwareSpecs": false,
    "memoryGiB": 32,
    "name": "ml.m5d.2xlarge",
    "vcpuNum": 8
   },
   {
    "_defaultOrder": 15,
    "_isFastLaunch": false,
    "category": "General purpose",
    "gpuNum": 0,
    "hideHardwareSpecs": false,
    "memoryGiB": 64,
    "name": "ml.m5d.4xlarge",
    "vcpuNum": 16
   },
   {
    "_defaultOrder": 16,
    "_isFastLaunch": false,
    "category": "General purpose",
    "gpuNum": 0,
    "hideHardwareSpecs": false,
    "memoryGiB": 128,
    "name": "ml.m5d.8xlarge",
    "vcpuNum": 32
   },
   {
    "_defaultOrder": 17,
    "_isFastLaunch": false,
    "category": "General purpose",
    "gpuNum": 0,
    "hideHardwareSpecs": false,
    "memoryGiB": 192,
    "name": "ml.m5d.12xlarge",
    "vcpuNum": 48
   },
   {
    "_defaultOrder": 18,
    "_isFastLaunch": false,
    "category": "General purpose",
    "gpuNum": 0,
    "hideHardwareSpecs": false,
    "memoryGiB": 256,
    "name": "ml.m5d.16xlarge",
    "vcpuNum": 64
   },
   {
    "_defaultOrder": 19,
    "_isFastLaunch": false,
    "category": "General purpose",
    "gpuNum": 0,
    "hideHardwareSpecs": false,
    "memoryGiB": 384,
    "name": "ml.m5d.24xlarge",
    "vcpuNum": 96
   },
   {
    "_defaultOrder": 20,
    "_isFastLaunch": false,
    "category": "General purpose",
    "gpuNum": 0,
    "hideHardwareSpecs": true,
    "memoryGiB": 0,
    "name": "ml.geospatial.interactive",
    "supportedImageNames": [
     "sagemaker-geospatial-v1-0"
    ],
    "vcpuNum": 0
   },
   {
    "_defaultOrder": 21,
    "_isFastLaunch": true,
    "category": "Compute optimized",
    "gpuNum": 0,
    "hideHardwareSpecs": false,
    "memoryGiB": 4,
    "name": "ml.c5.large",
    "vcpuNum": 2
   },
   {
    "_defaultOrder": 22,
    "_isFastLaunch": false,
    "category": "Compute optimized",
    "gpuNum": 0,
    "hideHardwareSpecs": false,
    "memoryGiB": 8,
    "name": "ml.c5.xlarge",
    "vcpuNum": 4
   },
   {
    "_defaultOrder": 23,
    "_isFastLaunch": false,
    "category": "Compute optimized",
    "gpuNum": 0,
    "hideHardwareSpecs": false,
    "memoryGiB": 16,
    "name": "ml.c5.2xlarge",
    "vcpuNum": 8
   },
   {
    "_defaultOrder": 24,
    "_isFastLaunch": false,
    "category": "Compute optimized",
    "gpuNum": 0,
    "hideHardwareSpecs": false,
    "memoryGiB": 32,
    "name": "ml.c5.4xlarge",
    "vcpuNum": 16
   },
   {
    "_defaultOrder": 25,
    "_isFastLaunch": false,
    "category": "Compute optimized",
    "gpuNum": 0,
    "hideHardwareSpecs": false,
    "memoryGiB": 72,
    "name": "ml.c5.9xlarge",
    "vcpuNum": 36
   },
   {
    "_defaultOrder": 26,
    "_isFastLaunch": false,
    "category": "Compute optimized",
    "gpuNum": 0,
    "hideHardwareSpecs": false,
    "memoryGiB": 96,
    "name": "ml.c5.12xlarge",
    "vcpuNum": 48
   },
   {
    "_defaultOrder": 27,
    "_isFastLaunch": false,
    "category": "Compute optimized",
    "gpuNum": 0,
    "hideHardwareSpecs": false,
    "memoryGiB": 144,
    "name": "ml.c5.18xlarge",
    "vcpuNum": 72
   },
   {
    "_defaultOrder": 28,
    "_isFastLaunch": false,
    "category": "Compute optimized",
    "gpuNum": 0,
    "hideHardwareSpecs": false,
    "memoryGiB": 192,
    "name": "ml.c5.24xlarge",
    "vcpuNum": 96
   },
   {
    "_defaultOrder": 29,
    "_isFastLaunch": true,
    "category": "Accelerated computing",
    "gpuNum": 1,
    "hideHardwareSpecs": false,
    "memoryGiB": 16,
    "name": "ml.g4dn.xlarge",
    "vcpuNum": 4
   },
   {
    "_defaultOrder": 30,
    "_isFastLaunch": false,
    "category": "Accelerated computing",
    "gpuNum": 1,
    "hideHardwareSpecs": false,
    "memoryGiB": 32,
    "name": "ml.g4dn.2xlarge",
    "vcpuNum": 8
   },
   {
    "_defaultOrder": 31,
    "_isFastLaunch": false,
    "category": "Accelerated computing",
    "gpuNum": 1,
    "hideHardwareSpecs": false,
    "memoryGiB": 64,
    "name": "ml.g4dn.4xlarge",
    "vcpuNum": 16
   },
   {
    "_defaultOrder": 32,
    "_isFastLaunch": false,
    "category": "Accelerated computing",
    "gpuNum": 1,
    "hideHardwareSpecs": false,
    "memoryGiB": 128,
    "name": "ml.g4dn.8xlarge",
    "vcpuNum": 32
   },
   {
    "_defaultOrder": 33,
    "_isFastLaunch": false,
    "category": "Accelerated computing",
    "gpuNum": 4,
    "hideHardwareSpecs": false,
    "memoryGiB": 192,
    "name": "ml.g4dn.12xlarge",
    "vcpuNum": 48
   },
   {
    "_defaultOrder": 34,
    "_isFastLaunch": false,
    "category": "Accelerated computing",
    "gpuNum": 1,
    "hideHardwareSpecs": false,
    "memoryGiB": 256,
    "name": "ml.g4dn.16xlarge",
    "vcpuNum": 64
   },
   {
    "_defaultOrder": 35,
    "_isFastLaunch": false,
    "category": "Accelerated computing",
    "gpuNum": 1,
    "hideHardwareSpecs": false,
    "memoryGiB": 61,
    "name": "ml.p3.2xlarge",
    "vcpuNum": 8
   },
   {
    "_defaultOrder": 36,
    "_isFastLaunch": false,
    "category": "Accelerated computing",
    "gpuNum": 4,
    "hideHardwareSpecs": false,
    "memoryGiB": 244,
    "name": "ml.p3.8xlarge",
    "vcpuNum": 32
   },
   {
    "_defaultOrder": 37,
    "_isFastLaunch": false,
    "category": "Accelerated computing",
    "gpuNum": 8,
    "hideHardwareSpecs": false,
    "memoryGiB": 488,
    "name": "ml.p3.16xlarge",
    "vcpuNum": 64
   },
   {
    "_defaultOrder": 38,
    "_isFastLaunch": false,
    "category": "Accelerated computing",
    "gpuNum": 8,
    "hideHardwareSpecs": false,
    "memoryGiB": 768,
    "name": "ml.p3dn.24xlarge",
    "vcpuNum": 96
   },
   {
    "_defaultOrder": 39,
    "_isFastLaunch": false,
    "category": "Memory Optimized",
    "gpuNum": 0,
    "hideHardwareSpecs": false,
    "memoryGiB": 16,
    "name": "ml.r5.large",
    "vcpuNum": 2
   },
   {
    "_defaultOrder": 40,
    "_isFastLaunch": false,
    "category": "Memory Optimized",
    "gpuNum": 0,
    "hideHardwareSpecs": false,
    "memoryGiB": 32,
    "name": "ml.r5.xlarge",
    "vcpuNum": 4
   },
   {
    "_defaultOrder": 41,
    "_isFastLaunch": false,
    "category": "Memory Optimized",
    "gpuNum": 0,
    "hideHardwareSpecs": false,
    "memoryGiB": 64,
    "name": "ml.r5.2xlarge",
    "vcpuNum": 8
   },
   {
    "_defaultOrder": 42,
    "_isFastLaunch": false,
    "category": "Memory Optimized",
    "gpuNum": 0,
    "hideHardwareSpecs": false,
    "memoryGiB": 128,
    "name": "ml.r5.4xlarge",
    "vcpuNum": 16
   },
   {
    "_defaultOrder": 43,
    "_isFastLaunch": false,
    "category": "Memory Optimized",
    "gpuNum": 0,
    "hideHardwareSpecs": false,
    "memoryGiB": 256,
    "name": "ml.r5.8xlarge",
    "vcpuNum": 32
   },
   {
    "_defaultOrder": 44,
    "_isFastLaunch": false,
    "category": "Memory Optimized",
    "gpuNum": 0,
    "hideHardwareSpecs": false,
    "memoryGiB": 384,
    "name": "ml.r5.12xlarge",
    "vcpuNum": 48
   },
   {
    "_defaultOrder": 45,
    "_isFastLaunch": false,
    "category": "Memory Optimized",
    "gpuNum": 0,
    "hideHardwareSpecs": false,
    "memoryGiB": 512,
    "name": "ml.r5.16xlarge",
    "vcpuNum": 64
   },
   {
    "_defaultOrder": 46,
    "_isFastLaunch": false,
    "category": "Memory Optimized",
    "gpuNum": 0,
    "hideHardwareSpecs": false,
    "memoryGiB": 768,
    "name": "ml.r5.24xlarge",
    "vcpuNum": 96
   },
   {
    "_defaultOrder": 47,
    "_isFastLaunch": false,
    "category": "Accelerated computing",
    "gpuNum": 1,
    "hideHardwareSpecs": false,
    "memoryGiB": 16,
    "name": "ml.g5.xlarge",
    "vcpuNum": 4
   },
   {
    "_defaultOrder": 48,
    "_isFastLaunch": false,
    "category": "Accelerated computing",
    "gpuNum": 1,
    "hideHardwareSpecs": false,
    "memoryGiB": 32,
    "name": "ml.g5.2xlarge",
    "vcpuNum": 8
   },
   {
    "_defaultOrder": 49,
    "_isFastLaunch": false,
    "category": "Accelerated computing",
    "gpuNum": 1,
    "hideHardwareSpecs": false,
    "memoryGiB": 64,
    "name": "ml.g5.4xlarge",
    "vcpuNum": 16
   },
   {
    "_defaultOrder": 50,
    "_isFastLaunch": false,
    "category": "Accelerated computing",
    "gpuNum": 1,
    "hideHardwareSpecs": false,
    "memoryGiB": 128,
    "name": "ml.g5.8xlarge",
    "vcpuNum": 32
   },
   {
    "_defaultOrder": 51,
    "_isFastLaunch": false,
    "category": "Accelerated computing",
    "gpuNum": 1,
    "hideHardwareSpecs": false,
    "memoryGiB": 256,
    "name": "ml.g5.16xlarge",
    "vcpuNum": 64
   },
   {
    "_defaultOrder": 52,
    "_isFastLaunch": false,
    "category": "Accelerated computing",
    "gpuNum": 4,
    "hideHardwareSpecs": false,
    "memoryGiB": 192,
    "name": "ml.g5.12xlarge",
    "vcpuNum": 48
   },
   {
    "_defaultOrder": 53,
    "_isFastLaunch": false,
    "category": "Accelerated computing",
    "gpuNum": 4,
    "hideHardwareSpecs": false,
    "memoryGiB": 384,
    "name": "ml.g5.24xlarge",
    "vcpuNum": 96
   },
   {
    "_defaultOrder": 54,
    "_isFastLaunch": false,
    "category": "Accelerated computing",
    "gpuNum": 8,
    "hideHardwareSpecs": false,
    "memoryGiB": 768,
    "name": "ml.g5.48xlarge",
    "vcpuNum": 192
   }
  ],
  "instance_type": "ml.t3.xlarge",
  "kernelspec": {
   "display_name": "Python 3 (Data Science 3.0)",
   "language": "python",
   "name": "python3__SAGEMAKER_INTERNAL__arn:aws:sagemaker:us-east-1:081325390199:image/sagemaker-data-science-310-v1"
  },
  "language_info": {
   "codemirror_mode": {
    "name": "ipython",
    "version": 3
   },
   "file_extension": ".py",
   "mimetype": "text/x-python",
   "name": "python",
   "nbconvert_exporter": "python",
   "pygments_lexer": "ipython3",
   "version": "3.10.6"
  }
 },
 "nbformat": 4,
 "nbformat_minor": 5
}
