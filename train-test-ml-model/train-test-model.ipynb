{
 "cells": [
  {
   "cell_type": "markdown",
   "id": "825b615a-d04a-4c3e-8a14-a80257e2ed18",
   "metadata": {},
   "source": [
    "# Clinical, Genomic, and Imaging data - Training and Testing "
   ]
  },
  {
   "cell_type": "markdown",
   "id": "c062ea3f-bdbf-4496-9cf6-d0893261c440",
   "metadata": {
    "tags": []
   },
   "source": [
    "---\n",
    "This notebook demonstrates the use of Amazon SageMaker [AutoGluon-Tabular](https://auto.gluon.ai/stable/tutorials/tabular_prediction/index.html) algorithm to train and test a tabular binary classification model. Tabular classification is the task of assigning a class to an example of structured or relational data. The Amazon SageMaker API for tabular classification can be used for classification of an example in two classes (binary classification) or more than two classes (multi-class classification).\n",
    "\n",
    "In this notebook, we demonstrate two use cases of tabular classification models using the [Synthea Coherent Data Set](https://registry.opendata.aws/synthea-coherent-data/):\n",
    "\n",
    "* How to get features from Amazon SageMaker FeatureStore. The preprocess-multimodal-data notebooks for clinical, genomic, and imaging notebooks need to be run before running this notebook.\n",
    "* How to train a tabular model on a multimodal dataset to do binary classification. This notebook shows example for four different outcomes:  Alzheimers Disease, Coronary Heart Disease, Stroke, and Hypertension\n",
    "* How to use evaluate predictions from the out of sample test data.\n",
    "\n",
    "Note: This notebook was tested in Amazon SageMaker Studio on ml.t3.xlarge instance with Python 3 (Data Science 3.0) kernel.\n",
    "\n",
    "---"
   ]
  },
  {
   "cell_type": "code",
   "execution_count": 6,
   "id": "9515c767-f825-4691-a8dc-ebe2016e6ae2",
   "metadata": {
    "tags": []
   },
   "outputs": [],
   "source": [
    "import boto3\n",
    "import sagemaker\n",
    "from sagemaker.session import Session\n",
    "from sagemaker import get_execution_role\n",
    "import pandas as pd\n",
    "import io, os\n",
    "import sys\n",
    "from sklearn.model_selection import train_test_split"
   ]
  },
  {
   "cell_type": "code",
   "execution_count": null,
   "outputs": [],
   "source": [
    "!pip install autogluon"
   ],
   "metadata": {
    "collapsed": false
   },
   "id": "339915720e97ea08"
  },
  {
   "cell_type": "code",
   "execution_count": 7,
   "id": "55f9a0b7-fc8f-4c71-8732-9ac79f0faee6",
   "metadata": {
    "tags": []
   },
   "outputs": [],
   "source": [
    "from autogluon.tabular import TabularPredictor\n",
    "import autogluon as ag"
   ]
  },
  {
   "cell_type": "markdown",
   "id": "aaa341b3-3db4-42ca-b40d-ed3f904af38e",
   "metadata": {},
   "source": [
    "## Get data type to train model"
   ]
  },
  {
   "cell_type": "code",
   "execution_count": 8,
   "id": "9588fcd1-5671-4266-bc97-8607c4d6b6ca",
   "metadata": {
    "tags": []
   },
   "outputs": [],
   "source": [
    "data_type = 'genomic-clinical-imaging'\n",
    "PatientID = 'patientid'"
   ]
  },
  {
   "cell_type": "markdown",
   "id": "f648bda3-d7c7-4c0e-984a-d96e925e25fd",
   "metadata": {},
   "source": [
    "## Set up S3 buckets and session"
   ]
  },
  {
   "cell_type": "code",
   "execution_count": 9,
   "id": "191ef27d-efbe-4229-a2c8-2f4fcd02b581",
   "metadata": {
    "tags": []
   },
   "outputs": [],
   "source": [
    "sm_session = sagemaker.Session()\n",
    "bucket = sm_session.default_bucket()\n",
    "region = boto3.Session().region_name\n",
    "role = get_execution_role()\n",
    "\n",
    "boto_session = boto3.Session(region_name=region)\n",
    "sagemaker_client = boto_session.client(service_name='sagemaker', region_name=region)\n",
    "featurestore_runtime = boto_session.client(service_name='sagemaker-featurestore-runtime', region_name=region)\n",
    "\n",
    "feature_store_session = Session(\n",
    "    boto_session=boto_session,\n",
    "    sagemaker_client=sagemaker_client,\n",
    "    sagemaker_featurestore_runtime_client=featurestore_runtime\n",
    ")\n",
    "\n",
    "s3_client = boto3.client('s3', region_name=region)\n",
    "\n",
    "default_s3_bucket_name = sm_session.default_bucket()\n",
    "prefix = 'multi-model-health-ml'\n"
   ]
  },
  {
   "cell_type": "markdown",
   "id": "043669dd-325a-46ac-a5ee-21cca32a9470",
   "metadata": {},
   "source": [
    "## Get features from SageMaker FeatureStore based on data type"
   ]
  },
  {
   "cell_type": "code",
   "execution_count": 10,
   "id": "0e6a0bbe-aae3-4fdd-bca0-7507c935012e",
   "metadata": {
    "tags": []
   },
   "outputs": [],
   "source": [
    "from sagemaker.feature_store.feature_group import FeatureGroup\n",
    "\n",
    "genomic_feature_group_name = 'genomic-feature-group'\n",
    "clinical_feature_group_name = 'clinical-feature-group'\n",
    "imaging_feature_group_name = 'imaging-feature-group'\n",
    "\n",
    "genomic_feature_group = FeatureGroup(name=genomic_feature_group_name, sagemaker_session=feature_store_session)\n",
    "clinical_feature_group = FeatureGroup(name=clinical_feature_group_name, sagemaker_session=feature_store_session)\n",
    "imaging_feature_group = FeatureGroup(name=imaging_feature_group_name, sagemaker_session=feature_store_session)"
   ]
  },
  {
   "cell_type": "code",
   "execution_count": 11,
   "id": "eef950fe-e6cd-46f7-ab9a-ba2416af69be",
   "metadata": {
    "tags": []
   },
   "outputs": [
    {
     "name": "stdout",
     "output_type": "stream",
     "text": [
      "Table names\n",
      "genomic_feature_group_1688073848\n",
      "clinical_feature_group_1688073736\n",
      "imaging_feature_group_1692317426\n"
     ]
    }
   ],
   "source": [
    "genomic_query = genomic_feature_group.athena_query()\n",
    "clinical_query = clinical_feature_group.athena_query()\n",
    "imaging_query = imaging_feature_group.athena_query()\n",
    "\n",
    "genomic_table = genomic_query.table_name\n",
    "clinical_table = clinical_query.table_name\n",
    "imaging_table = imaging_query.table_name\n",
    "\n",
    "print('Table names')\n",
    "print(genomic_table)\n",
    "print(clinical_table)\n",
    "print(imaging_table)\n"
   ]
  },
  {
   "cell_type": "code",
   "execution_count": 12,
   "id": "c25be564-ebb7-429e-936e-6e00e4fd89d2",
   "metadata": {
    "tags": []
   },
   "outputs": [],
   "source": [
    "def get_features(data_type, output_location):   \n",
    "    if (data_type == 'genomic-clinical-imaging'):\n",
    "        query_string = f'''SELECT * FROM \"{genomic_table}\", \"{clinical_table}\", \"{imaging_table}\"\n",
    "                           WHERE \"{genomic_table}\".{PatientID} = \"{clinical_table}\".{PatientID}\n",
    "                           AND \"{genomic_table}\".{PatientID} = \"{imaging_table}\".{PatientID}\n",
    "                           ORDER BY \"{clinical_table}\".{PatientID} ASC'''                   \n",
    "        print(query_string)\n",
    "        \n",
    "        genomic_query.run(query_string=query_string, output_location=output_location)\n",
    "        genomic_query.wait()\n",
    "        dataset = genomic_query.as_dataframe()\n",
    "        \n",
    "    elif data_type not in supported_data_type:\n",
    "        raise KeyError(f'data_type {data_type} is not supported for this analysis.')\n",
    "        \n",
    "    return dataset"
   ]
  },
  {
   "cell_type": "code",
   "execution_count": 30,
   "id": "7e6f4687-3bd3-4c1d-8db7-9d164a8841a3",
   "metadata": {
    "tags": []
   },
   "outputs": [
    {
     "name": "stdout",
     "output_type": "stream",
     "text": [
      "SELECT * FROM \"genomic_feature_group_1688073848\", \"clinical_feature_group_1688073736\", \"imaging_feature_group_1692317426\"\n",
      "                           WHERE \"genomic_feature_group_1688073848\".patientid = \"clinical_feature_group_1688073736\".patientid\n",
      "                           AND \"genomic_feature_group_1688073848\".patientid = \"imaging_feature_group_1692317426\".patientid\n",
      "                           ORDER BY \"clinical_feature_group_1688073736\".patientid ASC\n",
      "Observing the different features in the dataset\n"
     ]
    },
    {
     "data": {
      "text/html": [
       "<div>\n",
       "<style scoped>\n",
       "    .dataframe tbody tr th:only-of-type {\n",
       "        vertical-align: middle;\n",
       "    }\n",
       "\n",
       "    .dataframe tbody tr th {\n",
       "        vertical-align: top;\n",
       "    }\n",
       "\n",
       "    .dataframe thead th {\n",
       "        text-align: right;\n",
       "    }\n",
       "</style>\n",
       "<table border=\"1\" class=\"dataframe\">\n",
       "  <thead>\n",
       "    <tr style=\"text-align: right;\">\n",
       "      <th></th>\n",
       "      <th>patientid</th>\n",
       "      <th>gene_info</th>\n",
       "      <th>clinical_significance</th>\n",
       "      <th>contigname</th>\n",
       "      <th>start</th>\n",
       "      <th>referenceallele</th>\n",
       "      <th>alternatealleles</th>\n",
       "      <th>phased</th>\n",
       "      <th>calls</th>\n",
       "      <th>alzheimers_prediction</th>\n",
       "      <th>...</th>\n",
       "      <th>original_ngtdm_strength</th>\n",
       "      <th>imagesetid</th>\n",
       "      <th>alzheimers_prediction.2</th>\n",
       "      <th>coronary_heart_disease_prediction.2</th>\n",
       "      <th>stroke_prediction.2</th>\n",
       "      <th>hypertension_prediction.2</th>\n",
       "      <th>eventtime.2</th>\n",
       "      <th>write_time.2</th>\n",
       "      <th>api_invocation_time.2</th>\n",
       "      <th>is_deleted.2</th>\n",
       "    </tr>\n",
       "  </thead>\n",
       "  <tbody>\n",
       "    <tr>\n",
       "      <th>0</th>\n",
       "      <td>0074596f-5fd0-7965-db0f-cce71c81567d</td>\n",
       "      <td>'SOD3', None, 'TNF', 'LPL', 'F5', 'PON1', 'PPARG', 'FTO', 'HFE', 'DCHS1', 'ABCG2', 'HRC', 'PLTP', 'GCH1', 'ANKK1', 'EDN1', 'LRP8', 'DSP', 'TTR', 'SCN5A', 'APOB', 'CDKN2B', 'BMPR2', 'LPA', 'HABP2', 'F12', 'PPP1R3A', 'ALOX15', 'F2', 'CCL2', 'APOE', 'AGTR1', 'UMOD', 'ITGB3', 'AGT', 'SOD1', 'LDLR', 'LTA', 'CDKN2B-AS1', 'ADRB2', 'SMAD3', 'TNNI3', 'PSEN2', 'KCNE1', 'LDB3', 'ADRB3'</td>\n",
       "      <td>'Conflicting_interpretations_of_pathogenicity', 'Conflicting_interpretations_of_pathogenicity|_other', 'Conflicting_interpretations_of_pathogenicity|_other|_risk_factor', 'Benign', 'Benign/Likely_benign', 'Pathogenic', 'Likely_benign', 'Uncertain_significance', 'drug_response', 'risk_factor', 'Affects|_association', 'Conflicting_interpretations_of_pathogenicity|_risk_factor', 'Pathogenic/Likely_pathogenic', 'not_provided', 'association', 'Pathogenic|_risk_factor'</td>\n",
       "      <td>'14', '9', '6', '16', '17', '8', '10', '11', '2', '18', '1', '3', '21', '4', '19', '5', '7', '20', '15'</td>\n",
       "      <td>53767041, 44919688, 31667848, 12351625, 44908683, 6624137, 31573006, 55156238, 11089558, 22003223, 11110680, 38575384, 38613786, 20354331, 160589085, 230710047, 49188640, 47283363, 113400105, 46739504, 19956017, 22096055, 148742200, 88139961, 148827321, 31598654, 113588286, 22125503, 45919553, 11106626, 226885569, 26090950, 19961927, 160540104, 37966279, 11116872, 202520141, 53247054, 86681679, 21006288, 4632018, 24800211, 31575253, 12296021, 202555351, 67166300, 34252768, 11105249, 95308133, 113878378, 169549810, 21006195, 34449522, 7562998, 11113336, 177409530, 11110779, 54843773</td>\n",
       "      <td>'T', 'G', 'A', 'C'</td>\n",
       "      <td>'[A]', '[C]', '[G]', '[T]'</td>\n",
       "      <td>False</td>\n",
       "      <td>'[1, 1]', '[0, 1]'</td>\n",
       "      <td>0</td>\n",
       "      <td>...</td>\n",
       "      <td>8.547276310306838</td>\n",
       "      <td>'d7298fe7dde4537b8343b5a702979aea'</td>\n",
       "      <td>0</td>\n",
       "      <td>0</td>\n",
       "      <td>0</td>\n",
       "      <td>0</td>\n",
       "      <td>1692317426.0</td>\n",
       "      <td>2023-08-18 00:16:36.401</td>\n",
       "      <td>2023-08-18 00:11:13.000</td>\n",
       "      <td>False</td>\n",
       "    </tr>\n",
       "    <tr>\n",
       "      <th>1</th>\n",
       "      <td>0618424e-ed51-3100-ea5c-e46492bfd65b</td>\n",
       "      <td>'SOD3', None, 'TNF', 'LPL', 'F5', 'PON1', 'PPARG', 'FTO', 'HFE', 'DCHS1', 'ABCG2', 'HRC', 'PLTP', 'ANKK1', 'GCH1', 'EDN1', 'LRP8', 'DSP', 'TTR', 'SCN5A', 'APOB', 'CDKN2B', 'BMPR2', 'LPA', 'HABP2', 'F12', 'PPP1R3A', 'ALOX15', 'F2', 'CCL2', 'APOE', 'AGTR1', 'UMOD', 'ITGB3', 'AGT', 'SOD1', 'LDLR', 'LTA', 'CDKN2B-AS1', 'ADRB2', 'SMAD3', 'TNNI3', 'PSEN2', 'KCNE1', 'LDB3', 'ADRB3'</td>\n",
       "      <td>'Conflicting_interpretations_of_pathogenicity', 'Conflicting_interpretations_of_pathogenicity|_other', 'Conflicting_interpretations_of_pathogenicity|_other|_risk_factor', 'Benign', 'Benign/Likely_benign', 'Pathogenic', 'Likely_benign', 'Uncertain_significance', 'drug_response', 'risk_factor', 'Affects|_association', 'Conflicting_interpretations_of_pathogenicity|_risk_factor', 'Pathogenic/Likely_pathogenic', 'not_provided', 'association', 'Pathogenic|_risk_factor'</td>\n",
       "      <td>'14', '9', '6', '16', '17', '8', '10', '11', '2', '18', '1', '3', '21', '4', '19', '5', '7', '20', '15'</td>\n",
       "      <td>53767041, 44919688, 12351625, 31667848, 44908683, 6624137, 31573006, 55156238, 11089558, 22003223, 11110680, 38575384, 38613786, 20354331, 160589085, 230710047, 49188640, 47283363, 113400105, 46739504, 19956017, 22096055, 148742200, 88139961, 148827321, 31598654, 113588286, 22125503, 45919553, 11106626, 226885569, 26090950, 19961927, 160540104, 37966279, 11116872, 202520141, 53247054, 86681679, 21006288, 4632018, 24800211, 31575253, 12296021, 202555351, 67166300, 34252768, 11105249, 95308133, 113878378, 169549810, 21006195, 34449522, 7562998, 11113336, 177409530, 11110779, 54843773</td>\n",
       "      <td>'T', 'G', 'A', 'C'</td>\n",
       "      <td>'[A]', '[C]', '[G]', '[T]'</td>\n",
       "      <td>False</td>\n",
       "      <td>'[1, 1]', '[0, 1]'</td>\n",
       "      <td>0</td>\n",
       "      <td>...</td>\n",
       "      <td>9.241749116927542</td>\n",
       "      <td>'e5e2ccf0487eed5523395431675fa708'</td>\n",
       "      <td>0</td>\n",
       "      <td>0</td>\n",
       "      <td>0</td>\n",
       "      <td>0</td>\n",
       "      <td>1692317426.0</td>\n",
       "      <td>2023-08-18 00:16:06.915</td>\n",
       "      <td>2023-08-18 00:11:14.000</td>\n",
       "      <td>False</td>\n",
       "    </tr>\n",
       "    <tr>\n",
       "      <th>2</th>\n",
       "      <td>06cc033a-f09a-0fb2-4a1a-4c4d99d88839</td>\n",
       "      <td>'SOD3', None, 'TNF', 'LPL', 'F5', 'PON1', 'PPARG', 'FTO', 'HFE', 'DCHS1', 'ABCG2', 'HRC', 'PLTP', 'GCH1', 'ANKK1', 'EDN1', 'LRP8', 'DSP', 'TTR', 'SCN5A', 'APOB', 'CDKN2B', 'BMPR2', 'LPA', 'HABP2', 'F12', 'PPP1R3A', 'ALOX15', 'F2', 'CCL2', 'APOE', 'AGTR1', 'UMOD', 'ITGB3', 'AGT', 'SOD1', 'LDLR', 'LTA', 'CDKN2B-AS1', 'ADRB2', 'SMAD3', 'TNNI3', 'PSEN2', 'KCNE1', 'LDB3', 'ADRB3'</td>\n",
       "      <td>'Conflicting_interpretations_of_pathogenicity', 'Conflicting_interpretations_of_pathogenicity|_other', 'Conflicting_interpretations_of_pathogenicity|_other|_risk_factor', 'Benign', 'Benign/Likely_benign', 'Pathogenic', 'Likely_benign', 'Uncertain_significance', 'drug_response', 'risk_factor', 'Affects|_association', 'Conflicting_interpretations_of_pathogenicity|_risk_factor', 'Pathogenic/Likely_pathogenic', 'not_provided', 'association', 'Pathogenic|_risk_factor'</td>\n",
       "      <td>'14', '9', '6', '16', '17', '8', '10', '11', '2', '18', '1', '3', '21', '4', '19', '5', '7', '20', '15'</td>\n",
       "      <td>53767041, 44919688, 31667848, 12351625, 44908683, 6624137, 31573006, 55156238, 11089558, 22003223, 11110680, 38575384, 38613786, 20354331, 160589085, 230710047, 49188640, 47283363, 113400105, 46739504, 19956017, 22096055, 148742200, 88139961, 148827321, 31598654, 113588286, 22125503, 45919553, 11106626, 226885569, 26090950, 19961927, 160540104, 37966279, 11116872, 202520141, 53247054, 86681679, 21006288, 4632018, 24800211, 31575253, 12296021, 202555351, 67166300, 34252768, 11105249, 95308133, 113878378, 169549810, 21006195, 34449522, 7562998, 11113336, 177409530, 11110779, 54843773</td>\n",
       "      <td>'T', 'G', 'A', 'C'</td>\n",
       "      <td>'[A]', '[C]', '[G]', '[T]'</td>\n",
       "      <td>False</td>\n",
       "      <td>'[1, 1]', '[0, 1]'</td>\n",
       "      <td>1</td>\n",
       "      <td>...</td>\n",
       "      <td>9.02168678253902</td>\n",
       "      <td>'1a3c6b0044e2b58a13c106896da369ef'</td>\n",
       "      <td>1</td>\n",
       "      <td>0</td>\n",
       "      <td>1</td>\n",
       "      <td>1</td>\n",
       "      <td>1692317426.0</td>\n",
       "      <td>2023-08-18 00:16:06.943</td>\n",
       "      <td>2023-08-18 00:11:14.000</td>\n",
       "      <td>False</td>\n",
       "    </tr>\n",
       "  </tbody>\n",
       "</table>\n",
       "<p>3 rows × 171 columns</p>\n",
       "</div>"
      ],
      "text/plain": [
       "                              patientid  \\\n",
       "0  0074596f-5fd0-7965-db0f-cce71c81567d   \n",
       "1  0618424e-ed51-3100-ea5c-e46492bfd65b   \n",
       "2  06cc033a-f09a-0fb2-4a1a-4c4d99d88839   \n",
       "\n",
       "                                                                                                                                                                                                                                                                                                                                                                                   gene_info  \\\n",
       "0  'SOD3', None, 'TNF', 'LPL', 'F5', 'PON1', 'PPARG', 'FTO', 'HFE', 'DCHS1', 'ABCG2', 'HRC', 'PLTP', 'GCH1', 'ANKK1', 'EDN1', 'LRP8', 'DSP', 'TTR', 'SCN5A', 'APOB', 'CDKN2B', 'BMPR2', 'LPA', 'HABP2', 'F12', 'PPP1R3A', 'ALOX15', 'F2', 'CCL2', 'APOE', 'AGTR1', 'UMOD', 'ITGB3', 'AGT', 'SOD1', 'LDLR', 'LTA', 'CDKN2B-AS1', 'ADRB2', 'SMAD3', 'TNNI3', 'PSEN2', 'KCNE1', 'LDB3', 'ADRB3'   \n",
       "1  'SOD3', None, 'TNF', 'LPL', 'F5', 'PON1', 'PPARG', 'FTO', 'HFE', 'DCHS1', 'ABCG2', 'HRC', 'PLTP', 'ANKK1', 'GCH1', 'EDN1', 'LRP8', 'DSP', 'TTR', 'SCN5A', 'APOB', 'CDKN2B', 'BMPR2', 'LPA', 'HABP2', 'F12', 'PPP1R3A', 'ALOX15', 'F2', 'CCL2', 'APOE', 'AGTR1', 'UMOD', 'ITGB3', 'AGT', 'SOD1', 'LDLR', 'LTA', 'CDKN2B-AS1', 'ADRB2', 'SMAD3', 'TNNI3', 'PSEN2', 'KCNE1', 'LDB3', 'ADRB3'   \n",
       "2  'SOD3', None, 'TNF', 'LPL', 'F5', 'PON1', 'PPARG', 'FTO', 'HFE', 'DCHS1', 'ABCG2', 'HRC', 'PLTP', 'GCH1', 'ANKK1', 'EDN1', 'LRP8', 'DSP', 'TTR', 'SCN5A', 'APOB', 'CDKN2B', 'BMPR2', 'LPA', 'HABP2', 'F12', 'PPP1R3A', 'ALOX15', 'F2', 'CCL2', 'APOE', 'AGTR1', 'UMOD', 'ITGB3', 'AGT', 'SOD1', 'LDLR', 'LTA', 'CDKN2B-AS1', 'ADRB2', 'SMAD3', 'TNNI3', 'PSEN2', 'KCNE1', 'LDB3', 'ADRB3'   \n",
       "\n",
       "                                                                                                                                                                                                                                                                                                                                                                                                                                                                 clinical_significance  \\\n",
       "0  'Conflicting_interpretations_of_pathogenicity', 'Conflicting_interpretations_of_pathogenicity|_other', 'Conflicting_interpretations_of_pathogenicity|_other|_risk_factor', 'Benign', 'Benign/Likely_benign', 'Pathogenic', 'Likely_benign', 'Uncertain_significance', 'drug_response', 'risk_factor', 'Affects|_association', 'Conflicting_interpretations_of_pathogenicity|_risk_factor', 'Pathogenic/Likely_pathogenic', 'not_provided', 'association', 'Pathogenic|_risk_factor'   \n",
       "1  'Conflicting_interpretations_of_pathogenicity', 'Conflicting_interpretations_of_pathogenicity|_other', 'Conflicting_interpretations_of_pathogenicity|_other|_risk_factor', 'Benign', 'Benign/Likely_benign', 'Pathogenic', 'Likely_benign', 'Uncertain_significance', 'drug_response', 'risk_factor', 'Affects|_association', 'Conflicting_interpretations_of_pathogenicity|_risk_factor', 'Pathogenic/Likely_pathogenic', 'not_provided', 'association', 'Pathogenic|_risk_factor'   \n",
       "2  'Conflicting_interpretations_of_pathogenicity', 'Conflicting_interpretations_of_pathogenicity|_other', 'Conflicting_interpretations_of_pathogenicity|_other|_risk_factor', 'Benign', 'Benign/Likely_benign', 'Pathogenic', 'Likely_benign', 'Uncertain_significance', 'drug_response', 'risk_factor', 'Affects|_association', 'Conflicting_interpretations_of_pathogenicity|_risk_factor', 'Pathogenic/Likely_pathogenic', 'not_provided', 'association', 'Pathogenic|_risk_factor'   \n",
       "\n",
       "                                                                                                contigname  \\\n",
       "0  '14', '9', '6', '16', '17', '8', '10', '11', '2', '18', '1', '3', '21', '4', '19', '5', '7', '20', '15'   \n",
       "1  '14', '9', '6', '16', '17', '8', '10', '11', '2', '18', '1', '3', '21', '4', '19', '5', '7', '20', '15'   \n",
       "2  '14', '9', '6', '16', '17', '8', '10', '11', '2', '18', '1', '3', '21', '4', '19', '5', '7', '20', '15'   \n",
       "\n",
       "                                                                                                                                                                                                                                                                                                                                                                                                                                                                                                                                                                                                          start  \\\n",
       "0  53767041, 44919688, 31667848, 12351625, 44908683, 6624137, 31573006, 55156238, 11089558, 22003223, 11110680, 38575384, 38613786, 20354331, 160589085, 230710047, 49188640, 47283363, 113400105, 46739504, 19956017, 22096055, 148742200, 88139961, 148827321, 31598654, 113588286, 22125503, 45919553, 11106626, 226885569, 26090950, 19961927, 160540104, 37966279, 11116872, 202520141, 53247054, 86681679, 21006288, 4632018, 24800211, 31575253, 12296021, 202555351, 67166300, 34252768, 11105249, 95308133, 113878378, 169549810, 21006195, 34449522, 7562998, 11113336, 177409530, 11110779, 54843773   \n",
       "1  53767041, 44919688, 12351625, 31667848, 44908683, 6624137, 31573006, 55156238, 11089558, 22003223, 11110680, 38575384, 38613786, 20354331, 160589085, 230710047, 49188640, 47283363, 113400105, 46739504, 19956017, 22096055, 148742200, 88139961, 148827321, 31598654, 113588286, 22125503, 45919553, 11106626, 226885569, 26090950, 19961927, 160540104, 37966279, 11116872, 202520141, 53247054, 86681679, 21006288, 4632018, 24800211, 31575253, 12296021, 202555351, 67166300, 34252768, 11105249, 95308133, 113878378, 169549810, 21006195, 34449522, 7562998, 11113336, 177409530, 11110779, 54843773   \n",
       "2  53767041, 44919688, 31667848, 12351625, 44908683, 6624137, 31573006, 55156238, 11089558, 22003223, 11110680, 38575384, 38613786, 20354331, 160589085, 230710047, 49188640, 47283363, 113400105, 46739504, 19956017, 22096055, 148742200, 88139961, 148827321, 31598654, 113588286, 22125503, 45919553, 11106626, 226885569, 26090950, 19961927, 160540104, 37966279, 11116872, 202520141, 53247054, 86681679, 21006288, 4632018, 24800211, 31575253, 12296021, 202555351, 67166300, 34252768, 11105249, 95308133, 113878378, 169549810, 21006195, 34449522, 7562998, 11113336, 177409530, 11110779, 54843773   \n",
       "\n",
       "      referenceallele            alternatealleles phased               calls  \\\n",
       "0  'T', 'G', 'A', 'C'  '[A]', '[C]', '[G]', '[T]'  False  '[1, 1]', '[0, 1]'   \n",
       "1  'T', 'G', 'A', 'C'  '[A]', '[C]', '[G]', '[T]'  False  '[1, 1]', '[0, 1]'   \n",
       "2  'T', 'G', 'A', 'C'  '[A]', '[C]', '[G]', '[T]'  False  '[1, 1]', '[0, 1]'   \n",
       "\n",
       "  alzheimers_prediction  ... original_ngtdm_strength  \\\n",
       "0                     0  ...       8.547276310306838   \n",
       "1                     0  ...       9.241749116927542   \n",
       "2                     1  ...        9.02168678253902   \n",
       "\n",
       "                           imagesetid alzheimers_prediction.2  \\\n",
       "0  'd7298fe7dde4537b8343b5a702979aea'                       0   \n",
       "1  'e5e2ccf0487eed5523395431675fa708'                       0   \n",
       "2  '1a3c6b0044e2b58a13c106896da369ef'                       1   \n",
       "\n",
       "  coronary_heart_disease_prediction.2 stroke_prediction.2  \\\n",
       "0                                   0                   0   \n",
       "1                                   0                   0   \n",
       "2                                   0                   1   \n",
       "\n",
       "  hypertension_prediction.2   eventtime.2             write_time.2  \\\n",
       "0                         0  1692317426.0  2023-08-18 00:16:36.401   \n",
       "1                         0  1692317426.0  2023-08-18 00:16:06.915   \n",
       "2                         1  1692317426.0  2023-08-18 00:16:06.943   \n",
       "\n",
       "     api_invocation_time.2 is_deleted.2  \n",
       "0  2023-08-18 00:11:13.000        False  \n",
       "1  2023-08-18 00:11:14.000        False  \n",
       "2  2023-08-18 00:11:14.000        False  \n",
       "\n",
       "[3 rows x 171 columns]"
      ]
     },
     "execution_count": 30,
     "metadata": {},
     "output_type": "execute_result"
    }
   ],
   "source": [
    "fs_output_location = f's3://{default_s3_bucket_name}/{prefix}/feature-store-queries'\n",
    "dataset = get_features(data_type, fs_output_location)\n",
    "dataset = dataset.astype(str).replace({\"{\":\"\", \"}\":\"\"}, regex=True)\n",
    "\n",
    "# Write to csv in S3 without headers and index column.\n",
    "filename=f'{data_type}-dataset.csv'\n",
    "dataset_uri_prefix = f's3://{default_s3_bucket_name}/{prefix}/training_input/';\n",
    "\n",
    "dataset.to_csv(filename)\n",
    "s3_client.upload_file(filename, default_s3_bucket_name, f'{prefix}/training_input/{filename}')\n",
    "print(\"Observing the different features in the dataset\")\n",
    "dataset.head(3)"
   ]
  },
  {
   "cell_type": "code",
   "execution_count": 31,
   "id": "79588825-d49c-4309-b27e-7c79bc3f866c",
   "metadata": {
    "tags": []
   },
   "outputs": [],
   "source": [
    "ag.core.utils.random.seed(25)"
   ]
  },
  {
   "cell_type": "markdown",
   "id": "1d2deae2-386a-49a0-9662-e81a1c17d550",
   "metadata": {},
   "source": [
    "## Alzheimers Prediction\n",
    "Splitting data for training and testing"
   ]
  },
  {
   "cell_type": "code",
   "execution_count": 32,
   "id": "544d6b79-7ea9-4082-bc95-cacd57015a13",
   "metadata": {
    "tags": []
   },
   "outputs": [
    {
     "name": "stdout",
     "output_type": "stream",
     "text": [
      "Training size =  121\n",
      "Out of sample testing size =  30\n"
     ]
    }
   ],
   "source": [
    "#Alzheimers Prediction\n",
    "#Splitting data into training and testing 80:20\n",
    "dataset = dataset.loc[:, ~dataset.columns.str.startswith('diagnostics')]\n",
    "dataset = dataset.drop(columns = ['eventtime', 'write_time', 'api_invocation_time', 'is_deleted', 'eventtime.1', 'write_time.1', 'api_invocation_time.1', 'is_deleted.1', 'alzheimers_prediction.1',\n",
    "                                    'coronary_heart_disease_prediction.1', 'stroke_prediction.1', 'hypertension_prediction.1', 'patientid.1', 'eventtime.2', 'write_time.2', 'api_invocation_time.2', 'is_deleted.2', \n",
    "                                   'alzheimers_prediction.2', 'coronary_heart_disease_prediction.2', 'stroke_prediction.2', 'hypertension_prediction.2', 'patientid.2'])\n",
    "training= dataset.sample(frac=0.8, random_state=23)\n",
    "training = training.drop(columns = ['patientid', 'coronary_heart_disease_prediction', 'stroke_prediction', 'hypertension_prediction'])\n",
    "testing = dataset.drop(training.index)\n",
    "testing = testing.drop(columns = ['patientid', 'coronary_heart_disease_prediction', 'stroke_prediction', 'hypertension_prediction'])\n",
    "X_test = testing.drop(columns = ['alzheimers_prediction'])\n",
    "print(\"Training size = \", len(training))\n",
    "print(\"Out of sample testing size = \", len(testing))"
   ]
  },
  {
   "cell_type": "markdown",
   "id": "0deacd5b-1dd8-4ee3-9b67-395e2298b52c",
   "metadata": {},
   "source": [
    "### Alzheimers prediction on clinical, genomic, and imaging data using Autogluon"
   ]
  },
  {
   "cell_type": "code",
   "execution_count": null,
   "id": "e29cd4ea-2d3b-4e94-bdbb-19b8b64e9b92",
   "metadata": {
    "tags": []
   },
   "outputs": [],
   "source": [
    "import time\n",
    "start_time = time.time()\n",
    "buckt = sm_session.default_bucket()\n",
    "prefix= \"genomic-clinical-imaging-alzheimers-prediction\"\n",
    "save_file = 's3://{}/{}'.format(buckt, prefix)\n",
    "predictor = TabularPredictor(label= 'alzheimers_prediction', problem_type= 'binary', path=save_file).fit(train_data=training, holdout_frac=0.1, excluded_model_types=['CAT', 'XGB'])\n",
    "print(\"--- Training time= %s seconds ---\" % (time.time() - start_time))"
   ]
  },
  {
   "cell_type": "code",
   "execution_count": 34,
   "id": "3a8cc026-7387-4b82-9a9c-1bc2b7818a94",
   "metadata": {
    "tags": []
   },
   "outputs": [
    {
     "name": "stderr",
     "output_type": "stream",
     "text": [
      "Evaluation: accuracy on test data: 0.8666666666666667\n",
      "Evaluations on test data:\n",
      "{\n",
      "    \"accuracy\": 0.8666666666666667,\n",
      "    \"balanced_accuracy\": 0.6296296296296297,\n",
      "    \"mcc\": 0.25925925925925924,\n",
      "    \"f1\": 0.3333333333333333,\n",
      "    \"precision\": 0.3333333333333333,\n",
      "    \"recall\": 0.3333333333333333\n",
      "}\n",
      "Detailed (per-class) classification report:\n",
      "{\n",
      "    \"0\": {\n",
      "        \"precision\": 0.9259259259259259,\n",
      "        \"recall\": 0.9259259259259259,\n",
      "        \"f1-score\": 0.9259259259259259,\n",
      "        \"support\": 27\n",
      "    },\n",
      "    \"1\": {\n",
      "        \"precision\": 0.3333333333333333,\n",
      "        \"recall\": 0.3333333333333333,\n",
      "        \"f1-score\": 0.3333333333333333,\n",
      "        \"support\": 3\n",
      "    },\n",
      "    \"accuracy\": 0.8666666666666667,\n",
      "    \"macro avg\": {\n",
      "        \"precision\": 0.6296296296296297,\n",
      "        \"recall\": 0.6296296296296297,\n",
      "        \"f1-score\": 0.6296296296296297,\n",
      "        \"support\": 30\n",
      "    },\n",
      "    \"weighted avg\": {\n",
      "        \"precision\": 0.8666666666666667,\n",
      "        \"recall\": 0.8666666666666667,\n",
      "        \"f1-score\": 0.8666666666666667,\n",
      "        \"support\": 30\n",
      "    }\n",
      "}\n"
     ]
    },
    {
     "data": {
      "text/plain": [
       "{'accuracy': 0.8666666666666667,\n",
       " 'balanced_accuracy': 0.6296296296296297,\n",
       " 'mcc': 0.25925925925925924,\n",
       " 'f1': 0.3333333333333333,\n",
       " 'precision': 0.3333333333333333,\n",
       " 'recall': 0.3333333333333333,\n",
       " 'confusion_matrix':     0  1\n",
       " 0  25  2\n",
       " 1   2  1,\n",
       " 'classification_report': {'0': {'precision': 0.9259259259259259,\n",
       "   'recall': 0.9259259259259259,\n",
       "   'f1-score': 0.9259259259259259,\n",
       "   'support': 27},\n",
       "  '1': {'precision': 0.3333333333333333,\n",
       "   'recall': 0.3333333333333333,\n",
       "   'f1-score': 0.3333333333333333,\n",
       "   'support': 3},\n",
       "  'accuracy': 0.8666666666666667,\n",
       "  'macro avg': {'precision': 0.6296296296296297,\n",
       "   'recall': 0.6296296296296297,\n",
       "   'f1-score': 0.6296296296296297,\n",
       "   'support': 30},\n",
       "  'weighted avg': {'precision': 0.8666666666666667,\n",
       "   'recall': 0.8666666666666667,\n",
       "   'f1-score': 0.8666666666666667,\n",
       "   'support': 30}}}"
      ]
     },
     "execution_count": 34,
     "metadata": {},
     "output_type": "execute_result"
    }
   ],
   "source": [
    "predictor.evaluate_predictions(y_true=testing['alzheimers_prediction'], y_pred=predictor.predict(X_test), auxiliary_metrics=True, detailed_report=True)"
   ]
  },
  {
   "cell_type": "markdown",
   "id": "c1630bd6-ff2f-4b36-be9b-c8b30b6bbf70",
   "metadata": {},
   "source": [
    "## Coronary heart disease Prediction\n",
    "Splitting data for training and testing"
   ]
  },
  {
   "cell_type": "code",
   "execution_count": 20,
   "id": "accbdc2f-b152-46fb-ab09-f6ce919a8c95",
   "metadata": {
    "tags": []
   },
   "outputs": [
    {
     "name": "stdout",
     "output_type": "stream",
     "text": [
      "Training size =  121\n",
      "Out of sample testing size =  30\n"
     ]
    }
   ],
   "source": [
    "#coronary_heart_disease_prediction\n",
    "#Splitting data into training and testing 80:20\n",
    "training = dataset.sample(frac=0.8, random_state=25)\n",
    "training =  training.drop(columns = ['patientid', 'alzheimers_prediction', 'stroke_prediction', 'hypertension_prediction'])\n",
    "testing = dataset.drop(training.index)\n",
    "testing = testing.drop(columns = ['patientid', 'alzheimers_prediction', 'stroke_prediction', 'hypertension_prediction'])\n",
    "X_test = testing.drop(columns = ['coronary_heart_disease_prediction'])\n",
    "print(\"Training size = \", len(training))\n",
    "print(\"Out of sample testing size = \", len(testing))"
   ]
  },
  {
   "cell_type": "markdown",
   "id": "6e242581-457b-43e3-a279-9fe488391fab",
   "metadata": {},
   "source": [
    "### Coronary heart disease prediction on clinical,  genomic, and imaging data using Autogluon"
   ]
  },
  {
   "cell_type": "code",
   "execution_count": null,
   "id": "645bf140-25de-443f-b852-34066b33d203",
   "metadata": {
    "tags": []
   },
   "outputs": [],
   "source": [
    "import time\n",
    "start_time = time.time()\n",
    "buckt = sm_session.default_bucket()\n",
    "prefix= \"genomic-clinical-imaging-coronary-heart-disease-prediction\"\n",
    "save_file = 's3://{}/{}'.format(buckt, prefix)\n",
    "predictor = TabularPredictor(label= 'coronary_heart_disease_prediction', problem_type= 'binary', path=save_file).fit(train_data=training, holdout_frac=0.1, excluded_model_types=['CAT', 'XGB'])\n",
    "print(\"--- Training time= %s seconds ---\" % (time.time() - start_time))"
   ]
  },
  {
   "cell_type": "code",
   "execution_count": 22,
   "id": "9eacb091-7a47-4efc-a360-4a265efbfe0c",
   "metadata": {
    "tags": []
   },
   "outputs": [
    {
     "name": "stderr",
     "output_type": "stream",
     "text": [
      "Evaluation: accuracy on test data: 0.9\n",
      "Evaluations on test data:\n",
      "{\n",
      "    \"accuracy\": 0.9,\n",
      "    \"balanced_accuracy\": 0.625,\n",
      "    \"mcc\": 0.4734320764739993,\n",
      "    \"f1\": 0.4,\n",
      "    \"precision\": 1.0,\n",
      "    \"recall\": 0.25\n",
      "}\n",
      "Detailed (per-class) classification report:\n",
      "{\n",
      "    \"0\": {\n",
      "        \"precision\": 0.896551724137931,\n",
      "        \"recall\": 1.0,\n",
      "        \"f1-score\": 0.9454545454545454,\n",
      "        \"support\": 26\n",
      "    },\n",
      "    \"1\": {\n",
      "        \"precision\": 1.0,\n",
      "        \"recall\": 0.25,\n",
      "        \"f1-score\": 0.4,\n",
      "        \"support\": 4\n",
      "    },\n",
      "    \"accuracy\": 0.9,\n",
      "    \"macro avg\": {\n",
      "        \"precision\": 0.9482758620689655,\n",
      "        \"recall\": 0.625,\n",
      "        \"f1-score\": 0.6727272727272727,\n",
      "        \"support\": 30\n",
      "    },\n",
      "    \"weighted avg\": {\n",
      "        \"precision\": 0.9103448275862068,\n",
      "        \"recall\": 0.9,\n",
      "        \"f1-score\": 0.8727272727272728,\n",
      "        \"support\": 30\n",
      "    }\n",
      "}\n"
     ]
    },
    {
     "data": {
      "text/plain": [
       "{'accuracy': 0.9,\n",
       " 'balanced_accuracy': 0.625,\n",
       " 'mcc': 0.4734320764739993,\n",
       " 'f1': 0.4,\n",
       " 'precision': 1.0,\n",
       " 'recall': 0.25,\n",
       " 'confusion_matrix':     0  1\n",
       " 0  26  0\n",
       " 1   3  1,\n",
       " 'classification_report': {'0': {'precision': 0.896551724137931,\n",
       "   'recall': 1.0,\n",
       "   'f1-score': 0.9454545454545454,\n",
       "   'support': 26},\n",
       "  '1': {'precision': 1.0, 'recall': 0.25, 'f1-score': 0.4, 'support': 4},\n",
       "  'accuracy': 0.9,\n",
       "  'macro avg': {'precision': 0.9482758620689655,\n",
       "   'recall': 0.625,\n",
       "   'f1-score': 0.6727272727272727,\n",
       "   'support': 30},\n",
       "  'weighted avg': {'precision': 0.9103448275862068,\n",
       "   'recall': 0.9,\n",
       "   'f1-score': 0.8727272727272728,\n",
       "   'support': 30}}}"
      ]
     },
     "execution_count": 22,
     "metadata": {},
     "output_type": "execute_result"
    }
   ],
   "source": [
    "predictor.evaluate_predictions(y_true=testing['coronary_heart_disease_prediction'], y_pred=predictor.predict(X_test), auxiliary_metrics=True, detailed_report=True)"
   ]
  },
  {
   "cell_type": "markdown",
   "id": "7deb337c-9b26-4d70-b700-c8eda40fa115",
   "metadata": {},
   "source": [
    "## Stroke Prediction\n",
    "Splitting data for training and testing"
   ]
  },
  {
   "cell_type": "code",
   "execution_count": 29,
   "id": "b0ef9c2d-eafc-4f05-a155-eb5237eb5052",
   "metadata": {
    "tags": []
   },
   "outputs": [
    {
     "name": "stdout",
     "output_type": "stream",
     "text": [
      "Training size =  121\n",
      "Out of sample testing size =  30\n"
     ]
    }
   ],
   "source": [
    "#stroke_prediction\n",
    "#Splitting data into training and testing 80:20\n",
    "training = dataset.sample(frac=0.8, random_state=30)\n",
    "training =  training.drop(columns = ['patientid', 'alzheimers_prediction', 'coronary_heart_disease_prediction', 'hypertension_prediction'])\n",
    "testing = dataset.drop(training.index)\n",
    "testing = testing.drop(columns = ['patientid', 'alzheimers_prediction', 'coronary_heart_disease_prediction', 'hypertension_prediction'])\n",
    "X_test = testing.drop(columns = ['stroke_prediction'])\n",
    "print(\"Training size = \", len(training))\n",
    "print(\"Out of sample testing size = \", len(testing))"
   ]
  },
  {
   "cell_type": "markdown",
   "id": "0a753dc2-452f-44d0-92af-2c335a2478a9",
   "metadata": {},
   "source": [
    "### Stroke prediction on clinical, genomic, and imaging data using Autogluon"
   ]
  },
  {
   "cell_type": "code",
   "execution_count": null,
   "id": "3e828813-1792-434b-9f84-c1c7efb4c236",
   "metadata": {},
   "outputs": [],
   "source": [
    "import time\n",
    "start_time = time.time()\n",
    "buckt = sm_session.default_bucket()\n",
    "prefix= \"genomic-clinical-imaging-stroke_prediction\"\n",
    "save_file = 's3://{}/{}'.format(buckt, prefix)\n",
    "predictor = TabularPredictor(label= 'stroke_prediction', problem_type= 'binary', path=save_file).fit(train_data=training, holdout_frac=0.1, excluded_model_types=['CAT', 'XGB'])\n",
    "print(\"--- Training time= %s seconds ---\" % (time.time() - start_time))"
   ]
  },
  {
   "cell_type": "code",
   "execution_count": 73,
   "id": "fe947544-7daa-4836-b74a-7291cb83d421",
   "metadata": {
    "tags": []
   },
   "outputs": [
    {
     "name": "stderr",
     "output_type": "stream",
     "text": [
      "Evaluation: accuracy on test data: 0.9666666666666667\n",
      "Evaluations on test data:\n",
      "{\n",
      "    \"accuracy\": 0.9666666666666667,\n",
      "    \"balanced_accuracy\": 0.9642857142857143,\n",
      "    \"mcc\": 0.9348527048856053,\n",
      "    \"f1\": 0.9696969696969697,\n",
      "    \"precision\": 0.9411764705882353,\n",
      "    \"recall\": 1.0\n",
      "}\n",
      "Detailed (per-class) classification report:\n",
      "{\n",
      "    \"0\": {\n",
      "        \"precision\": 1.0,\n",
      "        \"recall\": 0.9285714285714286,\n",
      "        \"f1-score\": 0.962962962962963,\n",
      "        \"support\": 14\n",
      "    },\n",
      "    \"1\": {\n",
      "        \"precision\": 0.9411764705882353,\n",
      "        \"recall\": 1.0,\n",
      "        \"f1-score\": 0.9696969696969697,\n",
      "        \"support\": 16\n",
      "    },\n",
      "    \"accuracy\": 0.9666666666666667,\n",
      "    \"macro avg\": {\n",
      "        \"precision\": 0.9705882352941176,\n",
      "        \"recall\": 0.9642857142857143,\n",
      "        \"f1-score\": 0.9663299663299664,\n",
      "        \"support\": 30\n",
      "    },\n",
      "    \"weighted avg\": {\n",
      "        \"precision\": 0.9686274509803922,\n",
      "        \"recall\": 0.9666666666666667,\n",
      "        \"f1-score\": 0.9665544332210999,\n",
      "        \"support\": 30\n",
      "    }\n",
      "}\n"
     ]
    },
    {
     "data": {
      "text/plain": [
       "{'accuracy': 0.9666666666666667,\n",
       " 'balanced_accuracy': 0.9642857142857143,\n",
       " 'mcc': 0.9348527048856053,\n",
       " 'f1': 0.9696969696969697,\n",
       " 'precision': 0.9411764705882353,\n",
       " 'recall': 1.0,\n",
       " 'confusion_matrix':     0   1\n",
       " 0  13   1\n",
       " 1   0  16,\n",
       " 'classification_report': {'0': {'precision': 1.0,\n",
       "   'recall': 0.9285714285714286,\n",
       "   'f1-score': 0.962962962962963,\n",
       "   'support': 14},\n",
       "  '1': {'precision': 0.9411764705882353,\n",
       "   'recall': 1.0,\n",
       "   'f1-score': 0.9696969696969697,\n",
       "   'support': 16},\n",
       "  'accuracy': 0.9666666666666667,\n",
       "  'macro avg': {'precision': 0.9705882352941176,\n",
       "   'recall': 0.9642857142857143,\n",
       "   'f1-score': 0.9663299663299664,\n",
       "   'support': 30},\n",
       "  'weighted avg': {'precision': 0.9686274509803922,\n",
       "   'recall': 0.9666666666666667,\n",
       "   'f1-score': 0.9665544332210999,\n",
       "   'support': 30}}}"
      ]
     },
     "execution_count": 73,
     "metadata": {},
     "output_type": "execute_result"
    }
   ],
   "source": [
    "predictor.evaluate_predictions(y_true=testing['stroke_prediction'], y_pred=predictor.predict(X_test), auxiliary_metrics=True, detailed_report=True)"
   ]
  },
  {
   "cell_type": "markdown",
   "id": "8cda76e3-db6c-44d3-a6e5-339a8344f55a",
   "metadata": {},
   "source": [
    "## Hypertension Prediction\n",
    "Splitting data for training and testing"
   ]
  },
  {
   "cell_type": "code",
   "execution_count": 30,
   "id": "926e139c-ec74-4c58-84c1-dca1c46f6022",
   "metadata": {
    "tags": []
   },
   "outputs": [
    {
     "name": "stdout",
     "output_type": "stream",
     "text": [
      "Training size =  121\n",
      "Out of sample testing size =  30\n"
     ]
    }
   ],
   "source": [
    "#hypertension_prediction\n",
    "#Splitting data into training and testing 80:20\n",
    "training = dataset.sample(frac=0.8, random_state=25)\n",
    "training = training.drop(columns = ['patientid', 'alzheimers_prediction', 'coronary_heart_disease_prediction', 'stroke_prediction'])\n",
    "testing = dataset.drop(training.index)\n",
    "testing = testing.drop(columns = ['patientid', 'alzheimers_prediction', 'coronary_heart_disease_prediction', 'stroke_prediction'])\n",
    "X_test = testing.drop(columns = ['hypertension_prediction'])\n",
    "print(\"Training size = \", len(training))\n",
    "print(\"Out of sample testing size = \", len(testing))\n",
    "\n",
    "# Splitting data into training and testing for deploying to an endpoint\n",
    "training_target = training.pop(\"hypertension_prediction\")\n",
    "training.insert(0, 'hypertension_prediction', training_target)\n",
    "testing_target = testing.pop(\"hypertension_prediction\")\n",
    "testing.insert(0, 'hypertension_prediction', testing_target)\n",
    "training.to_csv('s3://multimodal-dataset-clinical-genomic-imaging/multimodal_hypertension_training.csv', index=False)\n",
    "testing.to_csv('s3://multimodal-dataset-clinical-genomic-imaging/multimodal_hypertension_testing.csv', index=False)"
   ]
  },
  {
   "cell_type": "markdown",
   "id": "a6bf0905-5b45-4943-82a5-9211e40e010e",
   "metadata": {},
   "source": [
    "### Hypertension prediction on clinical, genomic, and imaging data using Autogluon"
   ]
  },
  {
   "cell_type": "code",
   "execution_count": null,
   "id": "dcdc67d7-d74c-4810-bccb-943ab9cedee6",
   "metadata": {},
   "outputs": [],
   "source": [
    "import time\n",
    "start_time = time.time()\n",
    "buckt = sm_session.default_bucket()\n",
    "prefix= \"genomic-clinical-imaging-hypertension-prediction\"\n",
    "save_file = 's3://{}/{}'.format(buckt, prefix)\n",
    "predictor = TabularPredictor(label= 'hypertension_prediction', problem_type= 'binary', path=save_file).fit(train_data=training, holdout_frac=0.1, excluded_model_types=['CAT', 'XGB'])\n",
    "print(\"--- Training time= %s seconds ---\" % (time.time() - start_time))"
   ]
  },
  {
   "cell_type": "code",
   "execution_count": 76,
   "id": "1611732f-6432-4713-b8da-90cbf404d3ec",
   "metadata": {
    "tags": []
   },
   "outputs": [
    {
     "name": "stderr",
     "output_type": "stream",
     "text": [
      "Evaluation: accuracy on test data: 0.8666666666666667\n",
      "Evaluations on test data:\n",
      "{\n",
      "    \"accuracy\": 0.8666666666666667,\n",
      "    \"balanced_accuracy\": 0.9047619047619048,\n",
      "    \"mcc\": 0.7486251134176306,\n",
      "    \"f1\": 0.8181818181818181,\n",
      "    \"precision\": 0.6923076923076923,\n",
      "    \"recall\": 1.0\n",
      "}\n",
      "Detailed (per-class) classification report:\n",
      "{\n",
      "    \"0\": {\n",
      "        \"precision\": 1.0,\n",
      "        \"recall\": 0.8095238095238095,\n",
      "        \"f1-score\": 0.8947368421052632,\n",
      "        \"support\": 21\n",
      "    },\n",
      "    \"1\": {\n",
      "        \"precision\": 0.6923076923076923,\n",
      "        \"recall\": 1.0,\n",
      "        \"f1-score\": 0.8181818181818181,\n",
      "        \"support\": 9\n",
      "    },\n",
      "    \"accuracy\": 0.8666666666666667,\n",
      "    \"macro avg\": {\n",
      "        \"precision\": 0.8461538461538461,\n",
      "        \"recall\": 0.9047619047619048,\n",
      "        \"f1-score\": 0.8564593301435406,\n",
      "        \"support\": 30\n",
      "    },\n",
      "    \"weighted avg\": {\n",
      "        \"precision\": 0.9076923076923077,\n",
      "        \"recall\": 0.8666666666666667,\n",
      "        \"f1-score\": 0.8717703349282296,\n",
      "        \"support\": 30\n",
      "    }\n",
      "}\n"
     ]
    },
    {
     "data": {
      "text/plain": [
       "{'accuracy': 0.8666666666666667,\n",
       " 'balanced_accuracy': 0.9047619047619048,\n",
       " 'mcc': 0.7486251134176306,\n",
       " 'f1': 0.8181818181818181,\n",
       " 'precision': 0.6923076923076923,\n",
       " 'recall': 1.0,\n",
       " 'confusion_matrix':     0  1\n",
       " 0  17  4\n",
       " 1   0  9,\n",
       " 'classification_report': {'0': {'precision': 1.0,\n",
       "   'recall': 0.8095238095238095,\n",
       "   'f1-score': 0.8947368421052632,\n",
       "   'support': 21},\n",
       "  '1': {'precision': 0.6923076923076923,\n",
       "   'recall': 1.0,\n",
       "   'f1-score': 0.8181818181818181,\n",
       "   'support': 9},\n",
       "  'accuracy': 0.8666666666666667,\n",
       "  'macro avg': {'precision': 0.8461538461538461,\n",
       "   'recall': 0.9047619047619048,\n",
       "   'f1-score': 0.8564593301435406,\n",
       "   'support': 30},\n",
       "  'weighted avg': {'precision': 0.9076923076923077,\n",
       "   'recall': 0.8666666666666667,\n",
       "   'f1-score': 0.8717703349282296,\n",
       "   'support': 30}}}"
      ]
     },
     "execution_count": 76,
     "metadata": {},
     "output_type": "execute_result"
    }
   ],
   "source": [
    "predictor.evaluate_predictions(y_true=testing['hypertension_prediction'], y_pred=predictor.predict(X_test), auxiliary_metrics=True, detailed_report=True)"
   ]
  },
  {
   "cell_type": "code",
   "execution_count": null,
   "id": "b6669950-15c3-4231-b10d-69971fdd656a",
   "metadata": {},
   "outputs": [],
   "source": []
  }
 ],
 "metadata": {
  "availableInstances": [
   {
    "_defaultOrder": 0,
    "_isFastLaunch": true,
    "category": "General purpose",
    "gpuNum": 0,
    "hideHardwareSpecs": false,
    "memoryGiB": 4,
    "name": "ml.t3.medium",
    "vcpuNum": 2
   },
   {
    "_defaultOrder": 1,
    "_isFastLaunch": false,
    "category": "General purpose",
    "gpuNum": 0,
    "hideHardwareSpecs": false,
    "memoryGiB": 8,
    "name": "ml.t3.large",
    "vcpuNum": 2
   },
   {
    "_defaultOrder": 2,
    "_isFastLaunch": false,
    "category": "General purpose",
    "gpuNum": 0,
    "hideHardwareSpecs": false,
    "memoryGiB": 16,
    "name": "ml.t3.xlarge",
    "vcpuNum": 4
   },
   {
    "_defaultOrder": 3,
    "_isFastLaunch": false,
    "category": "General purpose",
    "gpuNum": 0,
    "hideHardwareSpecs": false,
    "memoryGiB": 32,
    "name": "ml.t3.2xlarge",
    "vcpuNum": 8
   },
   {
    "_defaultOrder": 4,
    "_isFastLaunch": true,
    "category": "General purpose",
    "gpuNum": 0,
    "hideHardwareSpecs": false,
    "memoryGiB": 8,
    "name": "ml.m5.large",
    "vcpuNum": 2
   },
   {
    "_defaultOrder": 5,
    "_isFastLaunch": false,
    "category": "General purpose",
    "gpuNum": 0,
    "hideHardwareSpecs": false,
    "memoryGiB": 16,
    "name": "ml.m5.xlarge",
    "vcpuNum": 4
   },
   {
    "_defaultOrder": 6,
    "_isFastLaunch": false,
    "category": "General purpose",
    "gpuNum": 0,
    "hideHardwareSpecs": false,
    "memoryGiB": 32,
    "name": "ml.m5.2xlarge",
    "vcpuNum": 8
   },
   {
    "_defaultOrder": 7,
    "_isFastLaunch": false,
    "category": "General purpose",
    "gpuNum": 0,
    "hideHardwareSpecs": false,
    "memoryGiB": 64,
    "name": "ml.m5.4xlarge",
    "vcpuNum": 16
   },
   {
    "_defaultOrder": 8,
    "_isFastLaunch": false,
    "category": "General purpose",
    "gpuNum": 0,
    "hideHardwareSpecs": false,
    "memoryGiB": 128,
    "name": "ml.m5.8xlarge",
    "vcpuNum": 32
   },
   {
    "_defaultOrder": 9,
    "_isFastLaunch": false,
    "category": "General purpose",
    "gpuNum": 0,
    "hideHardwareSpecs": false,
    "memoryGiB": 192,
    "name": "ml.m5.12xlarge",
    "vcpuNum": 48
   },
   {
    "_defaultOrder": 10,
    "_isFastLaunch": false,
    "category": "General purpose",
    "gpuNum": 0,
    "hideHardwareSpecs": false,
    "memoryGiB": 256,
    "name": "ml.m5.16xlarge",
    "vcpuNum": 64
   },
   {
    "_defaultOrder": 11,
    "_isFastLaunch": false,
    "category": "General purpose",
    "gpuNum": 0,
    "hideHardwareSpecs": false,
    "memoryGiB": 384,
    "name": "ml.m5.24xlarge",
    "vcpuNum": 96
   },
   {
    "_defaultOrder": 12,
    "_isFastLaunch": false,
    "category": "General purpose",
    "gpuNum": 0,
    "hideHardwareSpecs": false,
    "memoryGiB": 8,
    "name": "ml.m5d.large",
    "vcpuNum": 2
   },
   {
    "_defaultOrder": 13,
    "_isFastLaunch": false,
    "category": "General purpose",
    "gpuNum": 0,
    "hideHardwareSpecs": false,
    "memoryGiB": 16,
    "name": "ml.m5d.xlarge",
    "vcpuNum": 4
   },
   {
    "_defaultOrder": 14,
    "_isFastLaunch": false,
    "category": "General purpose",
    "gpuNum": 0,
    "hideHardwareSpecs": false,
    "memoryGiB": 32,
    "name": "ml.m5d.2xlarge",
    "vcpuNum": 8
   },
   {
    "_defaultOrder": 15,
    "_isFastLaunch": false,
    "category": "General purpose",
    "gpuNum": 0,
    "hideHardwareSpecs": false,
    "memoryGiB": 64,
    "name": "ml.m5d.4xlarge",
    "vcpuNum": 16
   },
   {
    "_defaultOrder": 16,
    "_isFastLaunch": false,
    "category": "General purpose",
    "gpuNum": 0,
    "hideHardwareSpecs": false,
    "memoryGiB": 128,
    "name": "ml.m5d.8xlarge",
    "vcpuNum": 32
   },
   {
    "_defaultOrder": 17,
    "_isFastLaunch": false,
    "category": "General purpose",
    "gpuNum": 0,
    "hideHardwareSpecs": false,
    "memoryGiB": 192,
    "name": "ml.m5d.12xlarge",
    "vcpuNum": 48
   },
   {
    "_defaultOrder": 18,
    "_isFastLaunch": false,
    "category": "General purpose",
    "gpuNum": 0,
    "hideHardwareSpecs": false,
    "memoryGiB": 256,
    "name": "ml.m5d.16xlarge",
    "vcpuNum": 64
   },
   {
    "_defaultOrder": 19,
    "_isFastLaunch": false,
    "category": "General purpose",
    "gpuNum": 0,
    "hideHardwareSpecs": false,
    "memoryGiB": 384,
    "name": "ml.m5d.24xlarge",
    "vcpuNum": 96
   },
   {
    "_defaultOrder": 20,
    "_isFastLaunch": false,
    "category": "General purpose",
    "gpuNum": 0,
    "hideHardwareSpecs": true,
    "memoryGiB": 0,
    "name": "ml.geospatial.interactive",
    "supportedImageNames": [
     "sagemaker-geospatial-v1-0"
    ],
    "vcpuNum": 0
   },
   {
    "_defaultOrder": 21,
    "_isFastLaunch": true,
    "category": "Compute optimized",
    "gpuNum": 0,
    "hideHardwareSpecs": false,
    "memoryGiB": 4,
    "name": "ml.c5.large",
    "vcpuNum": 2
   },
   {
    "_defaultOrder": 22,
    "_isFastLaunch": false,
    "category": "Compute optimized",
    "gpuNum": 0,
    "hideHardwareSpecs": false,
    "memoryGiB": 8,
    "name": "ml.c5.xlarge",
    "vcpuNum": 4
   },
   {
    "_defaultOrder": 23,
    "_isFastLaunch": false,
    "category": "Compute optimized",
    "gpuNum": 0,
    "hideHardwareSpecs": false,
    "memoryGiB": 16,
    "name": "ml.c5.2xlarge",
    "vcpuNum": 8
   },
   {
    "_defaultOrder": 24,
    "_isFastLaunch": false,
    "category": "Compute optimized",
    "gpuNum": 0,
    "hideHardwareSpecs": false,
    "memoryGiB": 32,
    "name": "ml.c5.4xlarge",
    "vcpuNum": 16
   },
   {
    "_defaultOrder": 25,
    "_isFastLaunch": false,
    "category": "Compute optimized",
    "gpuNum": 0,
    "hideHardwareSpecs": false,
    "memoryGiB": 72,
    "name": "ml.c5.9xlarge",
    "vcpuNum": 36
   },
   {
    "_defaultOrder": 26,
    "_isFastLaunch": false,
    "category": "Compute optimized",
    "gpuNum": 0,
    "hideHardwareSpecs": false,
    "memoryGiB": 96,
    "name": "ml.c5.12xlarge",
    "vcpuNum": 48
   },
   {
    "_defaultOrder": 27,
    "_isFastLaunch": false,
    "category": "Compute optimized",
    "gpuNum": 0,
    "hideHardwareSpecs": false,
    "memoryGiB": 144,
    "name": "ml.c5.18xlarge",
    "vcpuNum": 72
   },
   {
    "_defaultOrder": 28,
    "_isFastLaunch": false,
    "category": "Compute optimized",
    "gpuNum": 0,
    "hideHardwareSpecs": false,
    "memoryGiB": 192,
    "name": "ml.c5.24xlarge",
    "vcpuNum": 96
   },
   {
    "_defaultOrder": 29,
    "_isFastLaunch": true,
    "category": "Accelerated computing",
    "gpuNum": 1,
    "hideHardwareSpecs": false,
    "memoryGiB": 16,
    "name": "ml.g4dn.xlarge",
    "vcpuNum": 4
   },
   {
    "_defaultOrder": 30,
    "_isFastLaunch": false,
    "category": "Accelerated computing",
    "gpuNum": 1,
    "hideHardwareSpecs": false,
    "memoryGiB": 32,
    "name": "ml.g4dn.2xlarge",
    "vcpuNum": 8
   },
   {
    "_defaultOrder": 31,
    "_isFastLaunch": false,
    "category": "Accelerated computing",
    "gpuNum": 1,
    "hideHardwareSpecs": false,
    "memoryGiB": 64,
    "name": "ml.g4dn.4xlarge",
    "vcpuNum": 16
   },
   {
    "_defaultOrder": 32,
    "_isFastLaunch": false,
    "category": "Accelerated computing",
    "gpuNum": 1,
    "hideHardwareSpecs": false,
    "memoryGiB": 128,
    "name": "ml.g4dn.8xlarge",
    "vcpuNum": 32
   },
   {
    "_defaultOrder": 33,
    "_isFastLaunch": false,
    "category": "Accelerated computing",
    "gpuNum": 4,
    "hideHardwareSpecs": false,
    "memoryGiB": 192,
    "name": "ml.g4dn.12xlarge",
    "vcpuNum": 48
   },
   {
    "_defaultOrder": 34,
    "_isFastLaunch": false,
    "category": "Accelerated computing",
    "gpuNum": 1,
    "hideHardwareSpecs": false,
    "memoryGiB": 256,
    "name": "ml.g4dn.16xlarge",
    "vcpuNum": 64
   },
   {
    "_defaultOrder": 35,
    "_isFastLaunch": false,
    "category": "Accelerated computing",
    "gpuNum": 1,
    "hideHardwareSpecs": false,
    "memoryGiB": 61,
    "name": "ml.p3.2xlarge",
    "vcpuNum": 8
   },
   {
    "_defaultOrder": 36,
    "_isFastLaunch": false,
    "category": "Accelerated computing",
    "gpuNum": 4,
    "hideHardwareSpecs": false,
    "memoryGiB": 244,
    "name": "ml.p3.8xlarge",
    "vcpuNum": 32
   },
   {
    "_defaultOrder": 37,
    "_isFastLaunch": false,
    "category": "Accelerated computing",
    "gpuNum": 8,
    "hideHardwareSpecs": false,
    "memoryGiB": 488,
    "name": "ml.p3.16xlarge",
    "vcpuNum": 64
   },
   {
    "_defaultOrder": 38,
    "_isFastLaunch": false,
    "category": "Accelerated computing",
    "gpuNum": 8,
    "hideHardwareSpecs": false,
    "memoryGiB": 768,
    "name": "ml.p3dn.24xlarge",
    "vcpuNum": 96
   },
   {
    "_defaultOrder": 39,
    "_isFastLaunch": false,
    "category": "Memory Optimized",
    "gpuNum": 0,
    "hideHardwareSpecs": false,
    "memoryGiB": 16,
    "name": "ml.r5.large",
    "vcpuNum": 2
   },
   {
    "_defaultOrder": 40,
    "_isFastLaunch": false,
    "category": "Memory Optimized",
    "gpuNum": 0,
    "hideHardwareSpecs": false,
    "memoryGiB": 32,
    "name": "ml.r5.xlarge",
    "vcpuNum": 4
   },
   {
    "_defaultOrder": 41,
    "_isFastLaunch": false,
    "category": "Memory Optimized",
    "gpuNum": 0,
    "hideHardwareSpecs": false,
    "memoryGiB": 64,
    "name": "ml.r5.2xlarge",
    "vcpuNum": 8
   },
   {
    "_defaultOrder": 42,
    "_isFastLaunch": false,
    "category": "Memory Optimized",
    "gpuNum": 0,
    "hideHardwareSpecs": false,
    "memoryGiB": 128,
    "name": "ml.r5.4xlarge",
    "vcpuNum": 16
   },
   {
    "_defaultOrder": 43,
    "_isFastLaunch": false,
    "category": "Memory Optimized",
    "gpuNum": 0,
    "hideHardwareSpecs": false,
    "memoryGiB": 256,
    "name": "ml.r5.8xlarge",
    "vcpuNum": 32
   },
   {
    "_defaultOrder": 44,
    "_isFastLaunch": false,
    "category": "Memory Optimized",
    "gpuNum": 0,
    "hideHardwareSpecs": false,
    "memoryGiB": 384,
    "name": "ml.r5.12xlarge",
    "vcpuNum": 48
   },
   {
    "_defaultOrder": 45,
    "_isFastLaunch": false,
    "category": "Memory Optimized",
    "gpuNum": 0,
    "hideHardwareSpecs": false,
    "memoryGiB": 512,
    "name": "ml.r5.16xlarge",
    "vcpuNum": 64
   },
   {
    "_defaultOrder": 46,
    "_isFastLaunch": false,
    "category": "Memory Optimized",
    "gpuNum": 0,
    "hideHardwareSpecs": false,
    "memoryGiB": 768,
    "name": "ml.r5.24xlarge",
    "vcpuNum": 96
   },
   {
    "_defaultOrder": 47,
    "_isFastLaunch": false,
    "category": "Accelerated computing",
    "gpuNum": 1,
    "hideHardwareSpecs": false,
    "memoryGiB": 16,
    "name": "ml.g5.xlarge",
    "vcpuNum": 4
   },
   {
    "_defaultOrder": 48,
    "_isFastLaunch": false,
    "category": "Accelerated computing",
    "gpuNum": 1,
    "hideHardwareSpecs": false,
    "memoryGiB": 32,
    "name": "ml.g5.2xlarge",
    "vcpuNum": 8
   },
   {
    "_defaultOrder": 49,
    "_isFastLaunch": false,
    "category": "Accelerated computing",
    "gpuNum": 1,
    "hideHardwareSpecs": false,
    "memoryGiB": 64,
    "name": "ml.g5.4xlarge",
    "vcpuNum": 16
   },
   {
    "_defaultOrder": 50,
    "_isFastLaunch": false,
    "category": "Accelerated computing",
    "gpuNum": 1,
    "hideHardwareSpecs": false,
    "memoryGiB": 128,
    "name": "ml.g5.8xlarge",
    "vcpuNum": 32
   },
   {
    "_defaultOrder": 51,
    "_isFastLaunch": false,
    "category": "Accelerated computing",
    "gpuNum": 1,
    "hideHardwareSpecs": false,
    "memoryGiB": 256,
    "name": "ml.g5.16xlarge",
    "vcpuNum": 64
   },
   {
    "_defaultOrder": 52,
    "_isFastLaunch": false,
    "category": "Accelerated computing",
    "gpuNum": 4,
    "hideHardwareSpecs": false,
    "memoryGiB": 192,
    "name": "ml.g5.12xlarge",
    "vcpuNum": 48
   },
   {
    "_defaultOrder": 53,
    "_isFastLaunch": false,
    "category": "Accelerated computing",
    "gpuNum": 4,
    "hideHardwareSpecs": false,
    "memoryGiB": 384,
    "name": "ml.g5.24xlarge",
    "vcpuNum": 96
   },
   {
    "_defaultOrder": 54,
    "_isFastLaunch": false,
    "category": "Accelerated computing",
    "gpuNum": 8,
    "hideHardwareSpecs": false,
    "memoryGiB": 768,
    "name": "ml.g5.48xlarge",
    "vcpuNum": 192
   }
  ],
  "instance_type": "ml.t3.xlarge",
  "kernelspec": {
   "display_name": "Python 3 (Data Science 3.0)",
   "language": "python",
   "name": "python3__SAGEMAKER_INTERNAL__arn:aws:sagemaker:us-east-1:081325390199:image/sagemaker-data-science-310-v1"
  },
  "language_info": {
   "codemirror_mode": {
    "name": "ipython",
    "version": 3
   },
   "file_extension": ".py",
   "mimetype": "text/x-python",
   "name": "python",
   "nbconvert_exporter": "python",
   "pygments_lexer": "ipython3",
   "version": "3.10.6"
  }
 },
 "nbformat": 4,
 "nbformat_minor": 5
}
