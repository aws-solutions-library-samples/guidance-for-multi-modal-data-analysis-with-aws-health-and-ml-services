{
 "cells": [
  {
   "cell_type": "markdown",
   "id": "0f3cb2a3-3c2a-4280-a2ee-94995f5741a9",
   "metadata": {},
   "source": [
    "# Creating a single record for each patient across clinical, genomic, and imaging datasets"
   ]
  },
  {
   "cell_type": "code",
   "execution_count": 15,
   "id": "47088009",
   "metadata": {
    "tags": []
   },
   "outputs": [],
   "source": [
    "import pandas\n",
    "import boto3\n",
    "import time"
   ]
  },
  {
   "cell_type": "code",
   "execution_count": 16,
   "id": "7e12dd45",
   "metadata": {
    "tags": []
   },
   "outputs": [],
   "source": [
    "from sagemaker import get_execution_role"
   ]
  },
  {
   "cell_type": "code",
   "execution_count": 17,
   "id": "ddc2883c",
   "metadata": {
    "tags": []
   },
   "outputs": [],
   "source": [
    "#Initializing the bucket where data will be stored\n",
    "# Using the in built Amazon SageMaker execution role\n",
    "\n",
    "role = get_execution_role()\n",
    "bucket='multimodal-dataset-clinical-genomic-imaging'\n",
    "data_key = 'single-patient-records'\n",
    "data_location = 's3://{}/{}'.format(bucket, data_key)"
   ]
  },
  {
   "cell_type": "code",
   "execution_count": 18,
   "id": "4074eb2b-3531-4747-9a9c-b8662254976b",
   "metadata": {
    "tags": []
   },
   "outputs": [
    {
     "name": "stdout",
     "output_type": "stream",
     "text": [
      "Requirement already satisfied: pyathena in /opt/conda/lib/python3.7/site-packages (2.25.2)\n",
      "Requirement already satisfied: boto3>=1.26.4 in /opt/conda/lib/python3.7/site-packages (from pyathena) (1.26.154)\n",
      "Requirement already satisfied: botocore>=1.29.4 in /opt/conda/lib/python3.7/site-packages (from pyathena) (1.29.154)\n",
      "Requirement already satisfied: fsspec in /opt/conda/lib/python3.7/site-packages (from pyathena) (2023.1.0)\n",
      "Requirement already satisfied: tenacity>=4.1.0 in /opt/conda/lib/python3.7/site-packages (from pyathena) (8.2.2)\n",
      "Requirement already satisfied: jmespath<2.0.0,>=0.7.1 in /opt/conda/lib/python3.7/site-packages (from boto3>=1.26.4->pyathena) (1.0.1)\n",
      "Requirement already satisfied: s3transfer<0.7.0,>=0.6.0 in /opt/conda/lib/python3.7/site-packages (from boto3>=1.26.4->pyathena) (0.6.1)\n",
      "Requirement already satisfied: python-dateutil<3.0.0,>=2.1 in /opt/conda/lib/python3.7/site-packages (from botocore>=1.29.4->pyathena) (2.8.2)\n",
      "Requirement already satisfied: urllib3<1.27,>=1.25.4 in /opt/conda/lib/python3.7/site-packages (from botocore>=1.29.4->pyathena) (1.26.16)\n",
      "Requirement already satisfied: six>=1.5 in /opt/conda/lib/python3.7/site-packages (from python-dateutil<3.0.0,>=2.1->botocore>=1.29.4->pyathena) (1.14.0)\n",
      "\u001b[33mWARNING: Running pip as the 'root' user can result in broken permissions and conflicting behaviour with the system package manager. It is recommended to use a virtual environment instead: https://pip.pypa.io/warnings/venv\u001b[0m\u001b[33m\n",
      "\u001b[0m\n",
      "\u001b[1m[\u001b[0m\u001b[34;49mnotice\u001b[0m\u001b[1;39;49m]\u001b[0m\u001b[39;49m A new release of pip is available: \u001b[0m\u001b[31;49m23.1.2\u001b[0m\u001b[39;49m -> \u001b[0m\u001b[32;49m23.2.1\u001b[0m\n",
      "\u001b[1m[\u001b[0m\u001b[34;49mnotice\u001b[0m\u001b[1;39;49m]\u001b[0m\u001b[39;49m To update, run: \u001b[0m\u001b[32;49mpip install --upgrade pip\u001b[0m\n"
     ]
    }
   ],
   "source": [
    "# Installing pyathena to connect to athena to run queries on the notebook\n",
    "!pip install pyathena"
   ]
  },
  {
   "cell_type": "code",
   "execution_count": 19,
   "id": "18e503d7-c257-4c32-aefd-514a4b334d89",
   "metadata": {
    "tags": []
   },
   "outputs": [],
   "source": [
    "from pyathena import connect\n",
    "conn = connect(s3_staging_dir=data_location,\n",
    "               region_name='us-east-1')"
   ]
  },
  {
   "cell_type": "markdown",
   "id": "78ca489e-ebf2-4e94-9a4d-581f02b5acdf",
   "metadata": {
    "tags": []
   },
   "source": [
    "## Clinical single patient records\n",
    "- Segregating the queries across tables to eliminate long query processing times\n",
    "- Grouping on patient ID and extracting unique values for each patient across every column using a set\n",
    "- Storing the grouped data to S3 as a CSV file\n",
    "- Combining the data across all tables to a single CSV file and storing it in S3"
   ]
  },
  {
   "cell_type": "code",
   "execution_count": 55,
   "id": "ddc4567b-de88-4e9f-b910-a89310621465",
   "metadata": {},
   "outputs": [
    {
     "name": "stdout",
     "output_type": "stream",
     "text": [
      "Complete\n"
     ]
    }
   ],
   "source": [
    "# Querying 4 tables patient, condition, immunization, and imagingstudy and storing it back on S3 as a CSV file\n",
    "\n",
    "four_tables = pandas.read_sql(\"\"\"SELECT patient.id as patientID\n",
    "    , CONCAT(name[1].family, ' ', name[1].given[1]) as name\n",
    "    , gender as gender\n",
    "    , json_extract(patient.extension[1], '$.valueString') as MothersMaidenName\n",
    "    , json_extract(patient.extension[2], '$.valueAddress.city') as birthPlace\n",
    "    , maritalstatus.coding[1].display as maritalstatus\n",
    "    , address[1].line[1] as addressline\n",
    "    , address[1].city as city\n",
    "    , address[1].district as district\n",
    "    , address[1].state as state\n",
    "    , address[1].postalcode as postalcode\n",
    "    , address[1].country as country\n",
    "    , json_extract(address[1].extension[1], '$.extension[0].valueDecimal') as latitude\n",
    "    , json_extract(address[1].extension[1], '$.extension[1].valueDecimal') as longitude\n",
    "    , telecom[1].value as telNumber\n",
    "    , deceasedboolean as deceasedIndicator\n",
    "    , deceaseddatetime\n",
    "    , condition.id  as conditionId\n",
    "    , condition.meta.tag[1].display\n",
    "    , condition.encounter.reference as encounterId\n",
    "    , condition.encounter.type as encountertype\n",
    "    , json_extract(condition.modifierextension[1], '$.valueDecimal') AS confidenceScore\n",
    "    , condition.category[1].coding[1].code as categoryCode\n",
    "    , condition.category[1].coding[1].display as categoryDescription\n",
    "    , condition.code.coding[1].code as diagnosisCode\n",
    "    , condition.code.coding[1].display as diagnosisDescription\n",
    "    , condition.onsetdatetime\n",
    "    , severity.coding[1].code as severityCode\n",
    "    , severity.coding[1].display as severityDescription\n",
    "    , verificationstatus.coding[1].display as verificationStatus\n",
    "    , clinicalstatus.coding[1].display as clinicalStatus\n",
    "    , vaccinecode.text as vaccinations\n",
    "    , series[1].modality.code as imageCode\n",
    "    , series[1].modality.display as imagingName\n",
    "    , series[1].bodySite.display as imageBodyPart\n",
    "    , series[1].instance[1].title as imageTitle\n",
    "FROM multimodalhclsdata_6e861ee724a35c9ab6b1ac0652c480b6_healthlake_view.patient FULL JOIN\n",
    "     multimodalhclsdata_6e861ee724a35c9ab6b1ac0652c480b6_healthlake_view.condition\n",
    "     ON patient.id = condition.subject.reference FULL JOIN\n",
    "     multimodalhclsdata_6e861ee724a35c9ab6b1ac0652c480b6_healthlake_view.immunization\n",
    "     ON patient.id = immunization.patient.reference FULL JOIN\n",
    "     multimodalhclsdata_6e861ee724a35c9ab6b1ac0652c480b6_healthlake_view.imagingstudy\n",
    "     ON patient.id = imagingstudy.subject.reference\n",
    "ORDER BY name;\"\"\", conn)\n",
    "\n",
    "    \n",
    "four_tables.to_csv('s3://multimodal-dataset-clinical-genomic-imaging/four_tables.csv', index=False)\n",
    "print(\"Complete\")"
   ]
  },
  {
   "cell_type": "code",
   "execution_count": 13,
   "id": "20725815-023a-4155-9e59-eceafa9cc5a5",
   "metadata": {
    "tags": []
   },
   "outputs": [
    {
     "name": "stdout",
     "output_type": "stream",
     "text": [
      "Complete\n"
     ]
    }
   ],
   "source": [
    "# Aggregating data to include 1 record for every patient\n",
    "# Creating a separate dataframe and storing it on S3 as a csv file\n",
    "four_tables = pandas.read_csv(\"s3://multimodal-dataset-clinical-genomic-imaging/four_tables.csv\", encoding='utf-8', dtype='str', keep_default_na=False, na_values=[''])\n",
    "grouped_four_tables = four_tables.groupby(['patientID', 'name', 'gender', 'maritalstatus', 'addressline',\n",
    "       'city', 'state', 'postalcode', 'country', 'latitude', 'longitude']).agg({'diagnosisDescription':set,\n",
    "                                                                                'diagnosisCode':set,\n",
    "                                                                                'onsetdatetime':set,\n",
    "                                                                                'deceasedIndicator': set,\n",
    "                                                                                'deceaseddatetime': set,\n",
    "                                                                                'conditionId':set, \n",
    "                                                                                'categoryCode': set,\n",
    "                                                                               'categoryDescription': set,\n",
    "                                                                                'vaccinations':set, \n",
    "                                                                                'imageCode':set,\n",
    "                                                                                'imagingName':set,\n",
    "                                                                                'imageBodyPart':set,\n",
    "                                                                                'imageTitle':set\n",
    "                                                                               }).reset_index()\n",
    "grouped_four_tables = grouped_four_tables.astype(str).replace({\"{\":\"\", \"}\":\"\"}, regex=True)\n",
    "grouped_four_tables.to_csv('s3://multimodal-dataset-clinical-genomic-imaging/grouped_four_tables.csv', index=False)\n",
    "print(\"Complete\")"
   ]
  },
  {
   "cell_type": "code",
   "execution_count": 7,
   "id": "a27bda30-0356-48f2-ac99-ce235c20232b",
   "metadata": {
    "tags": []
   },
   "outputs": [
    {
     "name": "stdout",
     "output_type": "stream",
     "text": [
      "Complete\n"
     ]
    }
   ],
   "source": [
    "# Creating a dataframe with the diagnosticreport table\n",
    "diagnostic_report = pandas.read_sql(\"\"\"SELECT  diagnosticreport.subject.reference as patientID, diagnosticreport.code.coding[1].display as diagnosticType\n",
    "    , diagnosticreport.category[1].coding[1].display as diagnosticCategory\n",
    "    , diagnosticreport.result[1].display as diagnosticResult\n",
    "    FROM multimodalhclsdata_6e861ee724a35c9ab6b1ac0652c480b6_healthlake_view.diagnosticreport\"\"\", conn)\n",
    "diagnostic_report.to_csv('s3://multimodal-dataset-clinical-genomic-imaging/diagnostic_report.csv', index=False)\n",
    "print(\"Complete\")"
   ]
  },
  {
   "cell_type": "code",
   "execution_count": 15,
   "id": "f54ace1d-49e1-456a-976c-9efbc85382de",
   "metadata": {
    "tags": []
   },
   "outputs": [
    {
     "name": "stdout",
     "output_type": "stream",
     "text": [
      "Complete\n"
     ]
    }
   ],
   "source": [
    "# diagnosticreport - Grouping the data based to a single record for each patient\n",
    "grouped_diagnostic_report = diagnostic_report.groupby(['patientID']).agg({'diagnosticType':set,\n",
    "                                                                                'diagnosticCategory':set,\n",
    "                                                                                'diagnosticResult':set\n",
    "                                                                               }).reset_index()\n",
    "grouped_diagnostic_report = grouped_diagnostic_report.astype(str).replace({\"{\":\"\", \"}\":\"\"}, regex=True)\n",
    "grouped_diagnostic_report.to_csv('s3://multimodal-dataset-clinical-genomic-imaging/grouped_diagnostic_report.csv', index=False)\n",
    "print(\"Complete\")"
   ]
  },
  {
   "cell_type": "code",
   "execution_count": 16,
   "id": "e1ce2e77-0e39-4ea7-ad2b-aa9254b0dba1",
   "metadata": {
    "tags": []
   },
   "outputs": [
    {
     "name": "stdout",
     "output_type": "stream",
     "text": [
      "Complete\n"
     ]
    }
   ],
   "source": [
    "#encounter- Creating a dataframe with the encounter table\n",
    "encounter = pandas.read_sql(\"\"\"SELECT encounter.subject.reference as patientID, encounter.class.code as encounterCode\n",
    "    , encounter.reasoncode[1].coding[1].display as encounterReason\n",
    "    , encounter.diagnosis as encounterDiagnosis\n",
    "    , encounter.status as hospitalizationStatus\n",
    "    FROM multimodalhclsdata_6e861ee724a35c9ab6b1ac0652c480b6_healthlake_view.encounter\"\"\", conn)\n",
    "encounter.to_csv('s3://multimodal-dataset-clinical-genomic-imaging/encounter.csv', index=False)\n",
    "print(\"Complete\")"
   ]
  },
  {
   "cell_type": "code",
   "execution_count": 17,
   "id": "5abf4213-ffd4-4395-87dd-af7b5a9ea0d7",
   "metadata": {
    "tags": []
   },
   "outputs": [
    {
     "name": "stdout",
     "output_type": "stream",
     "text": [
      "Complete\n"
     ]
    }
   ],
   "source": [
    "# encounter - Grouping the data based to a single record for each patient\n",
    "grouped_encounter = encounter.groupby(['patientID']).agg({'encounterCode':set,\n",
    "                                                                    'encounterReason':set,\n",
    "                                                                    'encounterDiagnosis':set,\n",
    "                                                                    'hospitalizationStatus': set,\n",
    "                                                                   }).reset_index()\n",
    "grouped_encounter = grouped_encounter.astype(str).replace({\"{\":\"\", \"}\":\"\"}, regex=True)\n",
    "grouped_encounter.to_csv('s3://multimodal-dataset-clinical-genomic-imaging/grouped_encounter.csv', index=False)\n",
    "print(\"Complete\")"
   ]
  },
  {
   "cell_type": "code",
   "execution_count": 18,
   "id": "142e3e8e-19c6-438a-8469-ab488270d1fc",
   "metadata": {
    "tags": []
   },
   "outputs": [
    {
     "name": "stdout",
     "output_type": "stream",
     "text": [
      "Complete\n"
     ]
    }
   ],
   "source": [
    "# Creating a dataframe with the medicationadministration, and medicationrequest tables\n",
    "medication = pandas.read_sql(\"\"\"SELECT medicationrequest.subject.reference as patientID\n",
    "    , medicationadministration.medicationcodeableconcept.coding[1].display as medicationDisplay\n",
    "    , medicationadministration.effectivedatetime as medicationDate\n",
    "    , medicationrequest.status as medicationStatus\n",
    "    FROM multimodalhclsdata_6e861ee724a35c9ab6b1ac0652c480b6_healthlake_view.medicationadministration FULL JOIN\n",
    "    multimodalhclsdata_6e861ee724a35c9ab6b1ac0652c480b6_healthlake_view.medicationrequest\n",
    "    ON medicationadministration.subject.reference = medicationrequest.subject.reference\"\"\", conn)\n",
    "medication.to_csv('s3://multimodal-dataset-clinical-genomic-imaging/medication.csv', index=False)\n",
    "print(\"Complete\")"
   ]
  },
  {
   "cell_type": "code",
   "execution_count": 19,
   "id": "7e48cc0d-a8ff-4705-bef3-8b92c6b89640",
   "metadata": {
    "tags": []
   },
   "outputs": [
    {
     "name": "stdout",
     "output_type": "stream",
     "text": [
      "Complete\n"
     ]
    }
   ],
   "source": [
    "# medicationadministration, and medicationrequest tables - Grouping the data based to a single record for each patient\n",
    "grouped_medication = medication.groupby(['patientID']).agg({'medicationDisplay':set,\n",
    "                                                                    'medicationDate':set,\n",
    "                                                                    'medicationStatus': set\n",
    "                                                                   }).reset_index()\n",
    "grouped_medication = grouped_medication.astype(str).replace({\"{\":\"\", \"}\":\"\"}, regex=True)\n",
    "grouped_medication.to_csv('s3://multimodal-dataset-clinical-genomic-imaging/grouped_medication.csv', index=False)\n",
    "print(\"Complete\")"
   ]
  },
  {
   "cell_type": "code",
   "execution_count": 20,
   "id": "0cb63d3b-39c0-454f-ac11-dd634a5e5478",
   "metadata": {
    "tags": []
   },
   "outputs": [
    {
     "name": "stdout",
     "output_type": "stream",
     "text": [
      "Complete\n"
     ]
    }
   ],
   "source": [
    "# claims - Creating a dataframe with the claim table\n",
    "claims = pandas.read_sql(\"\"\"SELECT claim.patient.reference as patientID, claim.use as claim\n",
    "    FROM multimodalhclsdata_6e861ee724a35c9ab6b1ac0652c480b6_healthlake_view.claim\"\"\", conn)\n",
    "claims.to_csv('s3://multimodal-dataset-clinical-genomic-imaging/claims.csv', index=False)\n",
    "print(\"Complete\")"
   ]
  },
  {
   "cell_type": "code",
   "execution_count": 21,
   "id": "864e3fd3-2473-476d-abea-e6cc565f75c6",
   "metadata": {
    "tags": []
   },
   "outputs": [
    {
     "name": "stdout",
     "output_type": "stream",
     "text": [
      "Complete\n"
     ]
    }
   ],
   "source": [
    "# claims - Grouping the data based to a single record for each patient\n",
    "grouped_claims = claims.groupby(['patientID']).agg({'claim':set}).reset_index()\n",
    "grouped_claims = grouped_claims.astype(str).replace({\"{\":\"\", \"}\":\"\"}, regex=True)\n",
    "grouped_claims.to_csv('s3://multimodal-dataset-clinical-genomic-imaging/grouped_claims.csv', index=False)\n",
    "print(\"Complete\")"
   ]
  },
  {
   "cell_type": "code",
   "execution_count": 22,
   "id": "4bee275d-de2e-4bf1-ac17-e3ffc9ffddbb",
   "metadata": {
    "tags": []
   },
   "outputs": [
    {
     "name": "stdout",
     "output_type": "stream",
     "text": [
      "Complete\n"
     ]
    }
   ],
   "source": [
    "# observation - Creating a dataframe with the observation table\n",
    "observation = pandas.read_sql(\"\"\"SELECT observation.subject.reference as patientID\n",
    "    , observation.code.text as observationType \n",
    "    , observation.valuecodeableconcept.text as observationText\n",
    "    , observation.component[1].code.coding[1].display as observationDisplay\n",
    "    FROM multimodalhclsdata_6e861ee724a35c9ab6b1ac0652c480b6_healthlake_view.observation\"\"\", conn)\n",
    "observation.to_csv('s3://multimodal-dataset-clinical-genomic-imaging/observation.csv', index=False)\n",
    "print(\"Complete\")"
   ]
  },
  {
   "cell_type": "code",
   "execution_count": 23,
   "id": "d024efa8-6556-45f5-ac02-6c9aa6a745b5",
   "metadata": {
    "tags": []
   },
   "outputs": [
    {
     "name": "stdout",
     "output_type": "stream",
     "text": [
      "Complete\n"
     ]
    }
   ],
   "source": [
    "# observation - Grouping the data based to a single record for each patient\n",
    "grouped_observation = observation.groupby(['patientID']).agg({'observationType':set,\n",
    "                                                                    'observationText':set,\n",
    "                                                                    'observationDisplay': set\n",
    "                                                                   }).reset_index()\n",
    "grouped_observation = grouped_observation.astype(str).replace({\"{\":\"\", \"}\":\"\"}, regex=True)\n",
    "grouped_observation.to_csv('s3://multimodal-dataset-clinical-genomic-imaging/grouped_observation.csv', index=False)\n",
    "print(\"Complete\")"
   ]
  },
  {
   "cell_type": "code",
   "execution_count": 24,
   "id": "8fdf59c1-a9c2-4ab2-b63c-80fa1be134c9",
   "metadata": {
    "tags": []
   },
   "outputs": [
    {
     "name": "stdout",
     "output_type": "stream",
     "text": [
      "Complete\n"
     ]
    }
   ],
   "source": [
    "# Procedure - Creating a dataframe with the procedure table\n",
    "procedure = pandas.read_sql(\"\"\"SELECT procedure.subject.reference as patientID\n",
    "    , procedure.code.text as procedureType\n",
    "    FROM multimodalhclsdata_6e861ee724a35c9ab6b1ac0652c480b6_healthlake_view.procedure\"\"\", conn)\n",
    "procedure.to_csv('s3://multimodal-dataset-clinical-genomic-imaging/procedure.csv', index=False)\n",
    "print(\"Complete\")"
   ]
  },
  {
   "cell_type": "code",
   "execution_count": 25,
   "id": "3a303cff-de9e-4f2f-9d19-59b1b3dd989a",
   "metadata": {
    "tags": []
   },
   "outputs": [
    {
     "name": "stdout",
     "output_type": "stream",
     "text": [
      "Complete\n"
     ]
    }
   ],
   "source": [
    "# Procedure Table - Grouping the data based to a single record for each patient\n",
    "grouped_procedure = procedure.groupby(['patientID']).agg({'procedureType':set}).reset_index()\n",
    "grouped_procedure = grouped_procedure.astype(str).replace({\"{\":\"\", \"}\":\"\"}, regex=True)\n",
    "grouped_procedure.to_csv('s3://multimodal-dataset-clinical-genomic-imaging/grouped_procedure.csv', index=False)\n",
    "print(\"Complete\")"
   ]
  },
  {
   "cell_type": "code",
   "execution_count": 26,
   "id": "4ac61707-145b-440a-bf71-1b13c81ecffd",
   "metadata": {
    "tags": []
   },
   "outputs": [],
   "source": [
    "# Reading all grouped tables\n",
    "grouped_four_tables = pandas.read_csv(\"s3://multimodal-dataset-clinical-genomic-imaging/grouped_four_tables.csv\", encoding='utf-8', dtype='str', keep_default_na=False, na_values=[''])\n",
    "grouped_diagnostic_report = pandas.read_csv(\"s3://multimodal-dataset-clinical-genomic-imaging/grouped_diagnostic_report.csv\", encoding='utf-8', dtype='str', keep_default_na=False, na_values=[''])\n",
    "grouped_encounter = pandas.read_csv(\"s3://multimodal-dataset-clinical-genomic-imaging/grouped_encounter.csv\", encoding='utf-8', dtype='str', keep_default_na=False, na_values=[''])\n",
    "grouped_medication = pandas.read_csv(\"s3://multimodal-dataset-clinical-genomic-imaging/grouped_medication.csv\", encoding='utf-8', dtype='str', keep_default_na=False, na_values=[''])\n",
    "grouped_claims = pandas.read_csv(\"s3://multimodal-dataset-clinical-genomic-imaging/grouped_claims.csv\", encoding='utf-8', dtype='str', keep_default_na=False, na_values=[''])\n",
    "grouped_observation = pandas.read_csv(\"s3://multimodal-dataset-clinical-genomic-imaging/grouped_observation.csv\", encoding='utf-8', dtype='str', keep_default_na=False, na_values=[''])\n",
    "grouped_procedure = pandas.read_csv(\"s3://multimodal-dataset-clinical-genomic-imaging/grouped_procedure.csv\", encoding='utf-8', dtype='str', keep_default_na=False, na_values=[''])"
   ]
  },
  {
   "cell_type": "code",
   "execution_count": 32,
   "id": "0a434df9-1d0f-4ffe-af47-e3e05491b2a7",
   "metadata": {
    "tags": []
   },
   "outputs": [
    {
     "name": "stdout",
     "output_type": "stream",
     "text": [
      "Totat number of patients with clinical records =  1245\n",
      "                              patientID  \\\n",
      "0  0074596f-5fd0-7965-db0f-cce71c81567d   \n",
      "1  008d8e1d-c53f-47ac-fc06-aeb02ea5e3ec   \n",
      "2  0122b006-83c5-b1fa-cb1d-a75934d9aef1   \n",
      "3  013695bb-e8dd-a6cc-3bdf-14a1b4e107fb   \n",
      "4  0159e45d-0e1c-4108-6cf5-0107b8825389   \n",
      "\n",
      "                                      diagnosticType  \\\n",
      "0  'History and physical note', 'Comprehensive me...   \n",
      "1  'History and physical note', 'Comprehensive me...   \n",
      "2  'History and physical note', 'Lipid Panel', 'C...   \n",
      "3  'History and physical note', 'Comprehensive me...   \n",
      "4  'History and physical note', 'Genetic analysis...   \n",
      "\n",
      "                          diagnosticCategory  \\\n",
      "0  'Laboratory', 'History and physical note'   \n",
      "1  'Laboratory', 'History and physical note'   \n",
      "2  'Laboratory', 'History and physical note'   \n",
      "3  'Laboratory', 'History and physical note'   \n",
      "4  'Laboratory', 'History and physical note'   \n",
      "\n",
      "                                    diagnosticResult                  name  \\\n",
      "0  'Leukocytes [#/volume] in Blood by Automated c...                   NaN   \n",
      "1  'Glucose [Mass/volume] in Serum or Plasma', No...  Fadel536 Randolph418   \n",
      "2  'Leukocytes [#/volume] in Blood by Automated c...                   NaN   \n",
      "3  'Leukocytes [#/volume] in Blood by Automated c...                   NaN   \n",
      "4  'Leukocytes [#/volume] in Blood by Automated c...                   NaN   \n",
      "\n",
      "  gender maritalstatus                  addressline    city state  ...  \\\n",
      "0    NaN           NaN                          NaN     NaN   NaN  ...   \n",
      "1   male             M  140 Prosacco Ranch Suite 93  Agawam    MA  ...   \n",
      "2    NaN           NaN                          NaN     NaN   NaN  ...   \n",
      "3    NaN           NaN                          NaN     NaN   NaN  ...   \n",
      "4    NaN           NaN                          NaN     NaN   NaN  ...   \n",
      "\n",
      "  encounterDiagnosis hospitalizationStatus  \\\n",
      "0               None            'finished'   \n",
      "1               None            'finished'   \n",
      "2               None            'finished'   \n",
      "3               None            'finished'   \n",
      "4               None            'finished'   \n",
      "\n",
      "                                   medicationDisplay  \\\n",
      "0  'Calcium Carbonate 1250 MG / Cholecalciferol 1...   \n",
      "1              '10 ML Furosemide 10 MG/ML Injection'   \n",
      "2  'Calcium Carbonate 1250 MG / Cholecalciferol 1...   \n",
      "3              '10 ML Furosemide 10 MG/ML Injection'   \n",
      "4                                               None   \n",
      "\n",
      "                medicationDate     medicationStatus    claim  \\\n",
      "0  '1998-10-01T01:38:50-04:00'  'stopped', 'active'  'claim'   \n",
      "1  '1998-10-18T22:11:40-04:00'  'stopped', 'active'  'claim'   \n",
      "2  '2000-10-06T14:41:58-04:00'  'stopped', 'active'  'claim'   \n",
      "3  '2004-01-19T22:12:42-05:00'  'stopped', 'active'  'claim'   \n",
      "4                         None  'stopped', 'active'  'claim'   \n",
      "\n",
      "                                     observationType  \\\n",
      "0  \"The ZPR1 gene exhibits a variation of 'Uncert...   \n",
      "1  'Bilirubin.total [Mass/volume] in Serum or Pla...   \n",
      "2  'Body Mass Index', 'Total Cholesterol', 'Cause...   \n",
      "3  'Bilirubin.total [Mass/volume] in Serum or Pla...   \n",
      "4  \"The CDKN2B, CDKN2B-AS1 gene exhibits a variat...   \n",
      "\n",
      "                                     observationText  \\\n",
      "0                  None, 'Never smoker', 'Pneumonia'   \n",
      "1  None, 'Never smoker', 'Edema (finding)', 'Rale...   \n",
      "2  None, 'Prostate enlarged on PR', 'Surgical bio...   \n",
      "3  None, 'Edema (finding)', 'Prostate enlarged on...   \n",
      "4                     None, 'Never smoker', 'Stroke'   \n",
      "\n",
      "                 observationDisplay  \\\n",
      "0  None, 'Diastolic Blood Pressure'   \n",
      "1  None, 'Diastolic Blood Pressure'   \n",
      "2  None, 'Diastolic Blood Pressure'   \n",
      "3  None, 'Diastolic Blood Pressure'   \n",
      "4  None, 'Diastolic Blood Pressure'   \n",
      "\n",
      "                                       procedureType  \n",
      "0  'Measurement of respiratory function (procedur...  \n",
      "1  'Echocardiography (procedure)', 'Bone density ...  \n",
      "2  'Measurement of respiratory function (procedur...  \n",
      "3  'Echocardiography (procedure)', 'Bone density ...  \n",
      "4  'Measurement of respiratory function (procedur...  \n",
      "\n",
      "[5 rows x 39 columns]\n"
     ]
    }
   ],
   "source": [
    "grouped_all_clinical = grouped_diagnostic_report.merge(grouped_four_tables, how='left').merge(grouped_encounter).merge(grouped_medication).merge(grouped_claims).merge(grouped_observation).merge(grouped_procedure)\n",
    "print(\"Totat number of patients with clinical records = \", len(grouped_all_clinical))\n",
    "print(grouped_all_clinical.head(5))\n",
    "grouped_all_clinical.to_csv('s3://multimodal-dataset-clinical-genomic-imaging/grouped_all_clinical.csv', index=False)"
   ]
  },
  {
   "cell_type": "markdown",
   "id": "840b6fd7-bf52-4929-a0ff-5717b25cc204",
   "metadata": {},
   "source": [
    "## Genomic single patient records"
   ]
  },
  {
   "cell_type": "code",
   "execution_count": null,
   "id": "1ff8778d-3068-4fc3-b1e2-eb6232056738",
   "metadata": {
    "tags": []
   },
   "outputs": [
    {
     "name": "stdout",
     "output_type": "stream",
     "text": [
      "Complete\n"
     ]
    }
   ],
   "source": [
    "# querying genomic data from Athena \n",
    "\n",
    "genomic_df = pandas.read_sql(\"\"\"with    var as (select  sampleid,\n",
    "                        contigname,\n",
    "                        start,\n",
    "                        referenceallele,\n",
    "                        alternatealleles,\n",
    "                        phased,\n",
    "                        calls\n",
    "                from \"omicsdb\".\"synthea_newvariants_20230503t222941\"),\n",
    "                ann as (select  contigname,\n",
    "                                start,\n",
    "                                referenceallele,\n",
    "                                alternatealleles,\n",
    "                                attributes['GENEINFO'] as gene_info,\n",
    "                                attributes['CLNSIG'] as clinical_significance,\n",
    "                                phased,\n",
    "                                calls\n",
    "                        from \"omicsdb\".\"synthea_annotations_20230503t222941\"\n",
    "                        where attributes['CLNDN'] is not null)\n",
    "                SELECT  var.sampleid,\n",
    "                        ann.gene_info,\n",
    "                        ann.clinical_significance,\n",
    "                        var.contigname,\n",
    "                        var.start,\n",
    "                        var.referenceallele,\n",
    "                        var.alternatealleles,\n",
    "                        var.phased,\n",
    "                        var.calls\n",
    "                FROM var inner join ann\n",
    "                        -- genomic coordinates:\n",
    "                        on var.contigname = ann.contigname\n",
    "                        and var.start = ann.start\n",
    "\n",
    "                        -- genomic sequence change:\n",
    "                        and var.referenceallele = ann.referenceallele\n",
    "                        and var.alternatealleles = ann.alternatealleles\"\"\", conn)\n",
    "genomic_df.to_csv('s3://multimodal-dataset-clinical-genomic-imaging/genomic_df.csv', index=False)\n",
    "print(\"Complete\")"
   ]
  },
  {
   "cell_type": "code",
   "execution_count": 35,
   "id": "d2adb842-9669-4990-b0c1-8ebbffd22f1a",
   "metadata": {
    "tags": []
   },
   "outputs": [
    {
     "name": "stdout",
     "output_type": "stream",
     "text": [
      "Index(['patientID', 'gene_info', 'clinical_significance', 'contigname',\n",
      "       'start', 'referenceallele', 'alternatealleles', 'phased', 'calls'],\n",
      "      dtype='object')\n"
     ]
    }
   ],
   "source": [
    "genomic_df['gene_info'] = genomic_df['gene_info'].str.split(':').str[0]\n",
    "genomic_df = genomic_df.rename(columns={\"sampleid\": \"patientID\"})\n",
    "print(genomic_df.columns)"
   ]
  },
  {
   "cell_type": "code",
   "execution_count": 36,
   "id": "d53768b4-e727-4e08-b125-f961c3f4c59e",
   "metadata": {
    "tags": []
   },
   "outputs": [
    {
     "name": "stdout",
     "output_type": "stream",
     "text": [
      "Complete\n"
     ]
    }
   ],
   "source": [
    "grouped_genomic_df = genomic_df.groupby(['patientID']).agg({'gene_info':set,\n",
    "                                                                    'clinical_significance':set,\n",
    "                                                                    'contigname': set,\n",
    "                                                                    'start':set,\n",
    "                                                                    'referenceallele':set,\n",
    "                                                                    'alternatealleles': set,\n",
    "                                                                   'phased':set,\n",
    "                                                                    'calls':set\n",
    "                                                                   }).reset_index()\n",
    "grouped_genomic_df.to_csv('s3://multimodal-dataset-clinical-genomic-imaging/grouped_genomic_df.csv', index=False)\n",
    "print(\"Complete\")"
   ]
  },
  {
   "cell_type": "code",
   "execution_count": 37,
   "id": "89708a6a-5c9f-44e4-9f19-7e111c22663b",
   "metadata": {
    "tags": []
   },
   "outputs": [],
   "source": [
    "# Adding the diagnosis code and description columns to be able to identify patient't disease\n",
    "grouped_all_genomic = grouped_all_clinical.merge(grouped_genomic_df, how='right')\n",
    "grouped_all_genomic = grouped_all_genomic[['patientID', 'diagnosisDescription', 'diagnosisCode', 'gene_info',\n",
    "       'clinical_significance', 'contigname', 'start', 'referenceallele',\n",
    "       'alternatealleles', 'phased', 'calls']]\n",
    "grouped_all_genomic = grouped_all_genomic.astype(str).replace({\"{\":\"\", \"}\":\"\"}, regex=True)\n",
    "grouped_all_genomic.to_csv('s3://multimodal-dataset-clinical-genomic-imaging/grouped_all_genomic.csv', index=False)"
   ]
  },
  {
   "cell_type": "code",
   "execution_count": 38,
   "id": "6d8419b5-f9b6-4b20-821e-333236e510b2",
   "metadata": {
    "tags": []
   },
   "outputs": [
    {
     "name": "stdout",
     "output_type": "stream",
     "text": [
      "Totat number of patients with genomic records = 816\n",
      "                              patientID  \\\n",
      "0  0074596f-5fd0-7965-db0f-cce71c81567d   \n",
      "1  0159e45d-0e1c-4108-6cf5-0107b8825389   \n",
      "2  0186c124-2b91-c2a7-79ea-c7fc40845943   \n",
      "3  02281993-cc2a-9ee8-a652-91ecc0203e75   \n",
      "4  0387ed06-9de8-e478-3269-c1ee7cd6d290   \n",
      "\n",
      "                                diagnosisDescription  \\\n",
      "0                                                nan   \n",
      "1                                                nan   \n",
      "2                                                nan   \n",
      "3  'Miscarriage in first trimester', 'Viral sinus...   \n",
      "4  'Viral sinusitis (disorder)', 'Acute viral pha...   \n",
      "\n",
      "                                       diagnosisCode  \\\n",
      "0                                                nan   \n",
      "1                                                nan   \n",
      "2                                                nan   \n",
      "3  '429007001', '410429000', '19169002', '4448140...   \n",
      "4  '10509002', '195662009', '55822004', '15777000...   \n",
      "\n",
      "                                           gene_info  \\\n",
      "0  'SOD3', None, 'TNF', 'LPL', 'F5', 'PON1', 'PPA...   \n",
      "1  'SOD3', None, 'TNF', 'LPL', 'F5', 'PON1', 'PPA...   \n",
      "2  'SOD3', None, 'TNF', 'LPL', 'F5', 'PON1', 'PPA...   \n",
      "3  'SOD3', None, 'TNF', 'LPL', 'F5', 'PON1', 'PPA...   \n",
      "4  'SOD3', None, 'TNF', 'LPL', 'F5', 'PON1', 'PPA...   \n",
      "\n",
      "                               clinical_significance  \\\n",
      "0  'Conflicting_interpretations_of_pathogenicity'...   \n",
      "1  'Conflicting_interpretations_of_pathogenicity'...   \n",
      "2  'Conflicting_interpretations_of_pathogenicity'...   \n",
      "3  'Conflicting_interpretations_of_pathogenicity'...   \n",
      "4  'Conflicting_interpretations_of_pathogenicity'...   \n",
      "\n",
      "                                          contigname  \\\n",
      "0  '14', '9', '6', '16', '17', '8', '10', '11', '...   \n",
      "1  '14', '9', '6', '16', '17', '8', '10', '11', '...   \n",
      "2  '14', '9', '6', '16', '17', '8', '10', '11', '...   \n",
      "3  '14', '9', '6', '16', '17', '8', '10', '11', '...   \n",
      "4  '14', '9', '6', '16', '17', '8', '10', '11', '...   \n",
      "\n",
      "                                               start     referenceallele  \\\n",
      "0  53767041, 44919688, 31667848, 12351625, 449086...  'T', 'G', 'A', 'C'   \n",
      "1  53767041, 44919688, 12351625, 31667848, 449086...  'T', 'G', 'A', 'C'   \n",
      "2  53767041, 44919688, 12351625, 31667848, 449086...  'T', 'G', 'A', 'C'   \n",
      "3  53767041, 44919688, 31667848, 12351625, 449086...  'T', 'G', 'A', 'C'   \n",
      "4  53767041, 44919688, 12351625, 31667848, 449086...  'T', 'G', 'A', 'C'   \n",
      "\n",
      "             alternatealleles phased               calls  \n",
      "0  '[A]', '[C]', '[G]', '[T]'  False  '[1, 1]', '[0, 1]'  \n",
      "1  '[A]', '[C]', '[G]', '[T]'  False  '[1, 1]', '[0, 1]'  \n",
      "2  '[A]', '[C]', '[G]', '[T]'  False  '[1, 1]', '[0, 1]'  \n",
      "3  '[A]', '[C]', '[G]', '[T]'  False            '[0, 1]'  \n",
      "4  '[A]', '[C]', '[G]', '[T]'  False  '[1, 1]', '[0, 1]'  \n"
     ]
    }
   ],
   "source": [
    "print('Totat number of patients with genomic records =', len(grouped_all_genomic))\n",
    "print(grouped_all_genomic.head(5))"
   ]
  },
  {
   "cell_type": "markdown",
   "id": "5654fa83-f236-462e-ae78-5152a151281c",
   "metadata": {},
   "source": [
    "## Imaging single patient records"
   ]
  },
  {
   "cell_type": "code",
   "execution_count": 23,
   "id": "7280a882-b647-4980-b49e-4407b6faaeac",
   "metadata": {
    "tags": []
   },
   "outputs": [
    {
     "name": "stdout",
     "output_type": "stream",
     "text": [
      "Complete\n"
     ]
    }
   ],
   "source": [
    "# updated imaging query\n",
    "\n",
    "image_df = pandas.read_sql(\"\"\"SELECT distinct patient.id, condition.code.coding[1].code as diagnosisCode, code.coding[1].display as diagnosisDescription, radiomicsfeatures.*\n",
    "FROM multimodalhclsdata_6e861ee724a35c9ab6b1ac0652c480b6_healthlake_view.patient,\n",
    "     multimodalhclsdata_6e861ee724a35c9ab6b1ac0652c480b6_healthlake_view.condition,\n",
    "     multimodalhclsdata_6e861ee724a35c9ab6b1ac0652c480b6_healthlake_view.imagingstudy,\n",
    "     sagemaker_featurestore.imaging_feature_group_8bb9799a531d11ee99bbc1ec5fa87df4_1694709686 as radiomicsfeatures,\n",
    "     coherent_dicom.studies\n",
    "WHERE patient.id = condition.subject.reference\n",
    "  and imagingstudy.identifier[1].value = CONCAT('urn:oid:',studies.studyinstanceuid)\n",
    "  and imagingstudy.subject.reference = patient.id\n",
    "  and studies.imagesetid = radiomicsfeatures.imagesetid\"\"\", conn)\n",
    "image_df.to_csv('s3://multimodal-dataset-clinical-genomic-imaging/image_df.csv', index=False)\n",
    "print(\"Complete\")"
   ]
  },
  {
   "cell_type": "code",
   "execution_count": null,
   "id": "5139adb9-b369-4a2e-aa42-a964dbfa787c",
   "metadata": {
    "tags": []
   },
   "outputs": [],
   "source": [
    "# updated imaging query\n",
    "\n",
    "image_df = pandas.read_sql(\"\"\"SELECT distinct patient.id, condition.code.coding[1].code as diagnosisCode, code.coding[1].display as diagnosisDescription, radiomicsfeatures.*\n",
    "FROM multimodalhclsdata_6e861ee724a35c9ab6b1ac0652c480b6_healthlake_view.patient,\n",
    "     multimodalhclsdata_6e861ee724a35c9ab6b1ac0652c480b6_healthlake_view.condition,\n",
    "     multimodalhclsdata_6e861ee724a35c9ab6b1ac0652c480b6_healthlake_view.imagingstudy,\n",
    "     sagemaker_featurestore.imaging_feature_group_8bb9799a531d11ee99bbc1ec5fa87df4_1694709686 as radiomicsfeatures,\n",
    "     coherent_dicom.studies\n",
    "WHERE patient.id = condition.subject.reference\n",
    "  and imagingstudy.identifier[1].value = CONCAT('urn:oid:',studies.studyinstanceuid)\n",
    "  and imagingstudy.subject.reference = patient.id\"\"\", conn)\n",
    "image_df.to_csv('s3://multimodal-dataset-clinical-genomic-imaging/image_df.csv', index=False)\n",
    "print(\"Complete\")"
   ]
  },
  {
   "cell_type": "code",
   "execution_count": 24,
   "id": "2ed08eb0-95bb-4081-97e2-0e32f494a21e",
   "metadata": {
    "tags": []
   },
   "outputs": [],
   "source": [
    "image_df = image_df.rename(columns={\"id\": \"patientID\"})\n",
    "columns = image_df.columns.tolist()\n",
    "columns = columns[1:]\n",
    "grouped_all_imaging= image_df.groupby('patientID').agg(lambda x: set(x)).reset_index()\n",
    "grouped_all_imaging = grouped_all_imaging.astype(str).replace({\"{\":\"\", \"}\":\"\"}, regex=True)\n",
    "grouped_all_imaging = grouped_all_imaging.loc[:, ~grouped_all_imaging.columns.str.startswith('diagnostics')]\n",
    "grouped_all_imaging.to_csv('s3://multimodal-dataset-clinical-genomic-imaging/grouped_all_imaging.csv', index=False)"
   ]
  },
  {
   "cell_type": "code",
   "execution_count": 25,
   "id": "51e4c30e-bb45-4324-add1-fa1b24463bd0",
   "metadata": {
    "tags": []
   },
   "outputs": [
    {
     "name": "stdout",
     "output_type": "stream",
     "text": [
      "Totat number of patients with imaging records = 298\n",
      "                              patientID  \\\n",
      "0  0074596f-5fd0-7965-db0f-cce71c81567d   \n",
      "1  0122b006-83c5-b1fa-cb1d-a75934d9aef1   \n",
      "2  022fe2f8-95dd-54c8-7d0a-f05d5a74d39e   \n",
      "3  02551c0a-12e2-a8d0-d756-408440072685   \n",
      "4  031a8ae5-e01e-bcc9-f83f-874cb909b641   \n",
      "\n",
      "                                       diagnosisCode  \\\n",
      "0  '233604007', '162864005', '22325002', '3868060...   \n",
      "1  '233604007', '162864005', '22325002', '3868060...   \n",
      "2  '22325002', '410429000', '309557009', '7238570...   \n",
      "3  '22325002', '271737000', '70704007', '49436004...   \n",
      "4  '386806002', '22325002', '10509002', '28454900...   \n",
      "\n",
      "                                diagnosisDescription  \\\n",
      "0  'Impaired cognition (finding)', 'Hyperlipidemi...   \n",
      "1  'Impaired cognition (finding)', 'Prediabetes',...   \n",
      "2  'Abnormal gait (finding)', 'Viral sinusitis (d...   \n",
      "3  'Hyperlipidemia', \"Alzheimer's disease (disord...   \n",
      "4  'Impaired cognition (finding)', 'Prediabetes',...   \n",
      "\n",
      "  original_shape_elongation original_shape_flatness  \\\n",
      "0                     '1.0'                   '1.0'   \n",
      "1                     '1.0'                   '1.0'   \n",
      "2                     '1.0'                   '1.0'   \n",
      "3                     '1.0'                   '1.0'   \n",
      "4                     '1.0'                   '1.0'   \n",
      "\n",
      "  original_shape_leastaxislength original_shape_majoraxislength  \\\n",
      "0            '295.6010825419961'            '295.6010825419961'   \n",
      "1            '295.6010825419961'            '295.6010825419961'   \n",
      "2            '295.6010825419961'            '295.6010825419961'   \n",
      "3            '295.6010825419961'            '295.6010825419961'   \n",
      "4            '295.6010825419961'            '295.6010825419961'   \n",
      "\n",
      "  original_shape_maximum2ddiametercolumn original_shape_maximum2ddiameterrow  \\\n",
      "0                   '361.33225707096784'                '361.33225707096784'   \n",
      "1                   '361.33225707096784'                '361.33225707096784'   \n",
      "2                   '361.33225707096784'                '361.33225707096784'   \n",
      "3                   '361.33225707096784'                '361.33225707096784'   \n",
      "4                   '361.33225707096784'                '361.33225707096784'   \n",
      "\n",
      "  original_shape_maximum2ddiameterslice  ... original_ngtdm_coarseness  \\\n",
      "0                  '361.33225707096784'  ...   '4.356913065871555e-07'   \n",
      "1                  '361.33225707096784'  ...  '4.3326965964080467e-07'   \n",
      "2                  '361.33225707096784'  ...  '4.3308927964018057e-07'   \n",
      "3                  '361.33225707096784'  ...  '4.3431567714571246e-07'   \n",
      "4                  '361.33225707096784'  ...   '4.326023106410312e-07'   \n",
      "\n",
      "  original_ngtdm_complexity original_ngtdm_contrast original_ngtdm_strength  \\\n",
      "0      '146182262.74738657'    '2.3802635598883857'     '8.547276310306838'   \n",
      "1       '157603709.5233376'     '2.449808630682721'      '8.98030631454128'   \n",
      "2      '166714751.99288866'    '2.4512209119607995'     '9.200815150419425'   \n",
      "3      '164431337.98789194'    '2.3626705261554495'      '9.62671682096963'   \n",
      "4      '151742180.37222877'    '2.2800523764679306'     '9.056046570637768'   \n",
      "\n",
      "                                 imagingstudyidvalue  \\\n",
      "0   'urn:oid:1.2.840.99999999.62052916.907209530629'   \n",
      "1   'urn:oid:1.2.840.99999999.98603446.970854118536'   \n",
      "2   'urn:oid:1.2.840.99999999.53725985.941298839013'   \n",
      "3   'urn:oid:1.2.840.99999999.74444633.563567839864'   \n",
      "4  'urn:oid:1.2.840.99999999.24799208.1427288497714'   \n",
      "\n",
      "                           imagesetid     eventtime  \\\n",
      "0  '25d2201a67c0feaee83525a5be2d375f'  1694911283.0   \n",
      "1  '476b6b81843ee16741ce3719c436416f'  1694914803.0   \n",
      "2  '7371f1946207ab2b5ec7233e5f208b8b'  1694884358.0   \n",
      "3  '30730b67ff88a314e5c4c703692e2e3f'  1694921615.0   \n",
      "4  '6b560309f4cbc9438b0f5718c41e6e25'  1694919531.0   \n",
      "\n",
      "                                write_time               api_invocation_time  \\\n",
      "0  Timestamp('2023-09-17 00:46:22.502000')  Timestamp('2023-09-17 00:41:23')   \n",
      "1  Timestamp('2023-09-17 01:44:55.324000')  Timestamp('2023-09-17 01:40:03')   \n",
      "2  Timestamp('2023-09-16 17:17:37.594000')  Timestamp('2023-09-16 17:12:37')   \n",
      "3  Timestamp('2023-09-17 03:38:27.426000')  Timestamp('2023-09-17 03:33:34')   \n",
      "4  Timestamp('2023-09-17 03:03:45.829000')  Timestamp('2023-09-17 02:58:51')   \n",
      "\n",
      "  is_deleted  \n",
      "0      False  \n",
      "1      False  \n",
      "2      False  \n",
      "3      False  \n",
      "4      False  \n",
      "\n",
      "[5 rows x 116 columns]\n"
     ]
    }
   ],
   "source": [
    "print('Totat number of patients with imaging records =', len(grouped_all_imaging))\n",
    "print(grouped_all_imaging.head(5))"
   ]
  },
  {
   "cell_type": "markdown",
   "id": "6fecea85-8de4-436c-b85f-2c373a2bb111",
   "metadata": {},
   "source": [
    "## Extracting patients that have all 3 modalities"
   ]
  },
  {
   "cell_type": "code",
   "execution_count": 26,
   "id": "5b9123b7-2f9b-4eb5-9896-cb65374fe9c2",
   "metadata": {
    "tags": []
   },
   "outputs": [],
   "source": [
    "clinical = pandas.read_csv('s3://multimodal-dataset-clinical-genomic-imaging/grouped_all_clinical.csv', encoding='utf-8', dtype='str', keep_default_na=False, na_values=[''])\n",
    "genomic = pandas.read_csv(\"s3://multimodal-dataset-clinical-genomic-imaging/grouped_all_genomic.csv\", encoding='utf-8', dtype='str', keep_default_na=False, na_values=[''])\n",
    "image = pandas.read_csv('s3://multimodal-dataset-clinical-genomic-imaging/grouped_all_imaging.csv', encoding='utf-8', dtype='str', keep_default_na=False, na_values=[''])"
   ]
  },
  {
   "cell_type": "code",
   "execution_count": 27,
   "id": "b67b70f1-d932-4f76-9c1f-de38f641007e",
   "metadata": {
    "tags": []
   },
   "outputs": [
    {
     "name": "stdout",
     "output_type": "stream",
     "text": [
      "Collecting pandasql\n",
      "  Using cached pandasql-0.7.3-py3-none-any.whl\n",
      "Requirement already satisfied: numpy in /opt/conda/lib/python3.7/site-packages (from pandasql) (1.21.6)\n",
      "Requirement already satisfied: pandas in /opt/conda/lib/python3.7/site-packages (from pandasql) (1.3.5)\n",
      "Requirement already satisfied: sqlalchemy in /opt/conda/lib/python3.7/site-packages (from pandasql) (1.3.13)\n",
      "Requirement already satisfied: python-dateutil>=2.7.3 in /opt/conda/lib/python3.7/site-packages (from pandas->pandasql) (2.8.2)\n",
      "Requirement already satisfied: pytz>=2017.3 in /opt/conda/lib/python3.7/site-packages (from pandas->pandasql) (2019.3)\n",
      "Requirement already satisfied: six>=1.5 in /opt/conda/lib/python3.7/site-packages (from python-dateutil>=2.7.3->pandas->pandasql) (1.14.0)\n",
      "Installing collected packages: pandasql\n",
      "Successfully installed pandasql-0.7.3\n",
      "\u001b[33mWARNING: Running pip as the 'root' user can result in broken permissions and conflicting behaviour with the system package manager. It is recommended to use a virtual environment instead: https://pip.pypa.io/warnings/venv\u001b[0m\u001b[33m\n",
      "\u001b[0m\n",
      "\u001b[1m[\u001b[0m\u001b[34;49mnotice\u001b[0m\u001b[1;39;49m]\u001b[0m\u001b[39;49m A new release of pip is available: \u001b[0m\u001b[31;49m23.1.2\u001b[0m\u001b[39;49m -> \u001b[0m\u001b[32;49m23.2.1\u001b[0m\n",
      "\u001b[1m[\u001b[0m\u001b[34;49mnotice\u001b[0m\u001b[1;39;49m]\u001b[0m\u001b[39;49m To update, run: \u001b[0m\u001b[32;49mpip install --upgrade pip\u001b[0m\n"
     ]
    }
   ],
   "source": [
    "!pip install pandasql\n",
    "from pandasql import sqldf"
   ]
  },
  {
   "cell_type": "code",
   "execution_count": 47,
   "id": "1cddba87-bd4e-4d2d-b082-bbecd2cedf2c",
   "metadata": {
    "tags": []
   },
   "outputs": [
    {
     "name": "stdout",
     "output_type": "stream",
     "text": [
      "Index(['patientID', 'diagnosticType', 'diagnosticCategory', 'diagnosticResult',\n",
      "       'name', 'gender', 'maritalstatus', 'addressline', 'city', 'state',\n",
      "       'postalcode', 'country', 'latitude', 'longitude',\n",
      "       'diagnosisDescription', 'diagnosisCode', 'onsetdatetime',\n",
      "       'deceasedIndicator', 'deceaseddatetime', 'conditionId', 'categoryCode',\n",
      "       'categoryDescription', 'vaccinations', 'imageCode', 'imagingName',\n",
      "       'imageBodyPart', 'imageTitle', 'encounterCode', 'encounterReason',\n",
      "       'encounterDiagnosis', 'hospitalizationStatus', 'medicationDisplay',\n",
      "       'medicationDate', 'medicationStatus', 'claim', 'observationType',\n",
      "       'observationText', 'observationDisplay', 'procedureType'],\n",
      "      dtype='object')\n",
      "151\n"
     ]
    }
   ],
   "source": [
    "clinical_query = '''select clinical.patientID, diagnosticType, diagnosticCategory, diagnosticResult,\n",
    "       name, gender, maritalstatus, addressline, city, state,\n",
    "       postalcode, country, latitude, longitude,\n",
    "       clinical.diagnosisDescription, clinical.diagnosisCode, onsetdatetime,\n",
    "       deceasedIndicator, deceaseddatetime, conditionId, categoryCode,\n",
    "       categoryDescription, vaccinations, imageCode, imagingName,\n",
    "       imageBodyPart, imageTitle, encounterCode, encounterReason,\n",
    "       encounterDiagnosis, hospitalizationStatus, medicationDisplay,\n",
    "       medicationDate, medicationStatus, claim, observationType,\n",
    "       observationText, observationDisplay, procedureType\n",
    "       from clinical, genomic, image where clinical.patientID = genomic.patientID AND clinical.patientID = image.patientID'''\n",
    "final_clinical_df = sqldf(clinical_query)\n",
    "print(final_clinical_df.columns)\n",
    "print(len(final_clinical_df))\n",
    "final_clinical_df.to_csv('s3://multimodal-dataset-clinical-genomic-imaging/final_clinical_df.csv', index=False)"
   ]
  },
  {
   "cell_type": "code",
   "execution_count": 48,
   "id": "2ab44bc1-0baa-415f-a726-b5c701d4c949",
   "metadata": {
    "tags": []
   },
   "outputs": [
    {
     "name": "stdout",
     "output_type": "stream",
     "text": [
      "Index(['patientID', 'diagnosisDescription', 'diagnosisCode', 'gene_info',\n",
      "       'clinical_significance', 'contigname', 'start', 'referenceallele',\n",
      "       'alternatealleles', 'phased', 'calls'],\n",
      "      dtype='object')\n",
      "151\n"
     ]
    }
   ],
   "source": [
    "genomic_query = '''select clinical.patientID, clinical.diagnosisDescription, clinical.diagnosisCode, gene_info, clinical_significance, contigname,\n",
    "       start, referenceallele, alternatealleles, phased, calls\n",
    "       from clinical, genomic, image where clinical.patientID = genomic.patientID AND clinical.patientID = image.patientID'''\n",
    "final_genomic_df = sqldf(genomic_query)\n",
    "print(final_genomic_df.columns)\n",
    "print(len(final_genomic_df))\n",
    "final_genomic_df.to_csv('s3://multimodal-dataset-clinical-genomic-imaging/final_genomic_df.csv', index=False)"
   ]
  },
  {
   "cell_type": "code",
   "execution_count": 28,
   "id": "9e16d978-ee86-47f9-ae5b-8d13ca99c0f1",
   "metadata": {
    "tags": []
   },
   "outputs": [
    {
     "name": "stdout",
     "output_type": "stream",
     "text": [
      "Index(['patientID', 'diagnosisDescription', 'diagnosisCode',\n",
      "       'original_shape_elongation', 'original_shape_flatness',\n",
      "       'original_shape_leastaxislength', 'original_shape_majoraxislength',\n",
      "       'original_shape_maximum2ddiametercolumn',\n",
      "       'original_shape_maximum2ddiameterrow',\n",
      "       'original_shape_maximum2ddiameterslice',\n",
      "       ...\n",
      "       'original_glszm_zoneentropy', 'original_glszm_zonepercentage',\n",
      "       'original_glszm_zonevariance', 'original_ngtdm_busyness',\n",
      "       'original_ngtdm_coarseness', 'original_ngtdm_complexity',\n",
      "       'original_ngtdm_contrast', 'original_ngtdm_strength',\n",
      "       'imagingstudyidvalue', 'imagesetid'],\n",
      "      dtype='object', length=112)\n",
      "151\n"
     ]
    }
   ],
   "source": [
    "imaging_query = '''select * from clinical, genomic, image where clinical.patientID = genomic.patientID AND clinical.patientID = image.patientID'''\n",
    "image_df = sqldf(imaging_query)\n",
    "image_df = image_df.drop(columns = ['diagnosticType', 'diagnosticCategory', 'diagnosticResult',\n",
    "       'name', 'gender', 'maritalstatus', 'addressline', 'city', 'state',\n",
    "       'postalcode', 'country', 'latitude', 'longitude', 'onsetdatetime',\n",
    "       'deceasedIndicator', 'deceaseddatetime', 'conditionId', 'categoryCode',\n",
    "       'categoryDescription', 'vaccinations', 'imageCode', 'imagingName',\n",
    "       'imageBodyPart', 'imageTitle', 'encounterCode', 'encounterReason',\n",
    "       'encounterDiagnosis', 'hospitalizationStatus', 'medicationDisplay',\n",
    "       'medicationDate', 'medicationStatus', 'claim', 'observationType',\n",
    "       'observationText', 'observationDisplay', 'procedureType', 'gene_info',\n",
    "       'clinical_significance', 'contigname', 'start', 'referenceallele',\n",
    "       'alternatealleles', 'phased', 'calls', 'eventtime', 'write_time',\n",
    "       'api_invocation_time', 'is_deleted'])\n",
    "final_imaging_df =image_df.iloc[:,~image_df.columns.duplicated()]\n",
    "final_imaging_df.to_csv('s3://multimodal-dataset-clinical-genomic-imaging/final_imaging_df.csv', index=False)\n",
    "print(final_imaging_df.columns)\n",
    "print(len(final_imaging_df))"
   ]
  },
  {
   "cell_type": "code",
   "execution_count": null,
   "id": "b669c304-4b9d-45ea-9d97-627cfd8fed6c",
   "metadata": {},
   "outputs": [],
   "source": []
  },
  {
   "cell_type": "code",
   "execution_count": null,
   "id": "1907b292-4795-486c-a1d1-aa9755db42a9",
   "metadata": {},
   "outputs": [],
   "source": []
  }
 ],
 "metadata": {
  "availableInstances": [
   {
    "_defaultOrder": 0,
    "_isFastLaunch": true,
    "category": "General purpose",
    "gpuNum": 0,
    "hideHardwareSpecs": false,
    "memoryGiB": 4,
    "name": "ml.t3.medium",
    "vcpuNum": 2
   },
   {
    "_defaultOrder": 1,
    "_isFastLaunch": false,
    "category": "General purpose",
    "gpuNum": 0,
    "hideHardwareSpecs": false,
    "memoryGiB": 8,
    "name": "ml.t3.large",
    "vcpuNum": 2
   },
   {
    "_defaultOrder": 2,
    "_isFastLaunch": false,
    "category": "General purpose",
    "gpuNum": 0,
    "hideHardwareSpecs": false,
    "memoryGiB": 16,
    "name": "ml.t3.xlarge",
    "vcpuNum": 4
   },
   {
    "_defaultOrder": 3,
    "_isFastLaunch": false,
    "category": "General purpose",
    "gpuNum": 0,
    "hideHardwareSpecs": false,
    "memoryGiB": 32,
    "name": "ml.t3.2xlarge",
    "vcpuNum": 8
   },
   {
    "_defaultOrder": 4,
    "_isFastLaunch": true,
    "category": "General purpose",
    "gpuNum": 0,
    "hideHardwareSpecs": false,
    "memoryGiB": 8,
    "name": "ml.m5.large",
    "vcpuNum": 2
   },
   {
    "_defaultOrder": 5,
    "_isFastLaunch": false,
    "category": "General purpose",
    "gpuNum": 0,
    "hideHardwareSpecs": false,
    "memoryGiB": 16,
    "name": "ml.m5.xlarge",
    "vcpuNum": 4
   },
   {
    "_defaultOrder": 6,
    "_isFastLaunch": false,
    "category": "General purpose",
    "gpuNum": 0,
    "hideHardwareSpecs": false,
    "memoryGiB": 32,
    "name": "ml.m5.2xlarge",
    "vcpuNum": 8
   },
   {
    "_defaultOrder": 7,
    "_isFastLaunch": false,
    "category": "General purpose",
    "gpuNum": 0,
    "hideHardwareSpecs": false,
    "memoryGiB": 64,
    "name": "ml.m5.4xlarge",
    "vcpuNum": 16
   },
   {
    "_defaultOrder": 8,
    "_isFastLaunch": false,
    "category": "General purpose",
    "gpuNum": 0,
    "hideHardwareSpecs": false,
    "memoryGiB": 128,
    "name": "ml.m5.8xlarge",
    "vcpuNum": 32
   },
   {
    "_defaultOrder": 9,
    "_isFastLaunch": false,
    "category": "General purpose",
    "gpuNum": 0,
    "hideHardwareSpecs": false,
    "memoryGiB": 192,
    "name": "ml.m5.12xlarge",
    "vcpuNum": 48
   },
   {
    "_defaultOrder": 10,
    "_isFastLaunch": false,
    "category": "General purpose",
    "gpuNum": 0,
    "hideHardwareSpecs": false,
    "memoryGiB": 256,
    "name": "ml.m5.16xlarge",
    "vcpuNum": 64
   },
   {
    "_defaultOrder": 11,
    "_isFastLaunch": false,
    "category": "General purpose",
    "gpuNum": 0,
    "hideHardwareSpecs": false,
    "memoryGiB": 384,
    "name": "ml.m5.24xlarge",
    "vcpuNum": 96
   },
   {
    "_defaultOrder": 12,
    "_isFastLaunch": false,
    "category": "General purpose",
    "gpuNum": 0,
    "hideHardwareSpecs": false,
    "memoryGiB": 8,
    "name": "ml.m5d.large",
    "vcpuNum": 2
   },
   {
    "_defaultOrder": 13,
    "_isFastLaunch": false,
    "category": "General purpose",
    "gpuNum": 0,
    "hideHardwareSpecs": false,
    "memoryGiB": 16,
    "name": "ml.m5d.xlarge",
    "vcpuNum": 4
   },
   {
    "_defaultOrder": 14,
    "_isFastLaunch": false,
    "category": "General purpose",
    "gpuNum": 0,
    "hideHardwareSpecs": false,
    "memoryGiB": 32,
    "name": "ml.m5d.2xlarge",
    "vcpuNum": 8
   },
   {
    "_defaultOrder": 15,
    "_isFastLaunch": false,
    "category": "General purpose",
    "gpuNum": 0,
    "hideHardwareSpecs": false,
    "memoryGiB": 64,
    "name": "ml.m5d.4xlarge",
    "vcpuNum": 16
   },
   {
    "_defaultOrder": 16,
    "_isFastLaunch": false,
    "category": "General purpose",
    "gpuNum": 0,
    "hideHardwareSpecs": false,
    "memoryGiB": 128,
    "name": "ml.m5d.8xlarge",
    "vcpuNum": 32
   },
   {
    "_defaultOrder": 17,
    "_isFastLaunch": false,
    "category": "General purpose",
    "gpuNum": 0,
    "hideHardwareSpecs": false,
    "memoryGiB": 192,
    "name": "ml.m5d.12xlarge",
    "vcpuNum": 48
   },
   {
    "_defaultOrder": 18,
    "_isFastLaunch": false,
    "category": "General purpose",
    "gpuNum": 0,
    "hideHardwareSpecs": false,
    "memoryGiB": 256,
    "name": "ml.m5d.16xlarge",
    "vcpuNum": 64
   },
   {
    "_defaultOrder": 19,
    "_isFastLaunch": false,
    "category": "General purpose",
    "gpuNum": 0,
    "hideHardwareSpecs": false,
    "memoryGiB": 384,
    "name": "ml.m5d.24xlarge",
    "vcpuNum": 96
   },
   {
    "_defaultOrder": 20,
    "_isFastLaunch": false,
    "category": "General purpose",
    "gpuNum": 0,
    "hideHardwareSpecs": true,
    "memoryGiB": 0,
    "name": "ml.geospatial.interactive",
    "supportedImageNames": [
     "sagemaker-geospatial-v1-0"
    ],
    "vcpuNum": 0
   },
   {
    "_defaultOrder": 21,
    "_isFastLaunch": true,
    "category": "Compute optimized",
    "gpuNum": 0,
    "hideHardwareSpecs": false,
    "memoryGiB": 4,
    "name": "ml.c5.large",
    "vcpuNum": 2
   },
   {
    "_defaultOrder": 22,
    "_isFastLaunch": false,
    "category": "Compute optimized",
    "gpuNum": 0,
    "hideHardwareSpecs": false,
    "memoryGiB": 8,
    "name": "ml.c5.xlarge",
    "vcpuNum": 4
   },
   {
    "_defaultOrder": 23,
    "_isFastLaunch": false,
    "category": "Compute optimized",
    "gpuNum": 0,
    "hideHardwareSpecs": false,
    "memoryGiB": 16,
    "name": "ml.c5.2xlarge",
    "vcpuNum": 8
   },
   {
    "_defaultOrder": 24,
    "_isFastLaunch": false,
    "category": "Compute optimized",
    "gpuNum": 0,
    "hideHardwareSpecs": false,
    "memoryGiB": 32,
    "name": "ml.c5.4xlarge",
    "vcpuNum": 16
   },
   {
    "_defaultOrder": 25,
    "_isFastLaunch": false,
    "category": "Compute optimized",
    "gpuNum": 0,
    "hideHardwareSpecs": false,
    "memoryGiB": 72,
    "name": "ml.c5.9xlarge",
    "vcpuNum": 36
   },
   {
    "_defaultOrder": 26,
    "_isFastLaunch": false,
    "category": "Compute optimized",
    "gpuNum": 0,
    "hideHardwareSpecs": false,
    "memoryGiB": 96,
    "name": "ml.c5.12xlarge",
    "vcpuNum": 48
   },
   {
    "_defaultOrder": 27,
    "_isFastLaunch": false,
    "category": "Compute optimized",
    "gpuNum": 0,
    "hideHardwareSpecs": false,
    "memoryGiB": 144,
    "name": "ml.c5.18xlarge",
    "vcpuNum": 72
   },
   {
    "_defaultOrder": 28,
    "_isFastLaunch": false,
    "category": "Compute optimized",
    "gpuNum": 0,
    "hideHardwareSpecs": false,
    "memoryGiB": 192,
    "name": "ml.c5.24xlarge",
    "vcpuNum": 96
   },
   {
    "_defaultOrder": 29,
    "_isFastLaunch": true,
    "category": "Accelerated computing",
    "gpuNum": 1,
    "hideHardwareSpecs": false,
    "memoryGiB": 16,
    "name": "ml.g4dn.xlarge",
    "vcpuNum": 4
   },
   {
    "_defaultOrder": 30,
    "_isFastLaunch": false,
    "category": "Accelerated computing",
    "gpuNum": 1,
    "hideHardwareSpecs": false,
    "memoryGiB": 32,
    "name": "ml.g4dn.2xlarge",
    "vcpuNum": 8
   },
   {
    "_defaultOrder": 31,
    "_isFastLaunch": false,
    "category": "Accelerated computing",
    "gpuNum": 1,
    "hideHardwareSpecs": false,
    "memoryGiB": 64,
    "name": "ml.g4dn.4xlarge",
    "vcpuNum": 16
   },
   {
    "_defaultOrder": 32,
    "_isFastLaunch": false,
    "category": "Accelerated computing",
    "gpuNum": 1,
    "hideHardwareSpecs": false,
    "memoryGiB": 128,
    "name": "ml.g4dn.8xlarge",
    "vcpuNum": 32
   },
   {
    "_defaultOrder": 33,
    "_isFastLaunch": false,
    "category": "Accelerated computing",
    "gpuNum": 4,
    "hideHardwareSpecs": false,
    "memoryGiB": 192,
    "name": "ml.g4dn.12xlarge",
    "vcpuNum": 48
   },
   {
    "_defaultOrder": 34,
    "_isFastLaunch": false,
    "category": "Accelerated computing",
    "gpuNum": 1,
    "hideHardwareSpecs": false,
    "memoryGiB": 256,
    "name": "ml.g4dn.16xlarge",
    "vcpuNum": 64
   },
   {
    "_defaultOrder": 35,
    "_isFastLaunch": false,
    "category": "Accelerated computing",
    "gpuNum": 1,
    "hideHardwareSpecs": false,
    "memoryGiB": 61,
    "name": "ml.p3.2xlarge",
    "vcpuNum": 8
   },
   {
    "_defaultOrder": 36,
    "_isFastLaunch": false,
    "category": "Accelerated computing",
    "gpuNum": 4,
    "hideHardwareSpecs": false,
    "memoryGiB": 244,
    "name": "ml.p3.8xlarge",
    "vcpuNum": 32
   },
   {
    "_defaultOrder": 37,
    "_isFastLaunch": false,
    "category": "Accelerated computing",
    "gpuNum": 8,
    "hideHardwareSpecs": false,
    "memoryGiB": 488,
    "name": "ml.p3.16xlarge",
    "vcpuNum": 64
   },
   {
    "_defaultOrder": 38,
    "_isFastLaunch": false,
    "category": "Accelerated computing",
    "gpuNum": 8,
    "hideHardwareSpecs": false,
    "memoryGiB": 768,
    "name": "ml.p3dn.24xlarge",
    "vcpuNum": 96
   },
   {
    "_defaultOrder": 39,
    "_isFastLaunch": false,
    "category": "Memory Optimized",
    "gpuNum": 0,
    "hideHardwareSpecs": false,
    "memoryGiB": 16,
    "name": "ml.r5.large",
    "vcpuNum": 2
   },
   {
    "_defaultOrder": 40,
    "_isFastLaunch": false,
    "category": "Memory Optimized",
    "gpuNum": 0,
    "hideHardwareSpecs": false,
    "memoryGiB": 32,
    "name": "ml.r5.xlarge",
    "vcpuNum": 4
   },
   {
    "_defaultOrder": 41,
    "_isFastLaunch": false,
    "category": "Memory Optimized",
    "gpuNum": 0,
    "hideHardwareSpecs": false,
    "memoryGiB": 64,
    "name": "ml.r5.2xlarge",
    "vcpuNum": 8
   },
   {
    "_defaultOrder": 42,
    "_isFastLaunch": false,
    "category": "Memory Optimized",
    "gpuNum": 0,
    "hideHardwareSpecs": false,
    "memoryGiB": 128,
    "name": "ml.r5.4xlarge",
    "vcpuNum": 16
   },
   {
    "_defaultOrder": 43,
    "_isFastLaunch": false,
    "category": "Memory Optimized",
    "gpuNum": 0,
    "hideHardwareSpecs": false,
    "memoryGiB": 256,
    "name": "ml.r5.8xlarge",
    "vcpuNum": 32
   },
   {
    "_defaultOrder": 44,
    "_isFastLaunch": false,
    "category": "Memory Optimized",
    "gpuNum": 0,
    "hideHardwareSpecs": false,
    "memoryGiB": 384,
    "name": "ml.r5.12xlarge",
    "vcpuNum": 48
   },
   {
    "_defaultOrder": 45,
    "_isFastLaunch": false,
    "category": "Memory Optimized",
    "gpuNum": 0,
    "hideHardwareSpecs": false,
    "memoryGiB": 512,
    "name": "ml.r5.16xlarge",
    "vcpuNum": 64
   },
   {
    "_defaultOrder": 46,
    "_isFastLaunch": false,
    "category": "Memory Optimized",
    "gpuNum": 0,
    "hideHardwareSpecs": false,
    "memoryGiB": 768,
    "name": "ml.r5.24xlarge",
    "vcpuNum": 96
   },
   {
    "_defaultOrder": 47,
    "_isFastLaunch": false,
    "category": "Accelerated computing",
    "gpuNum": 1,
    "hideHardwareSpecs": false,
    "memoryGiB": 16,
    "name": "ml.g5.xlarge",
    "vcpuNum": 4
   },
   {
    "_defaultOrder": 48,
    "_isFastLaunch": false,
    "category": "Accelerated computing",
    "gpuNum": 1,
    "hideHardwareSpecs": false,
    "memoryGiB": 32,
    "name": "ml.g5.2xlarge",
    "vcpuNum": 8
   },
   {
    "_defaultOrder": 49,
    "_isFastLaunch": false,
    "category": "Accelerated computing",
    "gpuNum": 1,
    "hideHardwareSpecs": false,
    "memoryGiB": 64,
    "name": "ml.g5.4xlarge",
    "vcpuNum": 16
   },
   {
    "_defaultOrder": 50,
    "_isFastLaunch": false,
    "category": "Accelerated computing",
    "gpuNum": 1,
    "hideHardwareSpecs": false,
    "memoryGiB": 128,
    "name": "ml.g5.8xlarge",
    "vcpuNum": 32
   },
   {
    "_defaultOrder": 51,
    "_isFastLaunch": false,
    "category": "Accelerated computing",
    "gpuNum": 1,
    "hideHardwareSpecs": false,
    "memoryGiB": 256,
    "name": "ml.g5.16xlarge",
    "vcpuNum": 64
   },
   {
    "_defaultOrder": 52,
    "_isFastLaunch": false,
    "category": "Accelerated computing",
    "gpuNum": 4,
    "hideHardwareSpecs": false,
    "memoryGiB": 192,
    "name": "ml.g5.12xlarge",
    "vcpuNum": 48
   },
   {
    "_defaultOrder": 53,
    "_isFastLaunch": false,
    "category": "Accelerated computing",
    "gpuNum": 4,
    "hideHardwareSpecs": false,
    "memoryGiB": 384,
    "name": "ml.g5.24xlarge",
    "vcpuNum": 96
   },
   {
    "_defaultOrder": 54,
    "_isFastLaunch": false,
    "category": "Accelerated computing",
    "gpuNum": 8,
    "hideHardwareSpecs": false,
    "memoryGiB": 768,
    "name": "ml.g5.48xlarge",
    "vcpuNum": 192
   },
   {
    "_defaultOrder": 55,
    "_isFastLaunch": false,
    "category": "Accelerated computing",
    "gpuNum": 8,
    "hideHardwareSpecs": false,
    "memoryGiB": 1152,
    "name": "ml.p4d.24xlarge",
    "vcpuNum": 96
   },
   {
    "_defaultOrder": 56,
    "_isFastLaunch": false,
    "category": "Accelerated computing",
    "gpuNum": 8,
    "hideHardwareSpecs": false,
    "memoryGiB": 1152,
    "name": "ml.p4de.24xlarge",
    "vcpuNum": 96
   },
   {
    "_defaultOrder": 57,
    "_isFastLaunch": false,
    "category": "Accelerated computing",
    "gpuNum": 0,
    "hideHardwareSpecs": false,
    "memoryGiB": 32,
    "name": "ml.trn1.2xlarge",
    "vcpuNum": 8
   },
   {
    "_defaultOrder": 58,
    "_isFastLaunch": false,
    "category": "Accelerated computing",
    "gpuNum": 0,
    "hideHardwareSpecs": false,
    "memoryGiB": 512,
    "name": "ml.trn1.32xlarge",
    "vcpuNum": 128
   },
   {
    "_defaultOrder": 59,
    "_isFastLaunch": false,
    "category": "Accelerated computing",
    "gpuNum": 0,
    "hideHardwareSpecs": false,
    "memoryGiB": 512,
    "name": "ml.trn1n.32xlarge",
    "vcpuNum": 128
   }
  ],
  "instance_type": "ml.t3.medium",
  "kernelspec": {
   "display_name": "Python 3 (Data Science 3.0)",
   "language": "python",
   "name": "python3__SAGEMAKER_INTERNAL__arn:aws:sagemaker:us-east-1:081325390199:image/sagemaker-data-science-310-v1"
  },
  "language_info": {
   "codemirror_mode": {
    "name": "ipython",
    "version": 3
   },
   "file_extension": ".py",
   "mimetype": "text/x-python",
   "name": "python",
   "nbconvert_exporter": "python",
   "pygments_lexer": "ipython3",
   "version": "3.10.6"
  }
 },
 "nbformat": 4,
 "nbformat_minor": 5
}
